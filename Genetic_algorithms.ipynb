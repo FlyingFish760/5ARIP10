{
 "cells": [
  {
   "cell_type": "code",
   "execution_count": 1,
   "metadata": {},
   "outputs": [],
   "source": [
    "import random\n",
    "import numpy  as np"
   ]
  },
  {
   "attachments": {},
   "cell_type": "markdown",
   "metadata": {},
   "source": [
    "# Load in the data"
   ]
  },
  {
   "cell_type": "code",
   "execution_count": 2,
   "metadata": {},
   "outputs": [],
   "source": [
    "#Import libaries\n",
    "import matplotlib.pyplot as plt\n",
    "import numpy as np\n",
    "from scipy.fft import fft, ifft\n",
    "from scipy.io import wavfile \n",
    "from scipy.signal import filtfilt, butter\n",
    "from pylab import *\n",
    "import os\n",
    "import librosa\n",
    "\n",
    "#Import self-written functions\n",
    "from HD_model import HD_statistical_functions as sf\n",
    "from HD_Model_NEW import HD_DataLoader as dl"
   ]
  },
  {
   "cell_type": "code",
   "execution_count": 3,
   "metadata": {},
   "outputs": [
    {
     "name": "stdout",
     "output_type": "stream",
     "text": [
      "---------------------------------------------------------\n",
      "Generating database for HD's\n"
     ]
    }
   ],
   "source": [
    "HD_dl = dl.HD(r'E:\\5ARIP0_Interdisciplinary_team_project\\data_analyse\\5ARIP10\\HD_Model_NEW\\HD_data')\n",
    "HD_database = HD_dl.generate_database()\n",
    "# print(HD_database)"
   ]
  },
  {
   "cell_type": "code",
   "execution_count": 4,
   "metadata": {},
   "outputs": [
    {
     "name": "stdout",
     "output_type": "stream",
     "text": [
      "(11, 3, 192000)\n",
      "(11, 1, 2646000, 2)\n"
     ]
    }
   ],
   "source": [
    "# load vibration data\n",
    "\n",
    "anom_vibr = []\n",
    "norm_vibr = []\n",
    "\n",
    "keys_vibr = ['X_vibr', 'Y_vibr', 'Z_vibr']\n",
    "for test in HD_database:\n",
    "    if HD_database[test]['attributes']['HD_status'] == 1:  # it is faulty HD\n",
    "        vibr = {key: HD_database[test]['Vibration'][key] for key in keys_vibr}\n",
    "        anom_vibr.append([vibr[key] for key in keys_vibr])\n",
    "    elif HD_database[test]['attributes']['HD_status'] == 0:  # it is working HD\n",
    "        vibr = {key: HD_database[test]['Vibration'][key] for key in keys_vibr}\n",
    "        norm_vibr.append([vibr[key] for key in keys_vibr])\n",
    "\n",
    "anom_vibr = np.array(anom_vibr)\n",
    "norm_vibr = np.array(norm_vibr)\n",
    "vibr_data = np.concatenate((norm_vibr, anom_vibr), axis=0)\n",
    "\n",
    "print(vibr_data.shape)\n",
    "\n",
    "# load microphone data\n",
    "\n",
    "anom_mic = []\n",
    "norm_mic = []\n",
    "\n",
    "keys_mic = ['Data']\n",
    "for test in HD_database:\n",
    "    if HD_database[test]['attributes']['HD_status'] == 1:  # it is faulty HD\n",
    "        mic = {key: HD_database[test]['Microphone'][key] for key in keys_mic}\n",
    "        anom_mic.append([mic[key] for key in keys_mic])\n",
    "    elif HD_database[test]['attributes']['HD_status'] == 0:  # it is working HD\n",
    "        mic = {key: HD_database[test]['Microphone'][key] for key in keys_mic}\n",
    "        norm_mic.append([mic[key] for key in keys_mic])\n",
    "\n",
    "anom_mic = np.array(anom_mic)\n",
    "norm_mic = np.array(norm_mic)\n",
    "mic_data = np.concatenate((norm_mic, anom_mic), axis=0)\n",
    "\n",
    "print(mic_data.shape)"
   ]
  },
  {
   "cell_type": "code",
   "execution_count": 33,
   "metadata": {},
   "outputs": [],
   "source": [
    "# extract features\n",
    "\n",
    "vibr_feats = sf.split_extract_vibr_features(data = vibr_data, x = 3200)   # use fs as x\n",
    "# print(vibr_feats.shape)\n",
    "mic_feats = sf.split_extract_mic_features(data = mic_data, x = 44100)   # use fs as x\n",
    "# print(mic_feats.shape)\n",
    "feature_map = np.hstack((vibr_feats, mic_feats))\n",
    "# print(feature_map.shape)\n",
    "\n",
    "# normalize data (use min-max normalizaton: (x-min)/(max-min))\n",
    "for i in range(feature_map.shape[1]):\n",
    "    colomn_min = np.min(feature_map[:, i])\n",
    "    colomn_max = np.max(feature_map[:, i])\n",
    "    for j in range(feature_map.shape[0]):\n",
    "        feature_map[j, i] = (feature_map[j, i] - colomn_min)/(colomn_max - colomn_min)"
   ]
  },
  {
   "attachments": {},
   "cell_type": "markdown",
   "metadata": {},
   "source": [
    "# Perform GA"
   ]
  },
  {
   "cell_type": "code",
   "execution_count": 43,
   "metadata": {},
   "outputs": [],
   "source": [
    "import random\n",
    "import numpy  as np\n",
    "\n",
    "# define the fitness function\n",
    "def  calculate_fitness(individual , X):\n",
    "    # Convert  binary  string  to  boolean  mask\n",
    "    mask = np.array(list(individual), dtype=bool)\n",
    "    # Apply  mask to  dataset\n",
    "    X_masked = X[:, mask]\n",
    "    # Calculate  variance  of each  feature\n",
    "    variances = np.var(X_masked , axis =0)\n",
    "    # Calculate  fitness  as the  sum of  variances\n",
    "    fitness = np.sum(variances)\n",
    "    \n",
    "    return  fitness\n",
    "\n",
    "\n",
    "# define the genetic algorithm\n",
    "def genetic_algorithm(data, n_features, population_size, num_genes, calculate_fitness, mutation_rate, elitism_rate, num_generations):\n",
    "    \"\"\" \n",
    "    Implement genetic algorithm which derives features of low dimentionality from feature of high dimensionality. (dimensionality of features reduction)\n",
    "\n",
    "    Params:\n",
    "    data: input data on which genetic algorithm will be implemented; size: n_samples * n_features (high dimension)\n",
    "    n_features: target number of features (low dimension)\n",
    "    population_size: population size initialization: 2 to the n_feature (high) th \n",
    "    num_genes: = n_features (high dimension)\n",
    "    calculate_fitness: fitness score function\n",
    "    mutation_rate: mutation rate, between (0, 1) \n",
    "    elitism_rate: elitism rate, between (0, 1)\n",
    "    num_generations: number of generations\n",
    "    \n",
    "\n",
    "    return: features of low dimenstionatlity\n",
    "    \"\"\"\n",
    "    # initialize the population\n",
    "    population = []\n",
    "    for i in range(population_size):\n",
    "        individual = [0] * num_genes  # initialize all genes to zeros\n",
    "        for j in random.sample(range(num_genes), n_features):  # choose genes locations randomly\n",
    "            individual[j] = 1  # set the chosen genes locations to one\n",
    "        population.append(individual)\n",
    "\n",
    "    # run the evolution loop for num_generations\n",
    "    for generation in range(num_generations):\n",
    "        # evaluate the fitness of each individual in the population\n",
    "        fitness_values = [calculate_fitness(individual, data) for individual in population]\n",
    "\n",
    "        # select the fittest individuals for the next generation\n",
    "        num_elites = int(elitism_rate * population_size)\n",
    "        elites = sorted(range(len(population)), key=lambda i: fitness_values[i], reverse=True)[:num_elites]\n",
    "        next_generation = [population[i] for i in elites]\n",
    "\n",
    "        # breed new individuals to fill the rest of the next generation\n",
    "        while len(next_generation) < population_size:\n",
    "            \"\"\" parent1, parent2 = random.choices(population, weights=fitness_values, k=2)\n",
    "            child = []\n",
    "            # to ensure number of genes chosen will not exceed n_features, we will select a crossover point, then copy the genes before the location from parent1, and copy the rest\n",
    "            #of genes after the location from parent2\n",
    "            crossover_point = random.randint(1, num_genes-1)   # choose a crossover point\n",
    "            # perform crossover\n",
    "            child = parent1[:crossover_point] + parent2[crossover_point:] \"\"\"\n",
    "            parent1, parent2 = random.choices(population, weights=fitness_values, k=2)\n",
    "            child = [parent1[i] if random.random() < 0.5 else parent2[i] for i in range(num_genes)]\n",
    "            # if the number of genes chosen exceeds n_features, then we will randomly set genes to zero until the number is equal to n_features\n",
    "            while sum(child) >= n_features:\n",
    "                random_index = random.randint(0, len(child) - 1)\n",
    "                child[random_index] = 0\n",
    "\n",
    "            # in mutation operation, in order to ensure number of genes chosen will not exceed n_features, we will check if the number of genes chosen already equals to n_features,\n",
    "            # if so, we will not proceed mutation operation. If not, we will continue to choose one genes to make negation\n",
    "            if random.random() < mutation_rate:\n",
    "                gene_to_mutate = random.randint(0, num_genes-1)\n",
    "                if sum(child) < n_features:\n",
    "                    child[gene_to_mutate] = 1 - child[gene_to_mutate]\n",
    "            next_generation.append(child)\n",
    "            \n",
    "\n",
    "        # replace the old population with the new generation\n",
    "        population = next_generation\n",
    "\n",
    "    genes_chosen = np.array(max(population, key=lambda individual: calculate_fitness(individual, data)))\n",
    "    # indicate the locations of chosen genes\n",
    "    genes_chosen_loc = np.where(genes_chosen == 1)[0]\n",
    "    print(\"locations of chosen genes:\", genes_chosen_loc)\n",
    "    # Convert  binary  array  to  boolean  mask\n",
    "    features_mask= genes_chosen.astype(bool)\n",
    "    # Apply  mask to  dataset\n",
    "    features_chosen = data[:, features_mask]\n",
    "\n",
    "    # return the features of low dimensionatlity\n",
    "    return features_chosen\n",
    "\n",
    "\n",
    "\n"
   ]
  },
  {
   "cell_type": "code",
   "execution_count": 49,
   "metadata": {},
   "outputs": [
    {
     "name": "stdout",
     "output_type": "stream",
     "text": [
      "[0 0 0 0 0 0 1 0 0 0 0 0 0 0 0 0 0 0 0 0 0 0 0 0 0 0 0 0 0 0 0 0 0 0 0 1 0\n",
      " 0 0 0]\n",
      "locations of chosen genes: [ 6 35]\n"
     ]
    }
   ],
   "source": [
    "import numpy as np\n",
    "import matplotlib.pyplot as plt\n",
    "\n",
    "n_features = 2\n",
    "data = feature_map\n",
    "population_size = 5000   # 2 to the n_feature th\n",
    "num_genes = 40   # number of all features\n",
    "mutation_rate=0.01\n",
    "elitism_rate=0.1\n",
    "num_generations= 5\n",
    "\n",
    "features_chosen = genetic_algorithm(data, n_features, population_size, num_genes, calculate_fitness, mutation_rate=0.01, elitism_rate=0.1, num_generations=100)"
   ]
  },
  {
   "cell_type": "code",
   "execution_count": 51,
   "metadata": {},
   "outputs": [
    {
     "data": {
      "image/png": "[encoded data removed]",
      "text/plain": [
       "<Figure size 640x480 with 1 Axes>"
      ]
     },
     "metadata": {},
     "output_type": "display_data"
    }
   ],
   "source": [
    "# draw scatter plot with the features found\n",
    "def features_plot(features, n_norm):\n",
    "    plt.figure()\n",
    "\n",
    "    x_norm = features[:n_norm, 0]\n",
    "    y_norm = features[:n_norm, 1]\n",
    "    x_anom = features[n_norm:, 0]\n",
    "    y_anom = features[n_norm:, 1]\n",
    "\n",
    "\n",
    "    plt.scatter(x_norm, y_norm, c='r', label='normal')\n",
    "    plt.scatter(x_anom, y_anom, c='g', label='anomaly')\n",
    "\n",
    "    plt.xlabel('x_fft_maxs')\n",
    "    plt.ylabel('mic_fft_means')\n",
    "    plt.legend()\n",
    "    plt.show()\n",
    "\n",
    "features = features_chosen\n",
    "features_plot(features, n_norm = 300)"
   ]
  },
  {
   "cell_type": "code",
   "execution_count": null,
   "metadata": {},
   "outputs": [],
   "source": []
  },
  {
   "cell_type": "code",
   "execution_count": null,
   "metadata": {},
   "outputs": [
    {
     "data": {
      "text/plain": [
       "' while len(next_generation) < population_size:\\n    parent1, parent2 = random.choices(population, weights=fitness_values, k=2)\\n    child = []\\n    while len(child) < 3:\\n        gene = random.choice(parent1) if random.random() < 0.5 else random.choice(parent2)\\n        if gene not in child:\\n            child.append(gene)\\n    child = [1 if gene in child else 0 for gene in parent1]   # assume parent1 and parent2 have same genes\\n    if random.random() < mutation_rate:\\n        gene_to_mutate = random.randint(0, num_genes-1)\\n        child[gene_to_mutate] = 1 - child[gene_to_mutate]\\n    next_generation.append(child)\\n '"
      ]
     },
     "execution_count": 46,
     "metadata": {},
     "output_type": "execute_result"
    }
   ],
   "source": [
    "\"\"\" while len(next_generation) < population_size:\n",
    "    parent1, parent2 = random.choices(population, weights=fitness_values, k=2)\n",
    "    child = []\n",
    "    while len(child) < 3:\n",
    "        gene = random.choice(parent1) if random.random() < 0.5 else random.choice(parent2)\n",
    "        if gene not in child:\n",
    "            child.append(gene)\n",
    "    child = [1 if gene in child else 0 for gene in parent1]   # assume parent1 and parent2 have same genes\n",
    "    if random.random() < mutation_rate:\n",
    "        gene_to_mutate = random.randint(0, num_genes-1)\n",
    "        child[gene_to_mutate] = 1 - child[gene_to_mutate]\n",
    "    next_generation.append(child)\n",
    " \"\"\""
   ]
  },
  {
   "cell_type": "code",
   "execution_count": null,
   "metadata": {},
   "outputs": [
    {
     "data": {
      "text/plain": [
       "' def genetic_algorithm(data, population_size, num_genes, calculate_fitness, mutation_rate, elitism_rate, num_generations):\\n    # initialize the population\\n    population = []\\n    for i in range(population_size):\\n        individual = [random.randint(0, 1) for j in range(num_genes)]   #######\\n        population.append(individual)\\n        # print(population)\\n\\n    # run the evolution loop for num_generations\\n    for generation in range(num_generations):\\n        # evaluate the fitness of each individual in the population\\n        fitness_values = [calculate_fitness(individual, data) for individual in population]\\n\\n        # select the fittest individuals for the next generation\\n        num_elites = int(elitism_rate * population_size)\\n        elites = sorted(range(len(population)), key=lambda i: fitness_values[i], reverse=True)[:num_elites]\\n        next_generation = [population[i] for i in elites]\\n\\n        # breed new individuals to fill the rest of the next generation\\n        while len(next_generation) < population_size:\\n            parent1, parent2 = random.choices(population, weights=fitness_values, k=2)\\n            child = [parent1[i] if random.random() < 0.5 else parent2[i] for i in range(num_genes)]   #########\\n            if random.random() < mutation_rate:\\n                gene_to_mutate = random.randint(0, num_genes-1)\\n                child[gene_to_mutate] = 1 - child[gene_to_mutate]\\n            next_generation.append(child)\\n\\n        # replace the old population with the new generation\\n        population = next_generation\\n        # print(population)\\n\\n    # return the fittest individual found\\n    return max(population, key=lambda individual: calculate_fitness(individual, data)) '"
      ]
     },
     "execution_count": 47,
     "metadata": {},
     "output_type": "execute_result"
    }
   ],
   "source": [
    "\"\"\" def genetic_algorithm(data, population_size, num_genes, calculate_fitness, mutation_rate, elitism_rate, num_generations):\n",
    "    # initialize the population\n",
    "    population = []\n",
    "    for i in range(population_size):\n",
    "        individual = [random.randint(0, 1) for j in range(num_genes)]   #######\n",
    "        population.append(individual)\n",
    "        # print(population)\n",
    "\n",
    "    # run the evolution loop for num_generations\n",
    "    for generation in range(num_generations):\n",
    "        # evaluate the fitness of each individual in the population\n",
    "        fitness_values = [calculate_fitness(individual, data) for individual in population]\n",
    "\n",
    "        # select the fittest individuals for the next generation\n",
    "        num_elites = int(elitism_rate * population_size)\n",
    "        elites = sorted(range(len(population)), key=lambda i: fitness_values[i], reverse=True)[:num_elites]\n",
    "        next_generation = [population[i] for i in elites]\n",
    "\n",
    "        # breed new individuals to fill the rest of the next generation\n",
    "        while len(next_generation) < population_size:\n",
    "            parent1, parent2 = random.choices(population, weights=fitness_values, k=2)\n",
    "            child = [parent1[i] if random.random() < 0.5 else parent2[i] for i in range(num_genes)]   #########\n",
    "            if random.random() < mutation_rate:\n",
    "                gene_to_mutate = random.randint(0, num_genes-1)\n",
    "                child[gene_to_mutate] = 1 - child[gene_to_mutate]\n",
    "            next_generation.append(child)\n",
    "\n",
    "        # replace the old population with the new generation\n",
    "        population = next_generation\n",
    "        # print(population)\n",
    "\n",
    "    # return the fittest individual found\n",
    "    return max(population, key=lambda individual: calculate_fitness(individual, data)) \"\"\""
   ]
  }
 ],
 "metadata": {
  "kernelspec": {
   "display_name": "base",
   "language": "python",
   "name": "python3"
  },
  "language_info": {
   "codemirror_mode": {
    "name": "ipython",
    "version": 3
   },
   "file_extension": ".py",
   "mimetype": "text/x-python",
   "name": "python",
   "nbconvert_exporter": "python",
   "pygments_lexer": "ipython3",
   "version": "3.8.5"
  },
  "orig_nbformat": 4
 },
 "nbformat": 4,
 "nbformat_minor": 2
}
