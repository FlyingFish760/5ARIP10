{
 "cells": [
  {
   "cell_type": "code",
   "execution_count": 2,
   "metadata": {},
   "outputs": [
    {
     "name": "stdout",
     "output_type": "stream",
     "text": [
      "---------------------------------------------------------\n",
      "Generating database for HD's\n"
     ]
    }
   ],
   "source": [
    "from HD_DataLoader import *\n",
    "from HD_DataLoader import SplitNormalFaulty\n",
    "import os\n",
    "folder_path = os.path.join(os.getcwd(), 'HD_data') \n",
    "\n",
    "example1 = HD(data_path = folder_path)\n",
    "\n",
    "#############################\n",
    "# what we did earlier\n",
    "db_tot = example1.generate_database()\n",
    "\n",
    "dataset_tot = StatisticalFeaturesDataset(db_tot, window_sec=2, selected_domain = {'Mic': 'freq', 'dSpace': 'time'}, Mic_bool = 'True', Curr_bool = 'True')\n",
    "\n",
    "train_dataset, test_dataset = train_test_split(dataset_tot, test_size=0.2, random_state=42, shuffle=True)\n",
    "train_dataset, val_dataset = train_test_split(train_dataset, test_size=0.1, random_state=42, shuffle=True)\n",
    "\n",
    "#############################\n",
    "# New function with seperate measurements for train and test\n",
    "db_train, db_test = example1.generate_database_test_train()\n",
    "\n",
    "dataset_train = StatisticalFeaturesDataset(db_train, window_sec=2, selected_domain = {'Mic': 'freq', 'dSpace': 'time'}, Mic_bool = 'True', Curr_bool = 'True')\n",
    "train_dataset, val_dataset = train_test_split(dataset_train, test_size=0.1, random_state=42, shuffle=True)\n",
    "\n",
    "test_dataset = StatisticalFeaturesDataset(db_test, window_sec=2, selected_domain = {'Mic': 'freq', 'dSpace': 'time'}, Mic_bool = 'True', Curr_bool = 'True')\n"
   ]
  }
 ],
 "metadata": {
  "kernelspec": {
   "display_name": "Course_5ARIP10",
   "language": "python",
   "name": "python3"
  },
  "language_info": {
   "codemirror_mode": {
    "name": "ipython",
    "version": 3
   },
   "file_extension": ".py",
   "mimetype": "text/x-python",
   "name": "python",
   "nbconvert_exporter": "python",
   "pygments_lexer": "ipython3",
   "version": "3.11.3"
  },
  "orig_nbformat": 4
 },
 "nbformat": 4,
 "nbformat_minor": 2
}
