{
 "cells": [
  {
   "cell_type": "code",
   "execution_count": 61,
   "metadata": {},
   "outputs": [],
   "source": [
    "import torch\n",
    "import numpy as np\n",
    "from NN_model import *"
   ]
  },
  {
   "attachments": {},
   "cell_type": "markdown",
   "metadata": {},
   "source": [
    "### Load the model"
   ]
  },
  {
   "cell_type": "code",
   "execution_count": 62,
   "metadata": {},
   "outputs": [],
   "source": [
    "device = torch.device('cpu' if torch.cuda.is_available() else 'cpu')\n",
    "model = Classifier(input_dim=6)\n",
    "model.load_state_dict(torch.load('model.pt'))\n",
    "model = model.to(device)"
   ]
  },
  {
   "attachments": {},
   "cell_type": "markdown",
   "metadata": {},
   "source": [
    "### Get dSpace data"
   ]
  },
  {
   "cell_type": "code",
   "execution_count": 63,
   "metadata": {},
   "outputs": [],
   "source": [
    "# file = r\"C:\\Users\\20182152\\Documents\\Omron_project\\5ARIP10\\HD_data\\dSpace\\F1_dSpace_test_3_speed_30_sec60.csv\"\n",
    "\n",
    "file = \"Demo2.csv\"\n",
    "\n",
    "speed = 30\n",
    "split_time = 2 # Time of sample in secs\n",
    "cur_samplerate = 1000\n",
    "\n",
    "arr = np.loadtxt(file, delimiter=\",\", dtype=str, usecols=(1,2,3,4,5,6), skiprows=16)\n",
    "data = arr[12:] # data consists of ['time','I_bat[A]', 'I_dyno_LP[A]', 'i_motor_LP[A]','speed_motor[rads]', 'u_bat[V]']\n",
    "data = data.astype(float)\n",
    "\n",
    "cur_data = data[:,3] #Only obtain current running through motor\n",
    "cur_data = cur_data[:round(split_time * cur_samplerate)]\n"
   ]
  },
  {
   "attachments": {},
   "cell_type": "markdown",
   "metadata": {},
   "source": [
    "### Get statistical features from measurement"
   ]
  },
  {
   "cell_type": "code",
   "execution_count": 64,
   "metadata": {},
   "outputs": [],
   "source": [
    "mean_cur = np.float32(np.mean(cur_data))\n",
    "stds_cur = np.float32(np.std(cur_data))\n",
    "maxs_cur = np.float32(np.max(cur_data))\n",
    "mins_cur = np.float32(np.min(cur_data))\n",
    "medians_cur = np.float32(np.median(cur_data))\n",
    "\n",
    "inputs = torch.tensor([speed, mean_cur, stds_cur, maxs_cur, mins_cur, medians_cur])"
   ]
  },
  {
   "attachments": {},
   "cell_type": "markdown",
   "metadata": {},
   "source": [
    "### Make prediction"
   ]
  },
  {
   "cell_type": "code",
   "execution_count": 65,
   "metadata": {},
   "outputs": [
    {
     "name": "stdout",
     "output_type": "stream",
     "text": [
      "Drive is normal, confidence: 100.0%\n"
     ]
    }
   ],
   "source": [
    "\n",
    "with torch.no_grad():\n",
    "  pred = model(inputs)\n",
    "\n",
    "predicted = (pred >= 0.5).squeeze().long()\n",
    "\n",
    "if predicted == 1:\n",
    "  confidence = pred.item() * 100\n",
    "  print(f\"Drive is anomalous, confidence: {confidence}%\")\n",
    "else:\n",
    "  confidence = (1-pred.item()) * 100\n",
    "  print(f\"Drive is normal, confidence: {confidence}%\")\n"
   ]
  }
 ],
 "metadata": {
  "kernelspec": {
   "display_name": "base",
   "language": "python",
   "name": "python3"
  },
  "language_info": {
   "codemirror_mode": {
    "name": "ipython",
    "version": 3
   },
   "file_extension": ".py",
   "mimetype": "text/x-python",
   "name": "python",
   "nbconvert_exporter": "python",
   "pygments_lexer": "ipython3",
   "version": "3.10.9"
  },
  "orig_nbformat": 4
 },
 "nbformat": 4,
 "nbformat_minor": 2
}
