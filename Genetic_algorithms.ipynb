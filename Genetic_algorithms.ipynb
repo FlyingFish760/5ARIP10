{
 "cells": [
  {
   "cell_type": "code",
   "execution_count": 1,
   "metadata": {},
   "outputs": [],
   "source": [
    "import random\n",
    "import numpy  as np"
   ]
  },
  {
   "attachments": {},
   "cell_type": "markdown",
   "metadata": {},
   "source": [
    "# Load in the data"
   ]
  },
  {
   "cell_type": "code",
   "execution_count": 2,
   "metadata": {},
   "outputs": [],
   "source": [
    "#Import libaries\n",
    "import matplotlib.pyplot as plt\n",
    "import numpy as np\n",
    "from scipy.fft import fft, ifft\n",
    "from scipy.io import wavfile \n",
    "from scipy.signal import filtfilt, butter\n",
    "from pylab import *\n",
    "import os\n",
    "import librosa\n",
    "\n",
    "#Import self-written functions\n",
    "from HD_model import HD_statistical_functions as sf\n",
    "from HD_Model_NEW import HD_DataLoader as dl"
   ]
  },
  {
   "cell_type": "code",
   "execution_count": 3,
   "metadata": {},
   "outputs": [
    {
     "name": "stdout",
     "output_type": "stream",
     "text": [
      "---------------------------------------------------------\n",
      "Generating database for HD's\n"
     ]
    }
   ],
   "source": [
    "# generate database\n",
    "HD_dl = dl.HD(r'E:\\5ARIP0_Interdisciplinary_team_project\\data_analyse\\5ARIP10\\HD_Model_NEW\\HD_data')\n",
    "HD_database = HD_dl.generate_database()\n",
    "# vair_dl = dl.VairableSensorsDataset(database = HD_database, mic_bool = 'True', vibr_bool = 'False', cur_bool = 'True', \n",
    "#                                    speed_bool='False', start_percentage=0.1, stop_percentage = 0.9, window_sec = 0.5, stride_sec=0.2)\n",
    "# print(HD_database)"
   ]
  },
  {
   "cell_type": "code",
   "execution_count": 4,
   "metadata": {},
   "outputs": [
    {
     "name": "stdout",
     "output_type": "stream",
     "text": [
      "(12, 2646000)\n",
      "(12, 30228)\n"
     ]
    }
   ],
   "source": [
    "\"\"\" # load vibration data\n",
    "\n",
    "anom_vibr = []\n",
    "norm_vibr = []\n",
    "\n",
    "keys_vibr = ['X_vibr', 'Y_vibr', 'Z_vibr']\n",
    "for test in HD_database:\n",
    "    if HD_database[test]['attributes']['HD_status'] == 1:  # it is faulty HD\n",
    "        vibr = {key: HD_database[test]['Vibration'][key] for key in keys_vibr}\n",
    "        anom_vibr.append([vibr[key] for key in keys_vibr])\n",
    "    elif HD_database[test]['attributes']['HD_status'] == 0:  # it is working HD\n",
    "        vibr = {key: HD_database[test]['Vibration'][key] for key in keys_vibr}\n",
    "        norm_vibr.append([vibr[key] for key in keys_vibr])\n",
    "\n",
    "anom_vibr = np.array(anom_vibr)\n",
    "norm_vibr = np.array(norm_vibr)\n",
    "vibr_data = np.concatenate((norm_vibr, anom_vibr), axis=0)\n",
    "\n",
    "print(vibr_data.shape) \"\"\"\n",
    "\n",
    "##### load microphone data\n",
    "\n",
    "anom_mic = []\n",
    "norm_mic = []\n",
    "\n",
    "keys_mic = ['Data']\n",
    "for test in HD_database:\n",
    "    if HD_database[test]['attributes']['HD_status'] == 1:  # it is faulty HD\n",
    "        mic = {key: HD_database[test]['Microphone'][key] for key in keys_mic}\n",
    "        anom_mic.append([mic[key] for key in keys_mic])\n",
    "    elif HD_database[test]['attributes']['HD_status'] == 0:  # it is working HD\n",
    "        mic = {key: HD_database[test]['Microphone'][key] for key in keys_mic}\n",
    "        norm_mic.append([mic[key] for key in keys_mic])\n",
    "\n",
    "anom_mic = np.array(anom_mic)\n",
    "norm_mic = np.array(norm_mic)\n",
    "mic_data = np.concatenate((norm_mic, anom_mic), axis=0)\n",
    "\n",
    "# only keep the left stereo, since the difference of left and right stereos is very small:\n",
    "# shape:[12*1*2646000*2]-> shape:[12*1*2646000]\n",
    "mic_data = mic_data[:, :, :, 0]\n",
    "\n",
    "# eliminate dimensions of only one element\n",
    "# shape:[12*1*2646000]-> shape:[12*2646000]\n",
    "mic_data = np.squeeze(mic_data)\n",
    "print(mic_data.shape)\n",
    "\n",
    "\n",
    "\n",
    "###### load current data\n",
    "\n",
    "anom_current = []\n",
    "norm_current = []\n",
    "\n",
    "keys_current = ['i_motor_LP']\n",
    "for test in HD_database:\n",
    "    if HD_database[test]['attributes']['HD_status'] == 1:  # it is faulty HD\n",
    "        current = {key: HD_database[test]['dSpace'][key] for key in keys_current}\n",
    "        anom_current.append([current[key] for key in keys_current])\n",
    "    elif HD_database[test]['attributes']['HD_status'] == 0:  # it is working HD\n",
    "        current = {key: HD_database[test]['dSpace'][key] for key in keys_current}\n",
    "        norm_current.append([current[key] for key in keys_current])\n",
    "\n",
    "def find_min_len(current_data):\n",
    "    \"\"\" \n",
    "    find the minimum length of the elements in one two-dimensional current data list\n",
    "    \"\"\"\n",
    "    min_len = current_data[0][0].shape\n",
    "    for i in range (len(current_data) - 1):\n",
    "        if current_data[i][0].shape > current_data[i+1][0].shape:\n",
    "            min_len = current_data[i+1][0].shape\n",
    "    min_len = int(min_len[0])\n",
    "    return min_len\n",
    "\n",
    "# find min length of both anom and norm current data\n",
    "anom_min_len = find_min_len(anom_current)\n",
    "norm_min_len = find_min_len(norm_current)\n",
    "current_min_len = min(anom_min_len, norm_min_len)\n",
    "# print(current_min_len)\n",
    "\n",
    "# resize all both the anom and norm current data into the min length and concatenate them\n",
    "for i in range (len(anom_current)):\n",
    "    anom_current[i][0] = np.resize(anom_current[i][0], current_min_len)\n",
    "for i in range (len(norm_current)):\n",
    "    norm_current[i][0] = np.resize(norm_current[i][0], current_min_len)\n",
    "anom_current = np.array(anom_current)\n",
    "norm_current = np.array(norm_current)\n",
    "current_data = np.squeeze(np.concatenate((norm_current, anom_current), axis=0))\n",
    "\n",
    "print(current_data.shape)\n"
   ]
  },
  {
   "attachments": {},
   "cell_type": "markdown",
   "metadata": {},
   "source": [
    "# extract features"
   ]
  },
  {
   "cell_type": "code",
   "execution_count": 12,
   "metadata": {},
   "outputs": [
    {
     "name": "stdout",
     "output_type": "stream",
     "text": [
      "(720, 15)\n",
      "(720, 15)\n",
      "(720, 5)\n",
      "[[0.73946371 0.77344452 0.74350159 ... 0.48062639 0.52326146 0.34206518]\n",
      " [0.76994169 0.78225756 0.7731799  ... 0.46988956 0.54245891 0.34310497]\n",
      " [0.75322035 0.75872107 0.75839114 ... 0.35183189 0.46631614 0.22795709]\n",
      " ...\n",
      " [0.88356495 0.70507496 0.88285529 ... 0.11749356 0.45866586 0.06678796]\n",
      " [0.90304419 0.71332796 0.90208414 ... 0.11875133 0.44902138 0.06601487]\n",
      " [0.87845316 0.69564992 0.87713877 ... 0.17238751 0.47422978 0.10536787]]\n",
      "(720, 35)\n"
     ]
    }
   ],
   "source": [
    "# extract features\n",
    "\n",
    "mic_time_feats = sf.extract_time_features(data = mic_data, x = 44100)   # use fs as x\n",
    "mic_fft_feats = sf.extract_fft_features(data=mic_data, x = 44100)   # use fs as x\n",
    "# using x = (current_min_len/60) could produce the same n_time_windows as mic data\n",
    "current_time_feats = sf.extract_time_features(data=current_data, x = int(current_min_len/60))  \n",
    "\n",
    "print(current_time_feats.shape)\n",
    "print(mic_time_feats.shape)\n",
    "print(mic_fft_feats.shape)\n",
    "\n",
    "\n",
    "\n",
    "# normalize features (due to the large difference between different features)\n",
    "def normlize_feats(feature_map):\n",
    "    # normalize feature map (use min-max normalizaton: (x-min)/(max-min))\n",
    "    for i in range(feature_map.shape[1]):\n",
    "        colomn_min = np.min(feature_map[:, i])\n",
    "        colomn_max = np.max(feature_map[:, i])\n",
    "        for j in range(feature_map.shape[0]):\n",
    "            feature_map[j, i] = (feature_map[j, i] - colomn_min)/(colomn_max - colomn_min)\n",
    "    return feature_map\n",
    "\n",
    "mic_time_feats_norm = normlize_feats(mic_time_feats)\n",
    "mic_fft_feats_norm = normlize_feats(mic_fft_feats)\n",
    "current_time_feats_norm = normlize_feats(current_time_feats)\n",
    "feature_map_norm = np.hstack((mic_time_feats_norm, mic_fft_feats_norm, current_time_feats_norm))\n",
    "print(feature_map_norm.shape)"
   ]
  },
  {
   "attachments": {},
   "cell_type": "markdown",
   "metadata": {},
   "source": [
    "# Perform GA"
   ]
  },
  {
   "cell_type": "code",
   "execution_count": 13,
   "metadata": {},
   "outputs": [],
   "source": [
    "import random\n",
    "import numpy  as np\n",
    "\n",
    "# define the fitness function\n",
    "def  calculate_fitness(individual , X):\n",
    "    # Convert  binary  string  to  boolean  mask\n",
    "    mask = np.array(list(individual), dtype=bool)\n",
    "    # Apply  mask to  dataset\n",
    "    X_masked = X[:, mask]\n",
    "    # Calculate  variance  of each  feature\n",
    "    variances = np.var(X_masked , axis =0)\n",
    "    # Calculate  fitness  as the  sum of  variances\n",
    "    fitness = np.sum(variances)\n",
    "    \n",
    "    return  fitness\n",
    "\n",
    "\n",
    "# define the genetic algorithm\n",
    "def genetic_algorithm(data, n_features, population_size, num_genes, calculate_fitness, mutation_rate, elitism_rate, num_generations):\n",
    "    \"\"\" \n",
    "    Implement genetic algorithm which derives features of low dimentionality from feature of high dimensionality. (dimensionality of features reduction)\n",
    "\n",
    "    Params:\n",
    "    data: input data on which genetic algorithm will be implemented; size: n_samples * n_features (high dimension)\n",
    "    n_features: target number of features (low dimension)\n",
    "    population_size: population size initialization: 2 to the n_feature (high) th \n",
    "    num_genes: = n_features (high dimension)\n",
    "    calculate_fitness: fitness score function\n",
    "    mutation_rate: mutation rate, between (0, 1) \n",
    "    elitism_rate: elitism rate, between (0, 1)\n",
    "    num_generations: number of generations\n",
    "    \n",
    "\n",
    "    return: features of low dimenstionatlity\n",
    "    \"\"\"\n",
    "    # initialize the population\n",
    "    population = []\n",
    "    for i in range(population_size):\n",
    "        individual = [0] * num_genes  # initialize all genes to zeros\n",
    "        for j in random.sample(range(num_genes), n_features):  # choose genes locations randomly\n",
    "            individual[j] = 1  # set the chosen genes locations to one\n",
    "        population.append(individual)\n",
    "\n",
    "    # run the evolution loop for num_generations\n",
    "    for generation in range(num_generations):\n",
    "        # evaluate the fitness of each individual in the population\n",
    "        fitness_values = [calculate_fitness(individual, data) for individual in population]\n",
    "\n",
    "        # select the fittest individuals for the next generation\n",
    "        num_elites = int(elitism_rate * population_size)\n",
    "        elites = sorted(range(len(population)), key=lambda i: fitness_values[i], reverse=True)[:num_elites]\n",
    "        next_generation = [population[i] for i in elites]\n",
    "\n",
    "        # breed new individuals to fill the rest of the next generation\n",
    "        while len(next_generation) < population_size:\n",
    "            \"\"\" parent1, parent2 = random.choices(population, weights=fitness_values, k=2)\n",
    "            child = []\n",
    "            # to ensure number of genes chosen will not exceed n_features, we will select a crossover point, then copy the genes before the location from parent1, and copy the rest\n",
    "            #of genes after the location from parent2\n",
    "            crossover_point = random.randint(1, num_genes-1)   # choose a crossover point\n",
    "            # perform crossover\n",
    "            child = parent1[:crossover_point] + parent2[crossover_point:] \"\"\"\n",
    "            parent1, parent2 = random.choices(population, weights=fitness_values, k=2)\n",
    "            child = [parent1[i] if random.random() < 0.5 else parent2[i] for i in range(num_genes)]\n",
    "            # if the number of genes chosen exceeds n_features, then we will randomly set genes to zero until the number is equal to n_features\n",
    "            while sum(child) >= n_features:\n",
    "                random_index = random.randint(0, len(child) - 1)\n",
    "                child[random_index] = 0\n",
    "\n",
    "            # in mutation operation, in order to ensure number of genes chosen will not exceed n_features, we will check if the number of genes chosen already equals to n_features,\n",
    "            # if so, we will not proceed mutation operation. If not, we will continue to choose one genes to make negation\n",
    "            if random.random() < mutation_rate:\n",
    "                gene_to_mutate = random.randint(0, num_genes-1)\n",
    "                if sum(child) < n_features:\n",
    "                    child[gene_to_mutate] = 1 - child[gene_to_mutate]\n",
    "            next_generation.append(child)\n",
    "            \n",
    "\n",
    "        # replace the old population with the new generation\n",
    "        population = next_generation\n",
    "\n",
    "    genes_chosen = np.array(max(population, key=lambda individual: calculate_fitness(individual, data)))\n",
    "    # indicate the locations of chosen genes\n",
    "    genes_chosen_loc = np.where(genes_chosen == 1)[0]\n",
    "    print(\"locations of chosen genes:\", genes_chosen_loc)\n",
    "    # Convert  binary  array  to  boolean  mask\n",
    "    features_mask= genes_chosen.astype(bool)\n",
    "    # Apply  mask to  dataset\n",
    "    features_chosen = data[:, features_mask]\n",
    "\n",
    "    # return the features of low dimensionatlity\n",
    "    return features_chosen\n",
    "\n",
    "\n",
    "\n"
   ]
  },
  {
   "cell_type": "code",
   "execution_count": 7,
   "metadata": {},
   "outputs": [
    {
     "ename": "KeyboardInterrupt",
     "evalue": "",
     "output_type": "error",
     "traceback": [
      "\u001b[1;31m---------------------------------------------------------------------------\u001b[0m",
      "\u001b[1;31mKeyboardInterrupt\u001b[0m                         Traceback (most recent call last)",
      "Cell \u001b[1;32mIn[7], line 12\u001b[0m\n\u001b[0;32m      9\u001b[0m elitism_rate\u001b[39m=\u001b[39m\u001b[39m0.1\u001b[39m\n\u001b[0;32m     10\u001b[0m num_generations\u001b[39m=\u001b[39m \u001b[39m5\u001b[39m\n\u001b[1;32m---> 12\u001b[0m features_chosen \u001b[39m=\u001b[39m genetic_algorithm(data, n_features, population_size, num_genes, calculate_fitness, mutation_rate\u001b[39m=\u001b[39;49m\u001b[39m0.01\u001b[39;49m, elitism_rate\u001b[39m=\u001b[39;49m\u001b[39m0.1\u001b[39;49m, num_generations\u001b[39m=\u001b[39;49m\u001b[39m100\u001b[39;49m)\n",
      "Cell \u001b[1;32mIn[6], line 63\u001b[0m, in \u001b[0;36mgenetic_algorithm\u001b[1;34m(data, n_features, population_size, num_genes, calculate_fitness, mutation_rate, elitism_rate, num_generations)\u001b[0m\n\u001b[0;32m     55\u001b[0m \u001b[39mwhile\u001b[39;00m \u001b[39mlen\u001b[39m(next_generation) \u001b[39m<\u001b[39m population_size:\n\u001b[0;32m     56\u001b[0m     \u001b[39m\"\"\" parent1, parent2 = random.choices(population, weights=fitness_values, k=2)\u001b[39;00m\n\u001b[0;32m     57\u001b[0m \u001b[39m    child = []\u001b[39;00m\n\u001b[0;32m     58\u001b[0m \u001b[39m    # to ensure number of genes chosen will not exceed n_features, we will select a crossover point, then copy the genes before the location from parent1, and copy the rest\u001b[39;00m\n\u001b[1;32m   (...)\u001b[0m\n\u001b[0;32m     61\u001b[0m \u001b[39m    # perform crossover\u001b[39;00m\n\u001b[0;32m     62\u001b[0m \u001b[39m    child = parent1[:crossover_point] + parent2[crossover_point:] \"\"\"\u001b[39;00m\n\u001b[1;32m---> 63\u001b[0m     parent1, parent2 \u001b[39m=\u001b[39m random\u001b[39m.\u001b[39;49mchoices(population, weights\u001b[39m=\u001b[39;49mfitness_values, k\u001b[39m=\u001b[39;49m\u001b[39m2\u001b[39;49m)\n\u001b[0;32m     64\u001b[0m     child \u001b[39m=\u001b[39m [parent1[i] \u001b[39mif\u001b[39;00m random\u001b[39m.\u001b[39mrandom() \u001b[39m<\u001b[39m \u001b[39m0.5\u001b[39m \u001b[39melse\u001b[39;00m parent2[i] \u001b[39mfor\u001b[39;00m i \u001b[39min\u001b[39;00m \u001b[39mrange\u001b[39m(num_genes)]\n\u001b[0;32m     65\u001b[0m     \u001b[39m# if the number of genes chosen exceeds n_features, then we will randomly set genes to zero until the number is equal to n_features\u001b[39;00m\n",
      "File \u001b[1;32md:\\anaconda3\\lib\\random.py:400\u001b[0m, in \u001b[0;36mRandom.choices\u001b[1;34m(self, population, weights, cum_weights, k)\u001b[0m\n\u001b[0;32m    398\u001b[0m         n \u001b[39m+\u001b[39m\u001b[39m=\u001b[39m \u001b[39m0.0\u001b[39m    \u001b[39m# convert to float for a small speed improvement\u001b[39;00m\n\u001b[0;32m    399\u001b[0m         \u001b[39mreturn\u001b[39;00m [population[_int(random() \u001b[39m*\u001b[39m n)] \u001b[39mfor\u001b[39;00m i \u001b[39min\u001b[39;00m _repeat(\u001b[39mNone\u001b[39;00m, k)]\n\u001b[1;32m--> 400\u001b[0m     cum_weights \u001b[39m=\u001b[39m \u001b[39mlist\u001b[39m(_accumulate(weights))\n\u001b[0;32m    401\u001b[0m \u001b[39melif\u001b[39;00m weights \u001b[39mis\u001b[39;00m \u001b[39mnot\u001b[39;00m \u001b[39mNone\u001b[39;00m:\n\u001b[0;32m    402\u001b[0m     \u001b[39mraise\u001b[39;00m \u001b[39mTypeError\u001b[39;00m(\u001b[39m'\u001b[39m\u001b[39mCannot specify both weights and cumulative weights\u001b[39m\u001b[39m'\u001b[39m)\n",
      "\u001b[1;31mKeyboardInterrupt\u001b[0m: "
     ]
    }
   ],
   "source": [
    "import numpy as np\n",
    "import matplotlib.pyplot as plt\n",
    "\n",
    "n_features = 15\n",
    "data = mic_time_feats_norm\n",
    "population_size = 32768   # 2 to the n_feature th\n",
    "num_genes = 40   # number of all features\n",
    "mutation_rate=0.01\n",
    "elitism_rate=0.1\n",
    "num_generations= 5\n",
    "\n",
    "features_chosen = genetic_algorithm(data, n_features, population_size, num_genes, calculate_fitness, mutation_rate=0.01, elitism_rate=0.1, num_generations=100)"
   ]
  },
  {
   "cell_type": "code",
   "execution_count": null,
   "metadata": {},
   "outputs": [
    {
     "data": {
      "image/png": "[encoded data removed]",
      "text/plain": [
       "<Figure size 640x480 with 1 Axes>"
      ]
     },
     "metadata": {},
     "output_type": "display_data"
    }
   ],
   "source": [
    "# draw scatter plot with the features found\n",
    "def features_plot(features, n_norm):\n",
    "    plt.figure()\n",
    "\n",
    "    x_norm = features[:n_norm, 0]\n",
    "    y_norm = features[:n_norm, 1]\n",
    "    x_anom = features[n_norm:, 0]\n",
    "    y_anom = features[n_norm:, 1]\n",
    "\n",
    "\n",
    "    plt.scatter(x_norm, y_norm, c='r', label='normal')\n",
    "    plt.scatter(x_anom, y_anom, c='g', label='anomaly')\n",
    "\n",
    "    plt.xlabel('x_fft_maxs')\n",
    "    plt.ylabel('mic_fft_means')\n",
    "    plt.legend()\n",
    "    plt.show()\n",
    "\n",
    "features = features_chosen\n",
    "features_plot(features, n_norm = 300)"
   ]
  },
  {
   "cell_type": "code",
   "execution_count": null,
   "metadata": {},
   "outputs": [],
   "source": []
  },
  {
   "cell_type": "code",
   "execution_count": null,
   "metadata": {},
   "outputs": [
    {
     "data": {
      "text/plain": [
       "' while len(next_generation) < population_size:\\n    parent1, parent2 = random.choices(population, weights=fitness_values, k=2)\\n    child = []\\n    while len(child) < 3:\\n        gene = random.choice(parent1) if random.random() < 0.5 else random.choice(parent2)\\n        if gene not in child:\\n            child.append(gene)\\n    child = [1 if gene in child else 0 for gene in parent1]   # assume parent1 and parent2 have same genes\\n    if random.random() < mutation_rate:\\n        gene_to_mutate = random.randint(0, num_genes-1)\\n        child[gene_to_mutate] = 1 - child[gene_to_mutate]\\n    next_generation.append(child)\\n '"
      ]
     },
     "execution_count": 10,
     "metadata": {},
     "output_type": "execute_result"
    }
   ],
   "source": [
    "\"\"\" while len(next_generation) < population_size:\n",
    "    parent1, parent2 = random.choices(population, weights=fitness_values, k=2)\n",
    "    child = []\n",
    "    while len(child) < 3:\n",
    "        gene = random.choice(parent1) if random.random() < 0.5 else random.choice(parent2)\n",
    "        if gene not in child:\n",
    "            child.append(gene)\n",
    "    child = [1 if gene in child else 0 for gene in parent1]   # assume parent1 and parent2 have same genes\n",
    "    if random.random() < mutation_rate:\n",
    "        gene_to_mutate = random.randint(0, num_genes-1)\n",
    "        child[gene_to_mutate] = 1 - child[gene_to_mutate]\n",
    "    next_generation.append(child)\n",
    " \"\"\""
   ]
  },
  {
   "cell_type": "code",
   "execution_count": null,
   "metadata": {},
   "outputs": [
    {
     "data": {
      "text/plain": [
       "' def genetic_algorithm(data, population_size, num_genes, calculate_fitness, mutation_rate, elitism_rate, num_generations):\\n    # initialize the population\\n    population = []\\n    for i in range(population_size):\\n        individual = [random.randint(0, 1) for j in range(num_genes)]   #######\\n        population.append(individual)\\n        # print(population)\\n\\n    # run the evolution loop for num_generations\\n    for generation in range(num_generations):\\n        # evaluate the fitness of each individual in the population\\n        fitness_values = [calculate_fitness(individual, data) for individual in population]\\n\\n        # select the fittest individuals for the next generation\\n        num_elites = int(elitism_rate * population_size)\\n        elites = sorted(range(len(population)), key=lambda i: fitness_values[i], reverse=True)[:num_elites]\\n        next_generation = [population[i] for i in elites]\\n\\n        # breed new individuals to fill the rest of the next generation\\n        while len(next_generation) < population_size:\\n            parent1, parent2 = random.choices(population, weights=fitness_values, k=2)\\n            child = [parent1[i] if random.random() < 0.5 else parent2[i] for i in range(num_genes)]   #########\\n            if random.random() < mutation_rate:\\n                gene_to_mutate = random.randint(0, num_genes-1)\\n                child[gene_to_mutate] = 1 - child[gene_to_mutate]\\n            next_generation.append(child)\\n\\n        # replace the old population with the new generation\\n        population = next_generation\\n        # print(population)\\n\\n    # return the fittest individual found\\n    return max(population, key=lambda individual: calculate_fitness(individual, data)) '"
      ]
     },
     "execution_count": 11,
     "metadata": {},
     "output_type": "execute_result"
    }
   ],
   "source": [
    "\"\"\" def genetic_algorithm(data, population_size, num_genes, calculate_fitness, mutation_rate, elitism_rate, num_generations):\n",
    "    # initialize the population\n",
    "    population = []\n",
    "    for i in range(population_size):\n",
    "        individual = [random.randint(0, 1) for j in range(num_genes)]   #######\n",
    "        population.append(individual)\n",
    "        # print(population)\n",
    "\n",
    "    # run the evolution loop for num_generations\n",
    "    for generation in range(num_generations):\n",
    "        # evaluate the fitness of each individual in the population\n",
    "        fitness_values = [calculate_fitness(individual, data) for individual in population]\n",
    "\n",
    "        # select the fittest individuals for the next generation\n",
    "        num_elites = int(elitism_rate * population_size)\n",
    "        elites = sorted(range(len(population)), key=lambda i: fitness_values[i], reverse=True)[:num_elites]\n",
    "        next_generation = [population[i] for i in elites]\n",
    "\n",
    "        # breed new individuals to fill the rest of the next generation\n",
    "        while len(next_generation) < population_size:\n",
    "            parent1, parent2 = random.choices(population, weights=fitness_values, k=2)\n",
    "            child = [parent1[i] if random.random() < 0.5 else parent2[i] for i in range(num_genes)]   #########\n",
    "            if random.random() < mutation_rate:\n",
    "                gene_to_mutate = random.randint(0, num_genes-1)\n",
    "                child[gene_to_mutate] = 1 - child[gene_to_mutate]\n",
    "            next_generation.append(child)\n",
    "\n",
    "        # replace the old population with the new generation\n",
    "        population = next_generation\n",
    "        # print(population)\n",
    "\n",
    "    # return the fittest individual found\n",
    "    return max(population, key=lambda individual: calculate_fitness(individual, data)) \"\"\""
   ]
  }
 ],
 "metadata": {
  "kernelspec": {
   "display_name": "base",
   "language": "python",
   "name": "python3"
  },
  "language_info": {
   "codemirror_mode": {
    "name": "ipython",
    "version": 3
   },
   "file_extension": ".py",
   "mimetype": "text/x-python",
   "name": "python",
   "nbconvert_exporter": "python",
   "pygments_lexer": "ipython3",
   "version": "3.8.5"
  },
  "orig_nbformat": 4
 },
 "nbformat": 4,
 "nbformat_minor": 2
}
