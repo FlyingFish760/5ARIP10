{
 "cells": [
  {
   "attachments": {},
   "cell_type": "markdown",
   "metadata": {},
   "source": [
    "# Using this notebook file, one should be able to load in their data, and retrieve its statistical features."
   ]
  },
  {
   "cell_type": "code",
   "execution_count": 5,
   "metadata": {},
   "outputs": [],
   "source": [
    "# import libaries\n",
    "import os\n",
    "import matplotlib.pyplot as plt\n",
    "\n",
    "# import self-written functions\n",
    "from HD_statistical_functions import *\n",
    "from data.Code_get_measurement import Vibration\n"
   ]
  },
  {
   "attachments": {},
   "cell_type": "markdown",
   "metadata": {},
   "source": [
    "# Loading in data"
   ]
  },
  {
   "cell_type": "code",
   "execution_count": 12,
   "metadata": {},
   "outputs": [
    {
     "name": "stdout",
     "output_type": "stream",
     "text": [
      "(13, 32000, 3)\n"
     ]
    }
   ],
   "source": [
    "# select the data you want to analyze based on the date it was measured\n",
    "dir_data = os.path.join(os.getcwd(), \"data\") \n",
    "locat = 'Measurem_Omron'\n",
    "date = '03_05_Omron'\n",
    "fs = Vibration.fs\n",
    "secs = Vibration.seconds\n",
    "\n",
    "acc_files, acc_time, acc_data, acc_data_fft  = load_acc_data(dir_data, locat, date, fs, secs)\n",
    "print(acc_data.shape)\n",
    "\n",
    "\n"
   ]
  },
  {
   "cell_type": "code",
   "execution_count": 7,
   "metadata": {},
   "outputs": [
    {
     "data": {
      "text/plain": [
       "' print(\\'Example file \"\\',\\'acc_data[0]\\', \\'\" has the following format with x,y,z data:\\')\\nprint(acc_data[0])\\nprint(\\'\\')\\nprint(\\'Example file \"\\',\\'mic_data[0]\\', \\'\" has the following format stereo left right:\\')\\nprint(mic_data[0])\\nprint(type(acc_data)) '"
      ]
     },
     "execution_count": 7,
     "metadata": {},
     "output_type": "execute_result"
    }
   ],
   "source": [
    "\"\"\" print('Example file \"','acc_data[0]', '\" has the following format with x,y,z data:')\n",
    "print(acc_data[0])\n",
    "print('')\n",
    "print('Example file \"','mic_data[0]', '\" has the following format stereo left right:')\n",
    "print(mic_data[0])\n",
    "print(type(acc_data)) \"\"\"\n",
    "\n",
    "\n",
    "\n",
    "    \n"
   ]
  },
  {
   "attachments": {},
   "cell_type": "markdown",
   "metadata": {},
   "source": [
    "Plot the recording"
   ]
  },
  {
   "cell_type": "code",
   "execution_count": 8,
   "metadata": {},
   "outputs": [],
   "source": [
    "sample = 0\n",
    "\n",
    "#plotten werkt nog niet!\n",
    "#plot_recording(acc_time[sample],acc_data[sample],mic_sr[sample],mic_data[sample])\n"
   ]
  },
  {
   "cell_type": "code",
   "execution_count": 9,
   "metadata": {},
   "outputs": [],
   "source": [
    "# fig, ax = plt.subplots(3,figsize=(7,15), tight_layout=True)\n",
    "\n",
    "# ax[0].plot(acc_time[sample], acc_data[sample][:,0])\n",
    "# ax[0].grid()\n",
    "# ax[0].set_xlabel(r'time [s]', fontsize=10)\n",
    "# ax[0].set_ylabel(r'x-value acceleration', fontsize=10)\n",
    "# ax[0].set_title(r'Acceleration data', fontsize=14)\n",
    "\n",
    "# ax[1].plot(acc_time[sample], acc_data[sample][:,1])\n",
    "# ax[1].grid()\n",
    "# ax[1].set_xlabel(r'time [s]', fontsize=10)\n",
    "# ax[1].set_ylabel(r'y-value acceleration', fontsize=10)\n",
    "# ax[1].set_title(r'Acceleration data', fontsize=14)\n",
    "\n",
    "# ax[2].plot(acc_time[sample], acc_data[sample][:,2])\n",
    "# ax[2].grid()\n",
    "# ax[2].set_xlabel(r'time [s]', fontsize=10)\n",
    "# ax[2].set_ylabel(r'y-value acceleration', fontsize=10)\n",
    "# ax[2].set_title(r'Acceleration data', fontsize=14)\n",
    "\n",
    "# # mic_time = np.linspace(0,int(round(acc_time[-1])),mic_data.shape[0])\n",
    "\n",
    "# # ax[3].plot(mic_time, mic_data[:,0])\n",
    "# # ax[3].plot(mic_time, mic_data[:,1])\n",
    "# # ax[3].grid()\n",
    "# # ax[3].set_xlabel(r'time [s]', fontsize=10)\n",
    "# # ax[3].set_ylabel(r'magnitude microphone', fontsize=10)\n",
    "# # ax[3].set_title(r'Microphone data', fontsize=14)\n"
   ]
  }
 ],
 "metadata": {
  "kernelspec": {
   "display_name": "environment",
   "language": "python",
   "name": "python3"
  },
  "language_info": {
   "codemirror_mode": {
    "name": "ipython",
    "version": 3
   },
   "file_extension": ".py",
   "mimetype": "text/x-python",
   "name": "python",
   "nbconvert_exporter": "python",
   "pygments_lexer": "ipython3",
   "version": "3.8.5"
  },
  "orig_nbformat": 4
 },
 "nbformat": 4,
 "nbformat_minor": 2
}
