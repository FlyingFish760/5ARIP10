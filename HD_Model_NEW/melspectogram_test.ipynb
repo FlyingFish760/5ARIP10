{
 "cells": [
  {
   "cell_type": "code",
   "execution_count": 1,
   "metadata": {},
   "outputs": [
    {
     "name": "stdout",
     "output_type": "stream",
     "text": [
      "---------------------------------------------------------\n",
      "Generating database for HD's\n"
     ]
    }
   ],
   "source": [
    "from HD_DataLoader import *\n",
    "from HD_DataLoader import SplitNormalFaulty\n",
    "import os\n",
    "folder_path = os.path.join(os.getcwd(), 'HD_data') \n",
    "\n",
    "example1 = HD(data_path = folder_path)\n",
    "\n",
    "database = example1.generate_database()\n",
    "# test, train, val  = example1.get_NN_Loaders()"
   ]
  },
  {
   "cell_type": "code",
   "execution_count": 30,
   "metadata": {},
   "outputs": [],
   "source": [
    "# logmel_test = VairableSensorsDataset(database)\n",
    "\n",
    "import librosa\n",
    "\n",
    "test = SplitNormalFaulty(database)\n",
    "\n",
    "working, faulty = test.split_faulty_working_mic()\n",
    "\n",
    "working = np.array(working[0])\n",
    "\n",
    "# for t in np.arange(round(self.start_perc*time[-1]),round(self.stop_perc*time[-1]),self.stride_sec):\n",
    "                \n",
    "#                 if self.mic_bool=='True':\n",
    "#                     i = round(t*self.mic_fs)\n",
    "#                     data_mic = database[data]['Microphone']['Data'][:,0]             \n",
    "#                     data_mic = data_mic[i:i+round(self.window_sec*self.mic_fs)]\n",
    "#                 else:\n",
    "#                     data_mic = []\n",
    "\n",
    "def _get_melspectogram_features(data,\n",
    "                n_mels=64,\n",
    "                n_frames=1,\n",
    "                n_fft=1024,\n",
    "                hop_length=512,\n",
    "                power=2.0):\n",
    "    \"\"\"\n",
    "    convert file_name to a vector array.\n",
    "\n",
    "    file_name : str\n",
    "        target .wav file\n",
    "\n",
    "    return : numpy.array( numpy.array( float ) )\n",
    "        vector array\n",
    "        * dataset.shape = (dataset_size, feature_vector_length)\n",
    "    \"\"\"\n",
    "    # calculate the number of dimensions\n",
    "    dims = n_mels * n_frames\n",
    "\n",
    "    sr = 441\n",
    "\n",
    "    mel_spectrogram = librosa.feature.melspectrogram(y=data,\n",
    "                                                    sr=sr,\n",
    "                                                    n_fft=n_fft,\n",
    "                                                    hop_length=hop_length,\n",
    "                                                    n_mels=n_mels,\n",
    "                                                    power=power,\n",
    "                                                    center=False)\n",
    "\n",
    "    # convert melspectrogram to log mel energies\n",
    "    log_mel_spectrogram = 20.0 / power * np.log10(np.maximum(mel_spectrogram, sys.float_info.epsilon))\n",
    "\n",
    "    # calculate total vector size\n",
    "    n_vectors = len(log_mel_spectrogram[0, :]) - n_frames + 1\n",
    "\n",
    "    # skip too short clips\n",
    "    if n_vectors < 1:\n",
    "        return np.empty((0, dims))\n",
    "\n",
    "    # generate feature vectors by concatenating multiframes\n",
    "    vectors = np.zeros((n_vectors, dims))\n",
    "    for t in range(n_frames):\n",
    "        vectors[:, n_mels * t : n_mels * (t + 1)] = log_mel_spectrogram[:, t : t + n_vectors].T\n",
    "\n",
    "    return vectors\n",
    "\n",
    "window_sec = 1\n",
    "mic_fs = 44100\n",
    "\n",
    "vector_test = _get_melspectogram_features(working, n_fft = mic_fs, hop_length=(window_sec*mic_fs))\n",
    "\n",
    "# plt.plot(vector_test[6])\n",
    "# plt.show()"
   ]
  },
  {
   "cell_type": "code",
   "execution_count": 33,
   "metadata": {},
   "outputs": [
    {
     "data": {
      "text/plain": [
       "2646000"
      ]
     },
     "execution_count": 33,
     "metadata": {},
     "output_type": "execute_result"
    }
   ],
   "source": [
    "# len(working)\n",
    "\n",
    "44100*60"
   ]
  }
 ],
 "metadata": {
  "kernelspec": {
   "display_name": "5LSL0",
   "language": "python",
   "name": "5lsl0"
  },
  "language_info": {
   "codemirror_mode": {
    "name": "ipython",
    "version": 3
   },
   "file_extension": ".py",
   "mimetype": "text/x-python",
   "name": "python",
   "nbconvert_exporter": "python",
   "pygments_lexer": "ipython3",
   "version": "3.9.13"
  },
  "orig_nbformat": 4
 },
 "nbformat": 4,
 "nbformat_minor": 2
}
