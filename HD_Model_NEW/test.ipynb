{
 "cells": [
  {
   "cell_type": "code",
   "execution_count": 1,
   "metadata": {},
   "outputs": [
    {
     "name": "stdout",
     "output_type": "stream",
     "text": [
      "---------------------------------------------------------\n",
      "Generating database for HD's\n"
     ]
    },
    {
     "data": {
      "text/plain": [
       "{0: {'attributes': {'HD_label': 'F1',\n",
       "   'HD_status': 1,\n",
       "   'speed': '10',\n",
       "   'test_iter': '1'},\n",
       "  'Microphone': {},\n",
       "  'Vibration': {},\n",
       "  'dSpace': {}},\n",
       " 1: {'attributes': {'HD_label': 'F1',\n",
       "   'HD_status': 1,\n",
       "   'speed': '20',\n",
       "   'test_iter': '2'},\n",
       "  'Microphone': {},\n",
       "  'Vibration': {},\n",
       "  'dSpace': {}},\n",
       " 2: {'attributes': {'HD_label': 'F1',\n",
       "   'HD_status': 1,\n",
       "   'speed': '30',\n",
       "   'test_iter': '3'},\n",
       "  'Microphone': {},\n",
       "  'Vibration': {},\n",
       "  'dSpace': {}},\n",
       " 3: {'attributes': {'HD_label': 'F1',\n",
       "   'HD_status': 1,\n",
       "   'speed': '40',\n",
       "   'test_iter': '4'},\n",
       "  'Microphone': {},\n",
       "  'Vibration': {},\n",
       "  'dSpace': {}},\n",
       " 4: {'attributes': {'HD_label': 'F1',\n",
       "   'HD_status': 1,\n",
       "   'speed': '50',\n",
       "   'test_iter': '5'},\n",
       "  'Microphone': {},\n",
       "  'Vibration': {},\n",
       "  'dSpace': {}},\n",
       " 5: {'attributes': {'HD_label': 'F1',\n",
       "   'HD_status': 1,\n",
       "   'speed': '60',\n",
       "   'test_iter': '6'},\n",
       "  'Microphone': {},\n",
       "  'Vibration': {},\n",
       "  'dSpace': {}},\n",
       " 6: {'attributes': {'HD_label': 'N1',\n",
       "   'HD_status': 0,\n",
       "   'speed': '10',\n",
       "   'test_iter': '2'},\n",
       "  'Microphone': {},\n",
       "  'Vibration': {},\n",
       "  'dSpace': {}},\n",
       " 7: {'attributes': {'HD_label': 'N1',\n",
       "   'HD_status': 0,\n",
       "   'speed': '30',\n",
       "   'test_iter': '3'},\n",
       "  'Microphone': {},\n",
       "  'Vibration': {},\n",
       "  'dSpace': {}},\n",
       " 8: {'attributes': {'HD_label': 'N1',\n",
       "   'HD_status': 0,\n",
       "   'speed': '40',\n",
       "   'test_iter': '4'},\n",
       "  'Microphone': {},\n",
       "  'Vibration': {},\n",
       "  'dSpace': {}},\n",
       " 9: {'attributes': {'HD_label': 'N1',\n",
       "   'HD_status': 0,\n",
       "   'speed': '50',\n",
       "   'test_iter': '5'},\n",
       "  'Microphone': {},\n",
       "  'Vibration': {},\n",
       "  'dSpace': {}},\n",
       " 10: {'attributes': {'HD_label': 'N1',\n",
       "   'HD_status': 0,\n",
       "   'speed': '60',\n",
       "   'test_iter': '6'},\n",
       "  'Microphone': {},\n",
       "  'Vibration': {},\n",
       "  'dSpace': {}}}"
      ]
     },
     "execution_count": 1,
     "metadata": {},
     "output_type": "execute_result"
    }
   ],
   "source": [
    "from HD_DataLoader import *\n",
    "import os\n",
    "folder_path = os.path.join(os.getcwd(), 'HD_data') \n",
    "\n",
    "example1 = HD(data_path = folder_path)\n",
    "\n",
    "database = example1.generate_database()\n",
    "database"
   ]
  },
  {
   "cell_type": "code",
   "execution_count": 2,
   "metadata": {},
   "outputs": [
    {
     "name": "stdout",
     "output_type": "stream",
     "text": [
      "{'HD_label': 'F1', 'HD_status': 1, 'speed': '40', 'test_iter': '4'}\n",
      "F1_Mic_test_4_speed_40_fs44100_secs60.wav\n"
     ]
    }
   ],
   "source": [
    "print(database[3]['attributes'])\n",
    "\n",
    "folder_path_new =  os.path.join(folder_path, 'Microphone') \n",
    "\n",
    "for file_name in os.listdir(folder_path_new):\n",
    "    base_name = splitext(file_name)[0]\n",
    "\n",
    "        # Split the file name into individual words\n",
    "    words = base_name.split('_')\n",
    "\n",
    "    if database[3]['attributes']['HD_label']in words and database[3]['attributes']['speed']in words and database[3]['attributes']['test_iter'] in words: \n",
    "        print(file_name)"
   ]
  }
 ],
 "metadata": {
  "kernelspec": {
   "display_name": "Course_5ARIP10",
   "language": "python",
   "name": "python3"
  },
  "language_info": {
   "codemirror_mode": {
    "name": "ipython",
    "version": 3
   },
   "file_extension": ".py",
   "mimetype": "text/x-python",
   "name": "python",
   "nbconvert_exporter": "python",
   "pygments_lexer": "ipython3",
   "version": "3.11.3"
  },
  "orig_nbformat": 4
 },
 "nbformat": 4,
 "nbformat_minor": 2
}
