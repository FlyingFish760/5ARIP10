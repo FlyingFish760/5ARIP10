{
 "cells": [
  {
   "cell_type": "code",
   "execution_count": 1,
   "metadata": {},
   "outputs": [],
   "source": [
    "import os\n",
    "from torch.utils.data import DataLoader\n",
    "from sklearn.model_selection import train_test_split\n",
    "import torch.nn as nn\n",
    "import torch.optim as optim\n",
    "from torch.utils.data import DataLoader\n",
    "import matplotlib.pyplot as plt\n",
    "# from torchinfo import summary\n",
    "\n",
    "from NN_config import Config\n",
    "from HD_DataLoader import *\n",
    "from NN_model import *\n"
   ]
  },
  {
   "attachments": {},
   "cell_type": "markdown",
   "metadata": {},
   "source": [
    "Get the database:"
   ]
  },
  {
   "cell_type": "code",
   "execution_count": 2,
   "metadata": {},
   "outputs": [
    {
     "name": "stdout",
     "output_type": "stream",
     "text": [
      "---------------------------------------------------------\n",
      "Generating database for HD's\n"
     ]
    }
   ],
   "source": [
    "folder_path = os.path.join(os.getcwd(), 'HD_data') \n",
    "HD_class = HD(data_path = folder_path)\n",
    "database = HD_class.generate_database()"
   ]
  },
  {
   "attachments": {},
   "cell_type": "markdown",
   "metadata": {},
   "source": [
    "Get the testing, training and validation set:"
   ]
  },
  {
   "cell_type": "code",
   "execution_count": 3,
   "metadata": {},
   "outputs": [],
   "source": [
    "# Assuming you have a database variable containing your raw data\n",
    "# dataset = VairableSensorsDataset(database, mic_bool='True', vibr_bool='False', cur_bool='False', speed_bool='False', start_percentage=0.1, stop_percentage = 0.9, window_sec = 0.1, stride_sec=0.03)\n",
    "# dataset = VairableSensorsDataset(database, mic_bool='True', vibr_bool='False', cur_bool='False', start_percentage=0.1, stop_percentage = 0.9, window_sec = 0.1, stride_sec=0.03)\n",
    "dataset = StatisticalFeaturesDataset(database, window_sec=2, selected_domain = {'Mic': 'freq', 'dSpace': 'time'}, Mic_bool = 'True', Curr_bool = 'True')\n",
    "\n",
    "# Splitting the data into train, test, and validation sets\n",
    "train_dataset, test_dataset = train_test_split(dataset, test_size=0.2, random_state=42, shuffle=True)\n",
    "train_dataset, val_dataset = train_test_split(train_dataset, test_size=0.1, random_state=42, shuffle=True)\n",
    "\n",
    "# Creating data loaders\n",
    "batch_size = 32\n",
    "train_dataloader = DataLoader(train_dataset, batch_size=batch_size, shuffle=True)\n",
    "test_dataloader = DataLoader(test_dataset, batch_size=batch_size, shuffle=False)\n",
    "val_dataloader = DataLoader(val_dataset, batch_size=batch_size, shuffle=False)\n"
   ]
  },
  {
   "attachments": {},
   "cell_type": "markdown",
   "metadata": {},
   "source": [
    "Setup the NN"
   ]
  },
  {
   "cell_type": "code",
   "execution_count": 4,
   "metadata": {},
   "outputs": [
    {
     "name": "stdout",
     "output_type": "stream",
     "text": [
      "The input dimension: 11\n",
      "The amound of batches in the train loaders: 17\n"
     ]
    }
   ],
   "source": [
    "train_features, train_labels = next(iter(train_dataloader))\n",
    "input_dim = train_features.shape[1]\n",
    "print('The input dimension: ' + str(input_dim))\n",
    "print('The amound of batches in the train loaders: ' + str(len(train_dataloader)))\n",
    "      \n",
    "cfg = Config()\n",
    "\n",
    "# Initialize network\n",
    "model = Classifier(input_dim)\n",
    "model.train()\n",
    "if cfg.enable_cuda:\n",
    "    model = model.cuda()\n",
    "\n",
    "# Initialize optimizer\n",
    "# optimizer = optim.SGD(model.parameters(), lr=cfg.lr, momentum=cfg.lr_momentum, weight_decay=cfg.weight_decay)\n",
    "\n",
    "# class_weights = torch.tensor([1, 0.5]) #because we have twice as\n",
    "# criterion = nn.BCELoss(weight=class_weights)\n",
    "criterion = nn.BCELoss()\n",
    "optimizer = optim.Adam(model.parameters(), lr=0.005)\n",
    "\n",
    "# summary(model,input_size=(batch_size,input_dim))"
   ]
  },
  {
   "attachments": {},
   "cell_type": "markdown",
   "metadata": {},
   "source": [
    "Train the NN"
   ]
  },
  {
   "cell_type": "code",
   "execution_count": 5,
   "metadata": {},
   "outputs": [
    {
     "name": "stdout",
     "output_type": "stream",
     "text": [
      "Epoch [1/10], Training Loss: 0.6669, Validation Loss: 0.6525, Validation Accuracy: 74.14%\n",
      "Epoch [2/10], Training Loss: 0.5327, Validation Loss: 0.4530, Validation Accuracy: 79.31%\n",
      "Epoch [3/10], Training Loss: 0.4447, Validation Loss: 0.4425, Validation Accuracy: 75.86%\n",
      "Epoch [4/10], Training Loss: 0.3843, Validation Loss: 0.4473, Validation Accuracy: 74.14%\n",
      "Epoch [5/10], Training Loss: 0.4074, Validation Loss: 0.3982, Validation Accuracy: 82.76%\n",
      "Epoch [6/10], Training Loss: 0.3906, Validation Loss: 0.3872, Validation Accuracy: 79.31%\n",
      "Epoch [7/10], Training Loss: 0.3339, Validation Loss: 0.3822, Validation Accuracy: 75.86%\n",
      "Epoch [8/10], Training Loss: 0.3485, Validation Loss: 0.4189, Validation Accuracy: 75.86%\n",
      "Epoch [9/10], Training Loss: 0.3330, Validation Loss: 0.3360, Validation Accuracy: 81.03%\n",
      "Epoch [10/10], Training Loss: 0.2995, Validation Loss: 0.2998, Validation Accuracy: 84.48%\n",
      "Finished training.\n",
      "Saved trained model as model.pth.\n"
     ]
    }
   ],
   "source": [
    "# Track losses\n",
    "train_losses = []\n",
    "val_losses = []\n",
    "i = 0\n",
    "\n",
    "for epoch in range(cfg.num_epochs):\n",
    "    \n",
    "    #Training phase\n",
    "    model.train()  # Set the model in training mode\n",
    "    epoch_train_loss = 0.0\n",
    "\n",
    "    for i, data in enumerate(train_dataloader, 0):\n",
    "        # get the inputs; data is a list of [inputs, labels]\n",
    "        inputs, labels = data\n",
    "        labels = labels.float().reshape(-1,1)\n",
    "\n",
    "        # zero the parameter gradients\n",
    "        optimizer.zero_grad()\n",
    "\n",
    "        # forward + backward + optimize\n",
    "        outputs = model(inputs)\n",
    "\n",
    "        # sample_weights = torch.where(labels == 1, torch.tensor(0.5), torch.tensor(1))\n",
    "        # weighted_loss = torch.mean(loss * sample_weights)\n",
    "\n",
    "        loss = criterion(outputs, labels)\n",
    "        \n",
    "        loss.backward()\n",
    "        optimizer.step()\n",
    "        \n",
    "        epoch_train_loss += loss.item()\n",
    "\n",
    "        # Print training progress\n",
    "        # if (i + 1) % 10 == 0:\n",
    "        #     print(f\"Epoch [{epoch + 1}/{cfg.num_epochs}], Batch [{i + 1}/{len(train_dataloader)}], Loss: {loss.item():.4f}\")\n",
    "\n",
    "    # Validation phase\n",
    "    model.eval()  # Set the model in evaluation mode\n",
    "    val_loss = 0.0\n",
    "    correct = 0\n",
    "    total = 0\n",
    "\n",
    "    with torch.no_grad():\n",
    "            for i, data in enumerate(val_dataloader,0):\n",
    "                # get the inputs; data is a list of [inputs, labels]\n",
    "                inputs, labels = data\n",
    "                labels = labels.float().reshape(-1,1)\n",
    "\n",
    "                outputs = model(inputs)\n",
    "                loss = criterion(outputs, labels)\n",
    "                val_loss += loss.item()\n",
    "\n",
    "                predicted = (outputs >= 0.5).squeeze().long()\n",
    "                total += labels.size(0)\n",
    "                correct += predicted.eq(labels.squeeze()).sum().item()\n",
    "\n",
    "    # Print training validation metrics\n",
    "    val_loss /= len(val_dataloader)\n",
    "    val_acc = correct / total * 100\n",
    "    train_loss = epoch_train_loss / len(train_dataloader)\n",
    "\n",
    "    print(f\"Epoch [{epoch + 1}/{cfg.num_epochs}], Training Loss: {train_loss:.4f}, Validation Loss: {val_loss:.4f}, Validation Accuracy: {val_acc:.2f}%\")\n",
    "    \n",
    "    # Store losses\n",
    "    train_losses.append(train_loss)\n",
    "    val_losses.append(val_loss)\n",
    "\n",
    "print(\"Finished training.\")\n",
    "save_path = 'model.pth'\n",
    "torch.save(model.state_dict(), save_path)\n",
    "print(\"Saved trained model as {}.\".format(save_path))"
   ]
  },
  {
   "cell_type": "code",
   "execution_count": 6,
   "metadata": {},
   "outputs": [
    {
     "data": {
      "image/png": "[encoded data removed]",
      "text/plain": [
       "<Figure size 640x480 with 1 Axes>"
      ]
     },
     "metadata": {},
     "output_type": "display_data"
    }
   ],
   "source": [
    "# Plot the losses\n",
    "plt.plot(range(1, cfg.num_epochs + 1), train_losses, label='Training Loss')\n",
    "plt.plot(range(1, cfg.num_epochs + 1), val_losses, label='Validation Loss')\n",
    "plt.xlabel('Epochs')\n",
    "plt.ylabel('Loss')\n",
    "plt.title('Training and Validation Loss')\n",
    "plt.legend()\n",
    "plt.grid()\n",
    "plt.show()"
   ]
  },
  {
   "attachments": {},
   "cell_type": "markdown",
   "metadata": {},
   "source": [
    "Test the model"
   ]
  },
  {
   "cell_type": "code",
   "execution_count": 7,
   "metadata": {},
   "outputs": [
    {
     "name": "stdout",
     "output_type": "stream",
     "text": [
      "Starting evaluation with the test set...\n",
      "Accuracy of the network on the 144 test images: 84.7 %\n",
      "Correct predictions: 122\n",
      "Total predictions: 144\n",
      "False positive rate: 0.25333333333333335\n",
      "False negative rate: 0.043478260869565216\n",
      "Percentage of positively predicted samples: 0.5902777777777778\n"
     ]
    }
   ],
   "source": [
    "correct = 0\n",
    "total = 0\n",
    "\n",
    "# track false positive rate and false negative rate\n",
    "false_positive = 0\n",
    "true_positive = 0\n",
    "false_negative = 0\n",
    "true_negative = 0\n",
    "\n",
    "print(\"Starting evaluation with the test set...\")\n",
    "\n",
    "with torch.no_grad():\n",
    "    for i, data in enumerate(test_dataloader,0):\n",
    "        # get the inputs; data is a list of [inputs, labels]\n",
    "        inputs, labels = data\n",
    "        labels = labels.float().reshape(-1,1)\n",
    "\n",
    "        outputs = model(inputs)\n",
    "        loss = criterion(outputs, labels)\n",
    "        val_loss += loss.item()\n",
    "\n",
    "        predicted = (outputs >= 0.5).squeeze().long()\n",
    "        total += labels.size(0)\n",
    "        correct += predicted.eq(labels.squeeze()).sum().item()\n",
    "        \n",
    "        for i in range(len(predicted)):\n",
    "                    if predicted[i] == 1 and labels[i] == 0:\n",
    "                        false_positive += 1\n",
    "                    elif predicted[i] == 0 and labels[i] == 1:\n",
    "                        false_negative += 1\n",
    "                    elif predicted[i] == 1 and labels[i] == 1:\n",
    "                        true_positive += 1\n",
    "                    elif predicted[i] == 0 and labels[i] == 0:\n",
    "                        true_negative += 1\n",
    "\n",
    "print(\"Accuracy of the network on the {} test images: {} %\".format(total, round((correct/total*100), 1)) )\n",
    "print(\"Correct predictions: {}\".format(correct))\n",
    "print(\"Total predictions: {}\".format(total))\n",
    "\n",
    "false_positive_rate = false_positive / (false_positive + true_negative)\n",
    "false_negative_rate = false_negative / (false_negative + true_positive)\n",
    "\n",
    "print(\"False positive rate: \" + str(false_positive_rate))\n",
    "print(\"False negative rate: \" + str(false_negative_rate))\n",
    "print(\"Percentage of positively predicted samples: \" + str((false_positive + true_positive) / total))"
   ]
  },
  {
   "attachments": {},
   "cell_type": "markdown",
   "metadata": {},
   "source": [
    "Hugo his code using different classes in the dataloader"
   ]
  },
  {
   "cell_type": "code",
   "execution_count": 8,
   "metadata": {},
   "outputs": [],
   "source": [
    "# test = SplitNormalFaulty(database)\n",
    "# working, faulty = test.split_faulty_working_vib('X_vibr')\n",
    "# Data_prep = DataPreprocessing(working, faulty)\n",
    "\n",
    "# inputs, labels = Data_prep.create_data_batches()\n",
    "\n",
    "# print(\"Number of inputs is {}\".format(len(inputs)))\n"
   ]
  },
  {
   "cell_type": "code",
   "execution_count": 9,
   "metadata": {},
   "outputs": [],
   "source": [
    "# x_train, x_test, y_train, y_test = train_test_split(inputs, labels, test_size=0.4, random_state=42)\n",
    "# x_train, x_val, y_train, y_val = train_test_split(x_train, y_train, test_size=0.1, random_state=42)\n",
    "\n",
    "# training_data = CustomDataset(x_train, y_train)\n",
    "# test_data = CustomDataset(x_test, y_test)\n",
    "# val_data = CustomDataset(x_val, y_val)\n",
    "\n",
    "# # training_data = CustomImageDataset(x_train, y_train)\n",
    "# # test_data = CustomImageDataset(x_test, y_test)\n",
    "\n",
    "# train_dataloader = DataLoader(training_data, batch_size=64, shuffle=True)\n",
    "# test_dataloader = DataLoader(test_data, batch_size=64, shuffle=True)\n",
    "# test_dataloader = DataLoader(val_data, batch_size=64, shuffle=True)"
   ]
  },
  {
   "cell_type": "code",
   "execution_count": 10,
   "metadata": {},
   "outputs": [],
   "source": [
    "# train_features, train_labels = next(iter(train_dataloader))\n",
    "# print(f\"Feature batch shape: {train_features.size()}\")\n",
    "# print(f\"Labels batch shape: {train_labels.size()}\")"
   ]
  }
 ],
 "metadata": {
  "kernelspec": {
   "display_name": "Course_5ARIP10",
   "language": "python",
   "name": "python3"
  },
  "language_info": {
   "codemirror_mode": {
    "name": "ipython",
    "version": 3
   },
   "file_extension": ".py",
   "mimetype": "text/x-python",
   "name": "python",
   "nbconvert_exporter": "python",
   "pygments_lexer": "ipython3",
   "version": "3.8.13"
  },
  "orig_nbformat": 4
 },
 "nbformat": 4,
 "nbformat_minor": 2
}
