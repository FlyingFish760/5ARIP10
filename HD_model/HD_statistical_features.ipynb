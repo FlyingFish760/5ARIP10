{
 "cells": [
  {
   "attachments": {},
   "cell_type": "markdown",
   "metadata": {},
   "source": [
    "Using this notebook file, one should be able to load in their data, and retrieve its statistical features."
   ]
  },
  {
   "cell_type": "code",
   "execution_count": 8,
   "metadata": {},
   "outputs": [],
   "source": [
    "# import libaries\n",
    "import os\n",
    "\n",
    "# import self-written functions\n",
    "from HD_statistical_functions import *\n"
   ]
  },
  {
   "attachments": {},
   "cell_type": "markdown",
   "metadata": {},
   "source": [
    "Loading in data"
   ]
  },
  {
   "cell_type": "code",
   "execution_count": 9,
   "metadata": {},
   "outputs": [],
   "source": [
    "# select the data you want to analyze based on the date it was measured\n",
    "date = '03-05_Omron'\n",
    "dir_data = os.path.join(os.getcwd(), \"data\") \n",
    "\n",
    "acc_files, acc_time, acc_data, acc_data_fft, mic_files, mic_sr, mic_data, mic_data_fft = loading_data(dir_data, date)\n"
   ]
  },
  {
   "cell_type": "code",
   "execution_count": 10,
   "metadata": {},
   "outputs": [
    {
     "name": "stdout",
     "output_type": "stream",
     "text": [
      "Example file \" Accelerometer_Omron_test10_fs3200_secs10.csv \" has the following format with x,y,z data:\n",
      "[[' -0.28125' ' -1.00000' ' 0.25000 ']\n",
      " [' -0.72656' ' -1.07812' ' 0.25000 ']\n",
      " [' -0.39844' ' -1.03906' ' 0.35938 ']\n",
      " ...\n",
      " [' -0.25000' ' -0.76562' ' 0.03125 ']\n",
      " [' -0.41406' ' -1.25000' ' 0.07812 ']\n",
      " [' -0.41406' ' -1.25000' ' 0.07812 ']]\n",
      "\n",
      "Example file \" Microphone_Omron_test_10_fs44100_secs10.wav \" has the following format stereo left right:\n",
      "[[-0.00469971 -0.00469971]\n",
      " [-0.00189209 -0.00186157]\n",
      " [-0.00183105 -0.00183105]\n",
      " ...\n",
      " [-0.00338745 -0.00338745]\n",
      " [-0.00521851 -0.00524902]\n",
      " [ 0.00228882  0.0022583 ]]\n"
     ]
    }
   ],
   "source": [
    "print('Example file \"',acc_files[0], '\" has the following format with x,y,z data:')\n",
    "print(acc_data[0])\n",
    "print('')\n",
    "print('Example file \"',mic_files[0], '\" has the following format stereo left right:')\n",
    "print(mic_data[0])"
   ]
  },
  {
   "attachments": {},
   "cell_type": "markdown",
   "metadata": {},
   "source": [
    "Plot the recording"
   ]
  },
  {
   "cell_type": "code",
   "execution_count": 11,
   "metadata": {},
   "outputs": [],
   "source": [
    "sample = 0\n",
    "plot_recording(acc_time[sample],acc_data[sample],mic_sr[sample],mic_data[sample])"
   ]
  }
 ],
 "metadata": {
  "kernelspec": {
   "display_name": "environment",
   "language": "python",
   "name": "python3"
  },
  "language_info": {
   "codemirror_mode": {
    "name": "ipython",
    "version": 3
   },
   "file_extension": ".py",
   "mimetype": "text/x-python",
   "name": "python",
   "nbconvert_exporter": "python",
   "pygments_lexer": "ipython3",
   "version": "3.11.3"
  },
  "orig_nbformat": 4
 },
 "nbformat": 4,
 "nbformat_minor": 2
}
