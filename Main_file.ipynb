{
 "cells": [
  {
   "cell_type": "code",
   "execution_count": 25,
   "metadata": {},
   "outputs": [],
   "source": [
    "#Import libaries\n",
    "import matplotlib.pyplot as plt\n",
    "import numpy as np\n",
    "from scipy.fft import fft, ifft\n",
    "from scipy.io import wavfile\n",
    "from pylab import *\n",
    "import os\n",
    "import librosa\n",
    "\n",
    "#Import self-written functions\n",
    "from Denoise_Functions import *\n",
    "from features_functions import *"
   ]
  },
  {
   "cell_type": "code",
   "execution_count": 26,
   "metadata": {},
   "outputs": [],
   "source": [
    "#Get directories with data\n",
    "dir_gearbox = os.path.join(os.getcwd(), 'gearbox')\n",
    "dir_train = os.path.join(dir_gearbox, \"train\")\n",
    "dir_test = os.path.join(dir_gearbox, \"test\")"
   ]
  },
  {
   "cell_type": "code",
   "execution_count": 27,
   "metadata": {},
   "outputs": [
    {
     "name": "stdout",
     "output_type": "stream",
     "text": [
      "10\n",
      "10\n"
     ]
    }
   ],
   "source": [
    "# Extract anomoly files and normal files from the test set\n",
    "\n",
    "anom_files = []\n",
    "anom_sr = []\n",
    "anom_data = []\n",
    "\n",
    "norm_files = []\n",
    "norm_sr = []\n",
    "norm_data = []\n",
    "\n",
    "# make a list of all the files in the training data folder that contain section_00 in the name and volt_1.0 in the name\n",
    "for i in os.listdir(dir_test):\n",
    "    if 'anomaly' in i and 'section_00' in i and 'volt_1.0' in i:\n",
    "        anom_files.append(i)\n",
    "        data, samplerate = librosa.load(dir_test + '\\\\' + i)\n",
    "        anom_sr.append(samplerate)\n",
    "        anom_data.append(data)\n",
    "\n",
    "    if 'normal' in i and 'section_00' in i and 'volt_1.0' in i:\n",
    "        norm_files.append(i)\n",
    "        data, samplerate = librosa.load(dir_test + '\\\\' + i)\n",
    "        norm_sr.append(samplerate)\n",
    "        norm_data.append(data)\n",
    "\n",
    "# # check length of list\n",
    "print(len(anom_files))\n",
    "print(len(norm_files))"
   ]
  },
  {
   "cell_type": "code",
   "execution_count": 32,
   "metadata": {},
   "outputs": [
    {
     "ename": "TypeError",
     "evalue": "slice indices must be integers or None or have an __index__ method",
     "output_type": "error",
     "traceback": [
      "\u001b[0;31m---------------------------------------------------------------------------\u001b[0m",
      "\u001b[0;31mTypeError\u001b[0m                                 Traceback (most recent call last)",
      "Cell \u001b[0;32mIn[32], line 12\u001b[0m\n\u001b[1;32m     10\u001b[0m \u001b[39m#Get the fft from the data\u001b[39;00m\n\u001b[1;32m     11\u001b[0m yf_v1 \u001b[39m=\u001b[39m fft(y)\n\u001b[0;32m---> 12\u001b[0m yf \u001b[39m=\u001b[39m \u001b[39m2.0\u001b[39m\u001b[39m/\u001b[39mN \u001b[39m*\u001b[39m np\u001b[39m.\u001b[39mabs(yf_v1[\u001b[39m0\u001b[39;49m:N\u001b[39m/\u001b[39;49m\u001b[39m2\u001b[39;49m])\n\u001b[1;32m     13\u001b[0m xf \u001b[39m=\u001b[39m fftfreq(N, t_end\u001b[39m/\u001b[39mN)[:N\u001b[39m/\u001b[39m\u001b[39m2\u001b[39m]\n\u001b[1;32m     15\u001b[0m plt\u001b[39m.\u001b[39mrcParams[\u001b[39m'\u001b[39m\u001b[39mtext.usetex\u001b[39m\u001b[39m'\u001b[39m] \u001b[39m=\u001b[39m \u001b[39mTrue\u001b[39;00m\n",
      "\u001b[0;31mTypeError\u001b[0m: slice indices must be integers or None or have an __index__ method"
     ]
    }
   ],
   "source": [
    "#Test for 1 file the smoothing\n",
    "i=1\n",
    "\n",
    "N = norm_data[i].shape[0]\n",
    "t_end = N / norm_sr[i]\n",
    "\n",
    "x = np.linspace(0., t_end, N)\n",
    "y = norm_data[i]\n",
    "\n",
    "#Get the fft from the data\n",
    "yf_v1 = fft(y)\n",
    "yf = 2.0/N * np.abs(yf_v1[0:N//2])\n",
    "xf = fftfreq(N, t_end/N)[:N//2]\n",
    "\n",
    "plt.rcParams['text.usetex'] = True\n",
    "\n",
    "fig, ax = plt.subplots(1, 2,figsize=(6, 4), tight_layout=True)\n",
    "ax[1].subplot(1,2,1)\n",
    "ax[1].plot(x,y)\n",
    "ax[1].grid()\n",
    "ax[1].set_xlabel(r'Time [s]')\n",
    "ax[1].set_ylabel('Amplitude', fontsize=16)\n",
    "ax[1].set_title(r'Time domain', fontsize=16)\n",
    "\n",
    "# plt.subplot(1,2,2)\n",
    "# plt.plot(xf,yf)\n",
    "# plt.grid()\n",
    "# plt.yscale('log')\n",
    "# plt.title('Frequency domain')\n",
    "\n",
    "plt.show()\n"
   ]
  },
  {
   "cell_type": "code",
   "execution_count": 29,
   "metadata": {},
   "outputs": [],
   "source": [
    "#Perform smoothing for all data\n",
    "anom_data_denoised = smoothen_fft(anom_data,anom_sr)\n",
    "norm_data_denoised = smoothen_fft(norm_data,norm_sr)"
   ]
  },
  {
   "cell_type": "code",
   "execution_count": 30,
   "metadata": {},
   "outputs": [],
   "source": [
    "# extract basic features\n",
    "anom_means, anom_stds, anom_maxs, anom_mins, anom_medians = extract_basics(anom_data_denoised)\n",
    "norm_means, norm_stds, norm_maxs, norm_mins, norm_medians = extract_basics(norm_data_denoised)"
   ]
  },
  {
   "cell_type": "code",
   "execution_count": 31,
   "metadata": {},
   "outputs": [
    {
     "ename": "TypeError",
     "evalue": "unsupported operand type(s) for /: 'float' and 'list'",
     "output_type": "error",
     "traceback": [
      "\u001b[0;31m---------------------------------------------------------------------------\u001b[0m",
      "\u001b[0;31mTypeError\u001b[0m                                 Traceback (most recent call last)",
      "Cell \u001b[0;32mIn[31], line 7\u001b[0m\n\u001b[1;32m      5\u001b[0m \u001b[39m# plot first spectrogram\u001b[39;00m\n\u001b[1;32m      6\u001b[0m plt\u001b[39m.\u001b[39mfigure(figsize\u001b[39m=\u001b[39m(\u001b[39m15\u001b[39m, \u001b[39m3\u001b[39m))\n\u001b[0;32m----> 7\u001b[0m librosa\u001b[39m.\u001b[39;49mdisplay\u001b[39m.\u001b[39;49mspecshow(anom_spec[\u001b[39m0\u001b[39;49m], sr\u001b[39m=\u001b[39;49manom_sr, x_axis\u001b[39m=\u001b[39;49m\u001b[39m'\u001b[39;49m\u001b[39mtime\u001b[39;49m\u001b[39m'\u001b[39;49m, y_axis\u001b[39m=\u001b[39;49m\u001b[39m'\u001b[39;49m\u001b[39mhz\u001b[39;49m\u001b[39m'\u001b[39;49m)\n\u001b[1;32m      8\u001b[0m plt\u001b[39m.\u001b[39mtitle(\u001b[39m'\u001b[39m\u001b[39mSpectrogram\u001b[39m\u001b[39m'\u001b[39m)\n\u001b[1;32m      9\u001b[0m plt\u001b[39m.\u001b[39mcolorbar()\n",
      "File \u001b[0;32m~/opt/anaconda3/envs/environment/lib/python3.8/site-packages/librosa/display.py:1210\u001b[0m, in \u001b[0;36mspecshow\u001b[0;34m(data, x_coords, y_coords, x_axis, y_axis, sr, hop_length, n_fft, win_length, fmin, fmax, tuning, bins_per_octave, key, Sa, mela, thaat, auto_aspect, htk, unicode, intervals, unison, ax, **kwargs)\u001b[0m\n\u001b[1;32m   1192\u001b[0m all_params \u001b[39m=\u001b[39m \u001b[39mdict\u001b[39m(\n\u001b[1;32m   1193\u001b[0m     kwargs\u001b[39m=\u001b[39mkwargs,\n\u001b[1;32m   1194\u001b[0m     sr\u001b[39m=\u001b[39msr,\n\u001b[0;32m   (...)\u001b[0m\n\u001b[1;32m   1206\u001b[0m     unison\u001b[39m=\u001b[39munison,\n\u001b[1;32m   1207\u001b[0m )\n\u001b[1;32m   1209\u001b[0m \u001b[39m# Get the x and y coordinates\u001b[39;00m\n\u001b[0;32m-> 1210\u001b[0m y_coords \u001b[39m=\u001b[39m __mesh_coords(y_axis, y_coords, data\u001b[39m.\u001b[39;49mshape[\u001b[39m0\u001b[39;49m], \u001b[39m*\u001b[39;49m\u001b[39m*\u001b[39;49mall_params)\n\u001b[1;32m   1211\u001b[0m x_coords \u001b[39m=\u001b[39m __mesh_coords(x_axis, x_coords, data\u001b[39m.\u001b[39mshape[\u001b[39m1\u001b[39m], \u001b[39m*\u001b[39m\u001b[39m*\u001b[39mall_params)\n\u001b[1;32m   1213\u001b[0m axes \u001b[39m=\u001b[39m __check_axes(ax)\n",
      "File \u001b[0;32m~/opt/anaconda3/envs/environment/lib/python3.8/site-packages/librosa/display.py:1320\u001b[0m, in \u001b[0;36m__mesh_coords\u001b[0;34m(ax_type, coords, n, **kwargs)\u001b[0m\n\u001b[1;32m   1318\u001b[0m \u001b[39mif\u001b[39;00m ax_type \u001b[39mnot\u001b[39;00m \u001b[39min\u001b[39;00m coord_map:\n\u001b[1;32m   1319\u001b[0m     \u001b[39mraise\u001b[39;00m ParameterError(\u001b[39mf\u001b[39m\u001b[39m\"\u001b[39m\u001b[39mUnknown axis type: \u001b[39m\u001b[39m{\u001b[39;00max_type\u001b[39m}\u001b[39;00m\u001b[39m\"\u001b[39m)\n\u001b[0;32m-> 1320\u001b[0m \u001b[39mreturn\u001b[39;00m coord_map[ax_type](n, \u001b[39m*\u001b[39;49m\u001b[39m*\u001b[39;49mkwargs)\n",
      "File \u001b[0;32m~/opt/anaconda3/envs/environment/lib/python3.8/site-packages/librosa/display.py:1702\u001b[0m, in \u001b[0;36m__coord_fft_hz\u001b[0;34m(n, sr, n_fft, **_kwargs)\u001b[0m\n\u001b[1;32m   1699\u001b[0m     n_fft \u001b[39m=\u001b[39m \u001b[39m2\u001b[39m \u001b[39m*\u001b[39m (n \u001b[39m-\u001b[39m \u001b[39m1\u001b[39m)\n\u001b[1;32m   1700\u001b[0m \u001b[39m# The following code centers the FFT bins at their frequencies\u001b[39;00m\n\u001b[1;32m   1701\u001b[0m \u001b[39m# and clips to the non-negative frequency range [0, nyquist]\u001b[39;00m\n\u001b[0;32m-> 1702\u001b[0m basis \u001b[39m=\u001b[39m core\u001b[39m.\u001b[39;49mfft_frequencies(sr\u001b[39m=\u001b[39;49msr, n_fft\u001b[39m=\u001b[39;49mn_fft)\n\u001b[1;32m   1703\u001b[0m \u001b[39mreturn\u001b[39;00m basis\n",
      "File \u001b[0;32m~/opt/anaconda3/envs/environment/lib/python3.8/site-packages/librosa/core/convert.py:1625\u001b[0m, in \u001b[0;36mfft_frequencies\u001b[0;34m(sr, n_fft)\u001b[0m\n\u001b[1;32m   1602\u001b[0m \u001b[39mdef\u001b[39;00m \u001b[39mfft_frequencies\u001b[39m(\u001b[39m*\u001b[39m, sr: \u001b[39mfloat\u001b[39m \u001b[39m=\u001b[39m \u001b[39m22050\u001b[39m, n_fft: \u001b[39mint\u001b[39m \u001b[39m=\u001b[39m \u001b[39m2048\u001b[39m) \u001b[39m-\u001b[39m\u001b[39m>\u001b[39m np\u001b[39m.\u001b[39mndarray:\n\u001b[1;32m   1603\u001b[0m     \u001b[39m\"\"\"Alternative implementation of `np.fft.fftfreq`\u001b[39;00m\n\u001b[1;32m   1604\u001b[0m \n\u001b[1;32m   1605\u001b[0m \u001b[39m    Parameters\u001b[39;00m\n\u001b[0;32m   (...)\u001b[0m\n\u001b[1;32m   1622\u001b[0m \n\u001b[1;32m   1623\u001b[0m \u001b[39m    \"\"\"\u001b[39;00m\n\u001b[0;32m-> 1625\u001b[0m     \u001b[39mreturn\u001b[39;00m np\u001b[39m.\u001b[39mfft\u001b[39m.\u001b[39mrfftfreq(n\u001b[39m=\u001b[39mn_fft, d\u001b[39m=\u001b[39m\u001b[39m1.0\u001b[39;49m \u001b[39m/\u001b[39;49m sr)\n",
      "\u001b[0;31mTypeError\u001b[0m: unsupported operand type(s) for /: 'float' and 'list'"
     ]
    },
    {
     "data": {
      "text/plain": [
       "<Figure size 1500x300 with 0 Axes>"
      ]
     },
     "metadata": {},
     "output_type": "display_data"
    }
   ],
   "source": [
    "# generate spectrogram\n",
    "anom_spec = spec(anom_data_denoised)\n",
    "norm_spec = spec(norm_data_denoised)\n",
    "    \n",
    "# plot first spectrogram\n",
    "plt.figure(figsize=(15, 3))\n",
    "librosa.display.specshow(anom_spec[0], sr=anom_sr, x_axis='time', y_axis='hz')\n",
    "plt.title('Spectrogram')\n",
    "plt.colorbar()"
   ]
  },
  {
   "cell_type": "code",
   "execution_count": null,
   "metadata": {},
   "outputs": [
    {
     "ename": "IndexError",
     "evalue": "list index out of range",
     "output_type": "error",
     "traceback": [
      "\u001b[0;31m---------------------------------------------------------------------------\u001b[0m",
      "\u001b[0;31mIndexError\u001b[0m                                Traceback (most recent call last)",
      "Cell \u001b[0;32mIn[24], line 17\u001b[0m\n\u001b[1;32m     15\u001b[0m \u001b[39m# plot first RMS\u001b[39;00m\n\u001b[1;32m     16\u001b[0m plt\u001b[39m.\u001b[39mfigure(figsize\u001b[39m=\u001b[39m(\u001b[39m15\u001b[39m, \u001b[39m3\u001b[39m))\n\u001b[0;32m---> 17\u001b[0m plt\u001b[39m.\u001b[39mplot(anom_rms[\u001b[39m0\u001b[39;49m][\u001b[39m0\u001b[39m])\n\u001b[1;32m     18\u001b[0m plt\u001b[39m.\u001b[39mtitle(\u001b[39m'\u001b[39m\u001b[39mRoot-Mean-Square Energy\u001b[39m\u001b[39m'\u001b[39m)\n\u001b[1;32m     19\u001b[0m plt\u001b[39m.\u001b[39mxlabel(\u001b[39m'\u001b[39m\u001b[39mTime (s)\u001b[39m\u001b[39m'\u001b[39m)\n",
      "\u001b[0;31mIndexError\u001b[0m: list index out of range"
     ]
    },
    {
     "data": {
      "text/plain": [
       "<Figure size 1500x300 with 0 Axes>"
      ]
     },
     "metadata": {},
     "output_type": "display_data"
    }
   ],
   "source": [
    "# extract RMS\n",
    "anom_rms = rms(anom_data_denoised)\n",
    "norm_rms = rms(norm_data_denoised)\n",
    "\n",
    "# plot first RMS\n",
    "plt.figure(figsize=(15, 3))\n",
    "plt.plot(anom_rms[0][0])\n",
    "plt.title('Root-Mean-Square Energy')\n",
    "plt.xlabel('Time (s)')\n",
    "plt.ylabel('RMS')\n",
    "plt.show()"
   ]
  },
  {
   "cell_type": "code",
   "execution_count": null,
   "metadata": {},
   "outputs": [
    {
     "ename": "IndexError",
     "evalue": "list index out of range",
     "output_type": "error",
     "traceback": [
      "\u001b[0;31m---------------------------------------------------------------------------\u001b[0m",
      "\u001b[0;31mIndexError\u001b[0m                                Traceback (most recent call last)",
      "Cell \u001b[0;32mIn[25], line 15\u001b[0m\n\u001b[1;32m     12\u001b[0m norm_zcr \u001b[39m=\u001b[39m zcr(norm_data_denoised)\n\u001b[1;32m     14\u001b[0m \u001b[39m# plot first ZCR\u001b[39;00m\n\u001b[0;32m---> 15\u001b[0m \u001b[39mprint\u001b[39m(\u001b[39mf\u001b[39m\u001b[39m\"\u001b[39m\u001b[39mZero crossing rate: \u001b[39m\u001b[39m{\u001b[39;00m\u001b[39msum\u001b[39m(librosa\u001b[39m.\u001b[39mzero_crossings(anom_data_denoised[\u001b[39m0\u001b[39m]))\u001b[39m}\u001b[39;00m\u001b[39m\"\u001b[39m)\n\u001b[1;32m     17\u001b[0m plt\u001b[39m.\u001b[39mfigure(figsize\u001b[39m=\u001b[39m(\u001b[39m15\u001b[39m, \u001b[39m3\u001b[39m))\n\u001b[1;32m     18\u001b[0m plt\u001b[39m.\u001b[39mplot(anom_zcr[\u001b[39m0\u001b[39m][\u001b[39m0\u001b[39m])\n",
      "\u001b[0;31mIndexError\u001b[0m: list index out of range"
     ]
    }
   ],
   "source": [
    "# extract ZCR\n",
    "\n",
    "anom_zcr = zcr(anom_data_denoised)\n",
    "norm_zcr = zcr(norm_data_denoised)\n",
    "    \n",
    "# plot first ZCR\n",
    "print(f\"Zero crossing rate: {sum(librosa.zero_crossings(anom_data_denoised[0]))}\")\n",
    "\n",
    "plt.figure(figsize=(15, 3))\n",
    "plt.plot(anom_zcr[0][0])\n",
    "plt.title('Zero Crossing Rate')\n",
    "plt.xlabel('Time (s)')\n",
    "plt.ylabel('ZCR')\n",
    "plt.show()"
   ]
  },
  {
   "cell_type": "code",
   "execution_count": null,
   "metadata": {},
   "outputs": [
    {
     "ename": "IndexError",
     "evalue": "list index out of range",
     "output_type": "error",
     "traceback": [
      "\u001b[0;31m---------------------------------------------------------------------------\u001b[0m",
      "\u001b[0;31mIndexError\u001b[0m                                Traceback (most recent call last)",
      "Cell \u001b[0;32mIn[26], line 16\u001b[0m\n\u001b[1;32m     14\u001b[0m \u001b[39m# plot first MFCC\u001b[39;00m\n\u001b[1;32m     15\u001b[0m plt\u001b[39m.\u001b[39mfigure(figsize\u001b[39m=\u001b[39m(\u001b[39m15\u001b[39m, \u001b[39m3\u001b[39m))\n\u001b[0;32m---> 16\u001b[0m librosa\u001b[39m.\u001b[39mdisplay\u001b[39m.\u001b[39mspecshow(anom_mfcc[\u001b[39m0\u001b[39;49m], sr\u001b[39m=\u001b[39manom_sr, x_axis\u001b[39m=\u001b[39m\u001b[39m'\u001b[39m\u001b[39mtime\u001b[39m\u001b[39m'\u001b[39m)\n\u001b[1;32m     17\u001b[0m plt\u001b[39m.\u001b[39mtitle(\u001b[39m'\u001b[39m\u001b[39mMFCC\u001b[39m\u001b[39m'\u001b[39m)\n\u001b[1;32m     18\u001b[0m plt\u001b[39m.\u001b[39mxlabel(\u001b[39m'\u001b[39m\u001b[39mTime (s)\u001b[39m\u001b[39m'\u001b[39m)\n",
      "\u001b[0;31mIndexError\u001b[0m: list index out of range"
     ]
    },
    {
     "data": {
      "text/plain": [
       "<Figure size 1500x300 with 0 Axes>"
      ]
     },
     "metadata": {},
     "output_type": "display_data"
    }
   ],
   "source": [
    "# extract MFCC\n",
    "\n",
    "anom_mfcc = mfcc(anom_data_denoised, anom_sr)\n",
    "norm_mfcc = mfcc(norm_data_denoised, norm_sr)\n",
    "\n",
    "# plot first MFCC\n",
    "plt.figure(figsize=(15, 3))\n",
    "librosa.display.specshow(anom_mfcc[0], sr=anom_sr, x_axis='time')\n",
    "plt.title('MFCC')\n",
    "plt.xlabel('Time (s)')\n",
    "plt.ylabel('MFCC')\n",
    "plt.colorbar()\n",
    "plt.show()"
   ]
  },
  {
   "cell_type": "code",
   "execution_count": null,
   "metadata": {},
   "outputs": [],
   "source": []
  }
 ],
 "metadata": {
  "kernelspec": {
   "display_name": "Course_5ARIP10",
   "language": "python",
   "name": "python3"
  },
  "language_info": {
   "codemirror_mode": {
    "name": "ipython",
    "version": 3
   },
   "file_extension": ".py",
   "mimetype": "text/x-python",
   "name": "python",
   "nbconvert_exporter": "python",
   "pygments_lexer": "ipython3",
   "version": "3.9.16"
  },
  "orig_nbformat": 4
 },
 "nbformat": 4,
 "nbformat_minor": 2
}
