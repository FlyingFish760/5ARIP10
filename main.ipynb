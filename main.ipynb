{
 "cells": [
  {
   "cell_type": "code",
   "execution_count": 1,
   "metadata": {},
   "outputs": [],
   "source": [
    "# Import necessary packages\n",
    "import matplotlib.pyplot as plt\n",
    "import numpy as np\n",
    "from numpy.fft import fft, ifft\n",
    "from pylab import *\n",
    "import os\n",
    "from HD_Model_NEW.HD_DataLoader import *"
   ]
  },
  {
   "cell_type": "code",
   "execution_count": 2,
   "metadata": {},
   "outputs": [
    {
     "name": "stdout",
     "output_type": "stream",
     "text": [
      "---------------------------------------------------------\n",
      "Generating database for HD's\n"
     ]
    }
   ],
   "source": [
    "dir_data = os.path.join(os.getcwd(), 'HD_Model_NEW', 'HD_data')\n",
    "HD_object = HD(data_path=dir_data)\n",
    "data = HD_object.generate_database()"
   ]
  },
  {
   "cell_type": "code",
   "execution_count": 21,
   "metadata": {},
   "outputs": [],
   "source": [
    "# this function selects the data from the database\n",
    "sensor_data = []\n",
    "def select_data(testnr, sensor, selection):\n",
    "    sensor_data = data[testnr][sensor][selection]\n",
    "    return sensor_data\n"
   ]
  },
  {
   "cell_type": "code",
   "execution_count": 22,
   "metadata": {},
   "outputs": [],
   "source": [
    "def plot_mic_data(fs, sensortype, testnr, selection):\n",
    "    plot_data = select_data(testnr, sensortype, selection)\n",
    "    plot_data = plot_data[:,0]\n",
    "    X = fft(plot_data)\n",
    "    X = abs(X)\n",
    "    X_db = 20*np.log10(X)\n",
    "    N = len(X)\n",
    "    n = np.arange(N)\n",
    "    T = N/fs\n",
    "    freq = n/T\n",
    "    \n",
    "    plt.figure(figsize = (10, 4))\n",
    "    #title for both subplots\n",
    "    HDstatus = data[testnr]['attributes']['HD_status']\n",
    "    plt.suptitle('Test number: ' + str(testnr + 1) + ' HD status: ' + str(HDstatus))\n",
    "    plt.subplot(121)\n",
    "    plt.semilogx(freq, X_db, 'b')\n",
    "    plt.xlabel('Freq (Hz)')\n",
    "    plt.ylabel('FFT Amplitude |X(freq)|')\n",
    "\n",
    "    plt.subplot(122)\n",
    "    plt.plot(plot_data, 'r')\n",
    "    plt.xlabel('Time (s)')\n",
    "    plt.ylabel('Amplitude')\n",
    "    plt.tight_layout()\n",
    "    plt.show()\n"
   ]
  },
  {
   "cell_type": "code",
   "execution_count": null,
   "metadata": {},
   "outputs": [],
   "source": [
    "# test 0 ~ 5 are anomalous sounds and test 6 ~ 11 are normal sounds\n",
    "sensortype = 'Microphone'\n",
    "selection = 'Data'\n",
    "fs = 44100\n",
    "# comment and uncomment for normal and anomalous sound plots\n",
    "# for testnr in range(7, 13):\n",
    "for testnr in range(0,6):\n",
    "    plot_mic_data(fs, sensortype, testnr, selection)"
   ]
  },
  {
   "cell_type": "code",
   "execution_count": 12,
   "metadata": {},
   "outputs": [],
   "source": [
    "def plot_vibration_data(fs, sensortype, testnr, selection):\n",
    "\n",
    "    plot_data = select_data(testnr, sensortype, selection)\n",
    "    time = data[testnr][sensortype]['time']\n",
    "    X = fft(plot_data)\n",
    "    X = abs(X)\n",
    "    X_db = 20*np.log10(X)\n",
    "    N = len(X)\n",
    "    n = np.arange(N)\n",
    "    T = N/fs\n",
    "    freq = n/T\n",
    "    \n",
    "    plt.figure(figsize = (10, 4))\n",
    "    #title for both subplots\n",
    "    HDstatus = data[testnr]['attributes']['HD_status']\n",
    "    plt.suptitle('Sensor:' + str(sensortype) + ' ' + 'Testnr:' + str(testnr + 1) + ' ' + 'HD status:' + str(HDstatus))\n",
    "    plt.subplot(121)\n",
    "    plt.semilogx(freq, X_db, 'b')\n",
    "    plt.xlabel('Freq (Hz)')\n",
    "    plt.ylabel('FFT Amplitude |X(freq)|')\n",
    "\n",
    "    plt.subplot(122)\n",
    "    plt.plot(time, plot_data, 'r')\n",
    "    plt.xlabel('Time (s)')\n",
    "    plt.ylabel('Amplitude')\n",
    "    plt.tight_layout()\n",
    "    plt.show()"
   ]
  },
  {
   "cell_type": "code",
   "execution_count": null,
   "metadata": {},
   "outputs": [],
   "source": [
    "# plot the vibration data\n",
    "# first select the vibration sensor for the plots\n",
    "sensortype = 'Vibration'\n",
    "# With selection the plots for either the X, Y or Z-axis can be selected\n",
    "selection = 'Z_vibr'\n",
    "fs = 2048\n",
    "# comment and uncomment for normal and anomalous sound plots\n",
    "# for testnr in range(7, 13):\n",
    "for testnr in range(0,6):\n",
    "    plot_vibration_data(fs, sensortype, testnr, selection)"
   ]
  },
  {
   "cell_type": "code",
   "execution_count": 34,
   "metadata": {},
   "outputs": [],
   "source": [
    "def plot_dspace_data(fs, sensortype, testnr, selection):\n",
    "    time = data[testnr][sensortype]['time'] \n",
    "    plot_data = select_data(testnr, sensortype, selection)\n",
    "    X = fft(plot_data)\n",
    "    X = abs(X)\n",
    "    X_db = 20*np.log10(X)\n",
    "    N = len(X)\n",
    "    n = np.arange(N)\n",
    "    T = N/fs\n",
    "    freq = n/T\n",
    "    \n",
    "    plt.figure(figsize = (10, 4))\n",
    "    #title for both subplots\n",
    "    HDstatus = data[testnr]['attributes']['HD_status']\n",
    "    plt.suptitle('Sensor:' + str(sensortype) + ' ' + 'Testnr:' + str(testnr + 1) + ' ' + 'HD status:' + str(HDstatus))\n",
    "    plt.subplot(121)\n",
    "    plt.semilogx(freq, X_db, 'b')\n",
    "    plt.xlabel('Freq (Hz)')\n",
    "    plt.ylabel('FFT Amplitude |X(freq)|')\n",
    "\n",
    "    plt.subplot(122)\n",
    "    plt.plot(time, plot_data, 'r')\n",
    "    plt.xlabel('Time (s)')\n",
    "    plt.ylabel('Amplitude')\n",
    "    plt.tight_layout()\n",
    "    plt.show()"
   ]
  },
  {
   "cell_type": "code",
   "execution_count": null,
   "metadata": {},
   "outputs": [],
   "source": [
    "# test 0 ~ 5 are anomalous sounds and test 6 ~ 11 are normal sounds\n",
    "sensortype = 'dSpace'\n",
    "selection = 'I_dyno_LP'\n",
    "fs = 44100\n",
    "# comment and uncomment for normal and anomalous sound plots\n",
    "# for testnr in range(7, 13):\n",
    "for testnr in range(0,6):\n",
    "    plot_dspace_data(fs, sensortype, testnr, selection)"
   ]
  }
 ],
 "metadata": {
  "kernelspec": {
   "display_name": "myvenv",
   "language": "python",
   "name": "python3"
  },
  "language_info": {
   "codemirror_mode": {
    "name": "ipython",
    "version": 3
   },
   "file_extension": ".py",
   "mimetype": "text/x-python",
   "name": "python",
   "nbconvert_exporter": "python",
   "pygments_lexer": "ipython3",
   "version": "3.11.0"
  },
  "orig_nbformat": 4
 },
 "nbformat": 4,
 "nbformat_minor": 2
}
