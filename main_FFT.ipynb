{
 "cells": [
  {
   "cell_type": "code",
   "execution_count": null,
   "metadata": {},
   "outputs": [],
   "source": [
    "# Import necessary packages\n",
    "import matplotlib.pyplot as plt\n",
    "import scienceplots\n",
    "import numpy as np\n",
    "from numpy.fft import fft\n",
    "from pylab import *\n",
    "import os\n",
    "from HD_DataLoader import *"
   ]
  },
  {
   "cell_type": "code",
   "execution_count": null,
   "metadata": {},
   "outputs": [],
   "source": [
    "fig_folder = os.path.join(os.getcwd(), 'Figures')\n",
    "omron_data_folder = os.path.join(os.getcwd(), 'Omron_visit_tests', 'Microphone')\n",
    "\n",
    "# generate database\n",
    "dir_data = os.path.join(os.getcwd(), 'HD_data')\n",
    "HD_object = HD(data_path=dir_data)\n",
    "data = HD_object.generate_database()"
   ]
  },
  {
   "cell_type": "code",
   "execution_count": null,
   "metadata": {},
   "outputs": [],
   "source": [
    "id =0\n",
    "data_tot = {}\n",
    "\n",
    "for file_name in listdir(omron_data_folder):\n",
    "    data_tot[id] = {}\n",
    "\n",
    "    sr, data_omron = wav.read(join(omron_data_folder, file_name)) \n",
    "    \n",
    "    data_tot[id]['SampleRate'] = sr\n",
    "    data_tot[id]['Data'] = data_omron[:,0] \n",
    "    id=id+1"
   ]
  },
  {
   "cell_type": "code",
   "execution_count": null,
   "metadata": {},
   "outputs": [],
   "source": [
    "concat_mic_data_omron = []\n",
    "mic_data = []\n",
    "for i in range(len(data_tot)):\n",
    "    mic_data.append(data_tot[i]['Data'])\n",
    "    concat_mic_data_omron = np.concatenate(mic_data)"
   ]
  },
  {
   "cell_type": "code",
   "execution_count": null,
   "metadata": {},
   "outputs": [],
   "source": [
    "def make_fft(plot, fs):\n",
    "    \n",
    "    window = np.hanning(len(plot))\n",
    "    plot = plot*window\n",
    "    X = fft(plot)\n",
    "    X= np.abs(X)\n",
    "    X_db = 20*np.log10(X)\n",
    "    N = len(X)\n",
    "    nfft = np.arange(N)\n",
    "    T = N/fs\n",
    "    freq = nfft/T\n",
    "\n",
    "    return freq, X_db"
   ]
  },
  {
   "cell_type": "code",
   "execution_count": null,
   "metadata": {},
   "outputs": [],
   "source": [
    "# this is a function to make the fft data\n",
    "def make_fft_moving_mean(plot, fs):\n",
    "    \n",
    "    window = np.hanning(len(plot))\n",
    "    plot = plot*window\n",
    "    X = fft(plot)\n",
    "    X= np.abs(X)\n",
    "    X_db = 20*np.log10(X)\n",
    "    \n",
    "    # making the frequency vector\n",
    "    N = len(X)\n",
    "    nfft = np.arange(N)\n",
    "    T = N/fs\n",
    "    freq = nfft/T\n",
    "    X_db = np.convolve(X_db, np.ones(100)/100, mode='same')\n",
    "    \n",
    "    return freq, X_db"
   ]
  },
  {
   "cell_type": "code",
   "execution_count": null,
   "metadata": {},
   "outputs": [],
   "source": [
    "def get_concat_sensor(sensor, selection):\n",
    "\n",
    "    normal = []\n",
    "    faulty = []\n",
    "    concat_normal = []\n",
    "    concat_faulty = []\n",
    "    if sensor == 'Microphone':\n",
    "        for testnr in data:\n",
    "            if data[testnr]['attributes']['HD_status']== 0: #it is normal HD\n",
    "                normal.append((data[testnr][sensor][selection][:,0]))\n",
    "            elif data[testnr]['attributes']['HD_status']== 1:\n",
    "                faulty.append((data[testnr][sensor][selection][:,0]))\n",
    "            else:\n",
    "                print(\"Undefined state\")\n",
    "        \n",
    "        normal = np.array(normal)\n",
    "        faulty = np.array(faulty)\n",
    "            \n",
    "        for i in range(len(normal)):\n",
    "            concat_normal = np.concatenate((concat_normal, normal[i]))\n",
    "        for i in range(len(faulty)):\n",
    "            concat_faulty = np.concatenate((concat_faulty, faulty[i]))\n",
    "\n",
    "    if sensor == 'Vibration':\n",
    "        for testnr in data:\n",
    "            if data[testnr]['attributes']['HD_status']== 0:\n",
    "                normal.append((data[testnr][sensor][selection]))\n",
    "            elif data[testnr]['attributes']['HD_status']== 1:\n",
    "                faulty.append((data[testnr][sensor][selection]))\n",
    "            else:\n",
    "                print(\"Undefined state\")\n",
    "\n",
    "        for i in range(len(normal)):\n",
    "            concat_normal = np.concatenate((concat_normal, normal[i]))\n",
    "        for i in range(len(faulty)):\n",
    "            concat_faulty = np.concatenate((concat_faulty, faulty[i]))\n",
    "\n",
    "    if sensor == 'dSpace':\n",
    "        for testnr in data:\n",
    "            if data[testnr]['attributes']['HD_status']== 0: #it is normal HD\n",
    "                normal.append((data[testnr][sensor][selection]))\n",
    "            elif data[testnr]['attributes']['HD_status']== 1:\n",
    "                faulty.append((data[testnr][sensor][selection]))\n",
    "            else:\n",
    "                print(\"Undefined state\")\n",
    "        \n",
    "        for i in range(len(normal)):\n",
    "            concat_normal = np.concatenate((concat_normal, normal[i]))\n",
    "            \n",
    "        for i in range(len(faulty)):\n",
    "            concat_faulty = np.concatenate((concat_faulty, faulty[i]))    \n",
    "\n",
    "\n",
    "    return concat_normal, concat_faulty"
   ]
  },
  {
   "cell_type": "code",
   "execution_count": null,
   "metadata": {},
   "outputs": [],
   "source": [
    "def plot_mic_data(plot, fs, plottitle):\n",
    "    freq, X_db = make_fft(plot, fs)\n",
    "\n",
    "    plt.figure(figsize = (10, 4))\n",
    "    #title for both subplots\n",
    "    # HDstatus = data[testnr]['attributes']['HD_status']\n",
    "    plt.suptitle(plottitle)\n",
    "    plt.subplot(121)\n",
    "    plt.semilogx(freq, X_db, 'b')\n",
    "    plt.xlabel('Freq (Hz)')\n",
    "    plt.ylabel('Magnitude (dB)')\n",
    "    plt.grid()\n",
    "\n",
    "    plt.subplot(122)\n",
    "    plt.plot(plot, 'r')\n",
    "    plt.xlabel('Samples')\n",
    "    plt.ylabel('Amplitude')\n",
    "    plt.tight_layout()\n",
    "    plt.show()\n"
   ]
  },
  {
   "cell_type": "code",
   "execution_count": null,
   "metadata": {},
   "outputs": [],
   "source": [
    "# Plot normal and faulty concatenated data\n",
    "# sensortype = 'Microphone'\n",
    "# selection = 'Data'\n",
    "# fs = 44100\n",
    "# concat_normal, concat_faulty = get_concat_sensor('Microphone', 'Data')\n",
    "# plottitle1 = sensortype + ' ' +  selection  + ' '  + 'faulty'\n",
    "# plottitle2 = sensortype + ' ' +  selection  + ' '  + 'normal'\n",
    "# plot_mic_data(concat_faulty,fs, plottitle1)\n",
    "# plot_mic_data(concat_normal,fs, plottitle2)"
   ]
  },
  {
   "cell_type": "code",
   "execution_count": null,
   "metadata": {},
   "outputs": [],
   "source": [
    "def plot_vibration_data(plot, fs, plottitle):\n",
    "    freq, X_db = make_fft(plot, fs)\n",
    "    \n",
    "    plt.figure(figsize = (10, 4))\n",
    "    #title for both subplots\n",
    "    #HDstatus = data[testnr]['attributes']['HD_status']\n",
    "    plt.suptitle(plottitle)\n",
    "    plt.subplot(121)\n",
    "    plt.semilogx(freq, X_db, 'b')\n",
    "    plt.xlabel('Freq (Hz)')\n",
    "    plt.ylabel('Magnitude (dB)')\n",
    "    plt.grid()\n",
    "\n",
    "    plt.subplot(122)\n",
    "    plt.plot(plot, 'r')\n",
    "    plt.xlabel('Samples')\n",
    "    plt.ylabel('Amplitude')\n",
    "    plt.tight_layout()\n",
    "    plt.show()"
   ]
  },
  {
   "cell_type": "code",
   "execution_count": null,
   "metadata": {},
   "outputs": [],
   "source": [
    "# plot the concatenated vibration data\n",
    "# sensortype = 'Vibration'\n",
    "# selection = 'Z_vibr'\n",
    "# fs = 2048\n",
    "# concat_normal, concat_faulty = get_concat_sensor(sensortype, selection)\n",
    "# plottitle1 = sensortype + ' ' +  selection  + ' '  + 'faulty'\n",
    "# plottitle2 = sensortype + ' ' +  selection  + ' '  + 'normal'\n",
    "# plot_vibration_data(concat_faulty, fs, plottitle1)\n",
    "# plot_vibration_data(concat_normal, fs, plottitle2)"
   ]
  },
  {
   "cell_type": "code",
   "execution_count": null,
   "metadata": {},
   "outputs": [],
   "source": [
    "def plot_dspace_data(plot, fs, plottitle):\n",
    "\n",
    "    freq, X_db = make_fft(plot, fs)\n",
    "    \n",
    "    plt.figure(figsize = (10, 4))\n",
    "    plt.suptitle(plottitle)\n",
    "    plt.subplot(121)\n",
    "    plt.semilogx(freq, X_db, 'b')\n",
    "    plt.xlabel('Freq (Hz)')\n",
    "    plt.ylabel('Magnitude (dB)')\n",
    "\n",
    "    plt.subplot(122)\n",
    "    plt.plot(plot, 'r')\n",
    "    plt.xlabel('Samples')\n",
    "    plt.ylabel('Amplitude')\n",
    "    plt.tight_layout()\n",
    "    plt.show()"
   ]
  },
  {
   "cell_type": "code",
   "execution_count": null,
   "metadata": {},
   "outputs": [],
   "source": [
    "# sensortype = 'dSpace'\n",
    "# selection = 'i_motor_LP'\n",
    "# fs = 500\n",
    "# concat_normal, concat_faulty = get_concat_sensor(sensortype, selection)\n",
    "# plottitle1 = sensortype + ' ' +  selection  + ' '  + 'faulty data'\n",
    "# plottitle2 = sensortype + ' ' +  selection  + ' '  + 'normal data'\n",
    "# plot_dspace_data(concat_faulty, fs, plottitle1)\n",
    "# plot_dspace_data(concat_normal, fs, plottitle2)"
   ]
  },
  {
   "attachments": {},
   "cell_type": "markdown",
   "metadata": {},
   "source": [
    "From here the FFT data is plotted over each other for better comparison of normal and faulty FFT's, also a grid is added"
   ]
  },
  {
   "cell_type": "code",
   "execution_count": null,
   "metadata": {},
   "outputs": [],
   "source": [
    "# Adjust the plotsettings in this code:\n",
    "fontsize = 20\n",
    "ticksize = 15\n",
    "plt.style.use('science')\n",
    "# set the visiblity to bright\n",
    "params = {  \"xtick.color\" : \"black\",\n",
    "            \"ytick.color\" : \"black\",\n",
    "            \"axes.labelsize\": ticksize,\n",
    "            \"axes.labelcolor\": \"black\",\n",
    "            \"font.size\": fontsize,\n",
    "            \"text.usetex\": False} \n",
    "plt.rcParams.update(params)"
   ]
  },
  {
   "cell_type": "code",
   "execution_count": 11,
   "metadata": {},
   "outputs": [
    {
     "ename": "KeyboardInterrupt",
     "evalue": "",
     "output_type": "error",
     "traceback": [
      "\u001b[1;31m---------------------------------------------------------------------------\u001b[0m",
      "\u001b[1;31mKeyboardInterrupt\u001b[0m                         Traceback (most recent call last)",
      "Cell \u001b[1;32mIn[11], line 7\u001b[0m\n\u001b[0;32m      5\u001b[0m freq1, X_db1 \u001b[39m=\u001b[39m make_fft(concat_normal, fs)\n\u001b[0;32m      6\u001b[0m freq2, X_db2 \u001b[39m=\u001b[39m make_fft(concat_faulty, fs)\n\u001b[1;32m----> 7\u001b[0m freq3, X_db3 \u001b[39m=\u001b[39m make_fft_moving_mean(concat_normal, fs)\n\u001b[0;32m      8\u001b[0m freq4, X_db4 \u001b[39m=\u001b[39m make_fft_moving_mean(concat_faulty, fs)\n",
      "Cell \u001b[1;32mIn[4], line 6\u001b[0m, in \u001b[0;36mmake_fft_moving_mean\u001b[1;34m(plot, fs)\u001b[0m\n\u001b[0;32m      4\u001b[0m window \u001b[39m=\u001b[39m np\u001b[39m.\u001b[39mhanning(\u001b[39mlen\u001b[39m(plot))\n\u001b[0;32m      5\u001b[0m plot \u001b[39m=\u001b[39m plot\u001b[39m*\u001b[39mwindow\n\u001b[1;32m----> 6\u001b[0m X \u001b[39m=\u001b[39m fft(plot)\n\u001b[0;32m      7\u001b[0m X\u001b[39m=\u001b[39m np\u001b[39m.\u001b[39mabs(X)\n\u001b[0;32m      8\u001b[0m X_db \u001b[39m=\u001b[39m \u001b[39m20\u001b[39m\u001b[39m*\u001b[39mnp\u001b[39m.\u001b[39mlog10(X)\n",
      "File \u001b[1;32mc:\\Users\\20182152\\Anaconda3\\envs\\Course_5ARIP10\\Lib\\site-packages\\scipy\\fft\\_backend.py:25\u001b[0m, in \u001b[0;36m_ScipyBackend.__ua_function__\u001b[1;34m(method, args, kwargs)\u001b[0m\n\u001b[0;32m     23\u001b[0m \u001b[39mif\u001b[39;00m fn \u001b[39mis\u001b[39;00m \u001b[39mNone\u001b[39;00m:\n\u001b[0;32m     24\u001b[0m     \u001b[39mreturn\u001b[39;00m \u001b[39mNotImplemented\u001b[39m\n\u001b[1;32m---> 25\u001b[0m \u001b[39mreturn\u001b[39;00m fn(\u001b[39m*\u001b[39;49margs, \u001b[39m*\u001b[39;49m\u001b[39m*\u001b[39;49mkwargs)\n",
      "File \u001b[1;32mc:\\Users\\20182152\\Anaconda3\\envs\\Course_5ARIP10\\Lib\\site-packages\\scipy\\fft\\_pocketfft\\basic.py:31\u001b[0m, in \u001b[0;36mc2c\u001b[1;34m(forward, x, n, axis, norm, overwrite_x, workers, plan)\u001b[0m\n\u001b[0;32m     26\u001b[0m     \u001b[39mraise\u001b[39;00m \u001b[39mValueError\u001b[39;00m(\u001b[39m\"\u001b[39m\u001b[39minvalid number of data points (\u001b[39m\u001b[39m{0}\u001b[39;00m\u001b[39m) specified\u001b[39m\u001b[39m\"\u001b[39m\n\u001b[0;32m     27\u001b[0m                      \u001b[39m.\u001b[39mformat(tmp\u001b[39m.\u001b[39mshape[axis]))\n\u001b[0;32m     29\u001b[0m out \u001b[39m=\u001b[39m (tmp \u001b[39mif\u001b[39;00m overwrite_x \u001b[39mand\u001b[39;00m tmp\u001b[39m.\u001b[39mdtype\u001b[39m.\u001b[39mkind \u001b[39m==\u001b[39m \u001b[39m'\u001b[39m\u001b[39mc\u001b[39m\u001b[39m'\u001b[39m \u001b[39melse\u001b[39;00m \u001b[39mNone\u001b[39;00m)\n\u001b[1;32m---> 31\u001b[0m \u001b[39mreturn\u001b[39;00m pfft\u001b[39m.\u001b[39;49mc2c(tmp, (axis,), forward, norm, out, workers)\n",
      "\u001b[1;31mKeyboardInterrupt\u001b[0m: "
     ]
    }
   ],
   "source": [
    "sensortype = 'Microphone'\n",
    "selection = 'Data'\n",
    "fs = 44100\n",
    "concat_normal, concat_faulty = get_concat_sensor(sensortype, selection)\n",
    "freq1, X_db1 = make_fft(concat_normal, fs)\n",
    "freq2, X_db2 = make_fft(concat_faulty, fs)\n",
    "freq3, X_db3 = make_fft_moving_mean(concat_normal, fs)\n",
    "freq4, X_db4 = make_fft_moving_mean(concat_faulty, fs)"
   ]
  },
  {
   "cell_type": "code",
   "execution_count": null,
   "metadata": {},
   "outputs": [],
   "source": [
    "file_path = os.path.join(fig_folder, 'FFT_mic.eps')\n",
    "plt.figure(figsize = (10, 6))\n",
    "# plt.semilogx(freq1, X_db1, label = \"normal data\")\n",
    "# plt.semilogx(freq2, X_db2, label = \"faulty data\")\n",
    "plt.semilogx(freq3, X_db3, label = \"normal\", color = 'green')\n",
    "plt.semilogx(freq4, X_db4, label = \"anomalous\", color = 'red')\n",
    "plt.xlabel('Freq (Hz)', fontdict={'fontsize': fontsize})\n",
    "plt.ylabel('Magnitude (dB)', fontdict={'fontsize': fontsize})\n",
    "xlim((10, 21000))\n",
    "plt.xticks(fontsize = ticksize)\n",
    "plt.yticks(fontsize = ticksize)\n",
    "plt.legend(fontsize = ticksize, loc = 'lower left')\n",
    "plt.grid(True, which='minor')\n",
    "# plt.title('FFT:'+ ' ' + 'microphone', fontdict={'fontsize': fontsize})\n",
    "plt.savefig(file_path, format='eps')\n",
    "plt.show()"
   ]
  },
  {
   "cell_type": "code",
   "execution_count": null,
   "metadata": {},
   "outputs": [],
   "source": [
    "sensortype = 'dSpace'\n",
    "# if you want the motor speed set selection to 'speed_motor' in stead of 'w_out'\n",
    "selection = 'i_motor_LP'\n",
    "fs = 500\n",
    "concat_normal, concat_faulty = get_concat_sensor(sensortype, selection)\n",
    "freq5, X_db5 = make_fft(concat_normal, fs)\n",
    "freq6, X_db6 = make_fft(concat_faulty, fs)\n",
    "freq7, X_db7 = make_fft_moving_mean(concat_normal, fs)\n",
    "freq8, X_db8 = make_fft_moving_mean(concat_faulty, fs)"
   ]
  },
  {
   "cell_type": "code",
   "execution_count": null,
   "metadata": {},
   "outputs": [],
   "source": [
    "file_path = os.path.join(fig_folder, 'FFT_imotorLP.eps')\n",
    "\n",
    "plt.figure(figsize = (10, 6))\n",
    "# plt.semilogx(freq5, X_db5, label = \"normal data\")\n",
    "# plt.semilogx(freq6, X_db6, label = \"faulty data\")\n",
    "plt.semilogx(freq7, X_db7, label = \"normal\", color = 'green')\n",
    "plt.semilogx(freq8, X_db8, label = \"anomalous\", color = 'red')\n",
    "plt.xlabel('Freq (Hz)', fontdict={'fontsize': fontsize})\n",
    "plt.ylabel('Magnitude (dB)', fontdict={'fontsize': fontsize})\n",
    "plt.xticks(fontsize = ticksize)\n",
    "plt.yticks(fontsize = ticksize)\n",
    "xlim((1, 260))\n",
    "plt.legend(fontsize = ticksize, loc = 'lower left')\n",
    "plt.grid(True, which='minor')\n",
    "# plt.title('FFT:' + ' ' + 'motor current', fontdict={'fontsize': fontsize})\n",
    "plt.savefig(file_path, format='eps')\n",
    "plt.show()"
   ]
  },
  {
   "cell_type": "code",
   "execution_count": null,
   "metadata": {},
   "outputs": [],
   "source": [
    "# ZOOMED IMOTORLP\n",
    "\n",
    "file_path = os.path.join(fig_folder, 'FFT_imotorLPzoomed.eps')\n",
    "plt.figure(figsize = (10, 6))\n",
    "# plt.semilogx(freq5, X_db5, label = \"normal data\")\n",
    "# plt.semilogx(freq6, X_db6, label = \"faulty data\")\n",
    "plt.semilogx(freq7, X_db7, label = \"normal\", color = 'green')\n",
    "plt.semilogx(freq8, X_db8, label = \"anomalous\", color = 'red')\n",
    "plt.xlabel('Freq (Hz)', fontdict={'fontsize': fontsize})\n",
    "plt.ylabel('Magnitude (dB)', fontdict={'fontsize': fontsize})\n",
    "plt.xticks(fontsize = ticksize)\n",
    "plt.yticks(fontsize = ticksize)\n",
    "xlim((1, 10))\n",
    "plt.legend(fontsize = ticksize, loc = 'lower left')\n",
    "plt.grid(True, which='minor')\n",
    "# plt.title('FFT:' + ' ' + 'motor current', fontdict={'fontsize': fontsize})\n",
    "plt.savefig(file_path, format='eps')\n",
    "plt.show()"
   ]
  },
  {
   "cell_type": "code",
   "execution_count": null,
   "metadata": {},
   "outputs": [],
   "source": [
    "concat_mic_data_omron\n",
    "fs = 44100\n",
    "freq9, X_db9 = make_fft_moving_mean(concat_mic_data_omron, fs)"
   ]
  },
  {
   "cell_type": "code",
   "execution_count": null,
   "metadata": {},
   "outputs": [],
   "source": [
    "# ZOOMED IMOTORLP\n",
    "\n",
    "file_path = os.path.join(fig_folder, 'FFT_mic_omron_testday.eps')\n",
    "plt.figure(figsize = (10, 6))\n",
    "plt.semilogx(freq9, X_db9, label = \"normal\", color = 'green')\n",
    "plt.xlabel('Freq (Hz)', fontdict={'fontsize': fontsize})\n",
    "plt.ylabel('Magnitude (dB)', fontdict={'fontsize': fontsize})\n",
    "plt.xticks(fontsize = ticksize)\n",
    "plt.yticks(fontsize = ticksize)\n",
    "xlim((10, 21000))\n",
    "plt.grid(True, which='minor')\n",
    "plt.savefig(file_path, format='eps')\n",
    "plt.show()"
   ]
  }
 ],
 "metadata": {
  "kernelspec": {
   "display_name": "myvenv",
   "language": "python",
   "name": "python3"
  },
  "language_info": {
   "codemirror_mode": {
    "name": "ipython",
    "version": 3
   },
   "file_extension": ".py",
   "mimetype": "text/x-python",
   "name": "python",
   "nbconvert_exporter": "python",
   "pygments_lexer": "ipython3",
   "version": "3.11.3"
  },
  "orig_nbformat": 4
 },
 "nbformat": 4,
 "nbformat_minor": 2
}
