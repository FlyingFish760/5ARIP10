{
 "cells": [
  {
   "cell_type": "code",
   "execution_count": 27,
   "metadata": {},
   "outputs": [],
   "source": [
    "#Import libaries\n",
    "import matplotlib.pyplot as plt\n",
    "import numpy as np\n",
    "from scipy.fft import fft, ifft\n",
    "from scipy.io import wavfile\n",
    "from pylab import *\n",
    "import os\n",
    "import librosa\n",
    "\n",
    "#Import self-written functions\n",
    "from Denoise_Functions import *\n",
    "from features_functions import *"
   ]
  },
  {
   "cell_type": "code",
   "execution_count": 18,
   "metadata": {},
   "outputs": [],
   "source": [
    "#Get directories with data\n",
    "dir_gearbox = os.path.join(os.getcwd(), 'dev_gearbox')\n",
    "dir_train = os.path.join(dir_gearbox, \"train\")\n",
    "dir_test = os.path.join(dir_gearbox, \"test\")"
   ]
  },
  {
   "cell_type": "code",
   "execution_count": 19,
   "metadata": {},
   "outputs": [
    {
     "ename": "FileNotFoundError",
     "evalue": "[Errno 2] No such file or directory: '/Users/irisroeloffzen/Documents/TUe/AIES/5ARIP10/dev_gearbox/test\\\\section_00_source_test_normal_0039_volt_1.0.wav'",
     "output_type": "error",
     "traceback": [
      "\u001b[0;31m---------------------------------------------------------------------------\u001b[0m",
      "\u001b[0;31mFileNotFoundError\u001b[0m                         Traceback (most recent call last)",
      "Cell \u001b[0;32mIn[19], line 21\u001b[0m\n\u001b[1;32m     19\u001b[0m \u001b[39mif\u001b[39;00m \u001b[39m'\u001b[39m\u001b[39mnormal\u001b[39m\u001b[39m'\u001b[39m \u001b[39min\u001b[39;00m i \u001b[39mand\u001b[39;00m \u001b[39m'\u001b[39m\u001b[39msection_00\u001b[39m\u001b[39m'\u001b[39m \u001b[39min\u001b[39;00m i \u001b[39mand\u001b[39;00m \u001b[39m'\u001b[39m\u001b[39mvolt_1.0\u001b[39m\u001b[39m'\u001b[39m \u001b[39min\u001b[39;00m i:\n\u001b[1;32m     20\u001b[0m     norm_files\u001b[39m.\u001b[39mappend(i)\n\u001b[0;32m---> 21\u001b[0m     samplerate, data \u001b[39m=\u001b[39m wavfile\u001b[39m.\u001b[39;49mread(dir_test \u001b[39m+\u001b[39;49m \u001b[39m'\u001b[39;49m\u001b[39m\\\\\u001b[39;49;00m\u001b[39m'\u001b[39;49m \u001b[39m+\u001b[39;49m i)\n\u001b[1;32m     22\u001b[0m     norm_sr\u001b[39m.\u001b[39mappend(samplerate)\n\u001b[1;32m     23\u001b[0m     norm_data\u001b[39m.\u001b[39mappend(data)\n",
      "File \u001b[0;32m~/opt/anaconda3/envs/environment/lib/python3.8/site-packages/scipy/io/wavfile.py:647\u001b[0m, in \u001b[0;36mread\u001b[0;34m(filename, mmap)\u001b[0m\n\u001b[1;32m    645\u001b[0m     mmap \u001b[39m=\u001b[39m \u001b[39mFalse\u001b[39;00m\n\u001b[1;32m    646\u001b[0m \u001b[39melse\u001b[39;00m:\n\u001b[0;32m--> 647\u001b[0m     fid \u001b[39m=\u001b[39m \u001b[39mopen\u001b[39;49m(filename, \u001b[39m'\u001b[39;49m\u001b[39mrb\u001b[39;49m\u001b[39m'\u001b[39;49m)\n\u001b[1;32m    649\u001b[0m \u001b[39mtry\u001b[39;00m:\n\u001b[1;32m    650\u001b[0m     file_size, is_big_endian \u001b[39m=\u001b[39m _read_riff_chunk(fid)\n",
      "\u001b[0;31mFileNotFoundError\u001b[0m: [Errno 2] No such file or directory: '/Users/irisroeloffzen/Documents/TUe/AIES/5ARIP10/dev_gearbox/test\\\\section_00_source_test_normal_0039_volt_1.0.wav'"
     ]
    }
   ],
   "source": [
    "# Extract anomoly files and normal files from the test set\n",
    "\n",
    "anom_files = []\n",
    "anom_sr = []\n",
    "anom_data = []\n",
    "\n",
    "norm_files = []\n",
    "norm_sr = []\n",
    "norm_data = []\n",
    "\n",
    "# make a list of all the files in the training data folder that contain section_00 in the name and volt_1.0 in the name\n",
    "for i in os.listdir(dir_test):\n",
    "    if 'anomaly' in i and 'section_00' in i and 'volt_1.0' in i:\n",
    "        anom_files.append(i)\n",
    "        samplerate, data = wavfile.read(dir_test + '\\\\' + i)\n",
    "        anom_sr.append(samplerate)\n",
    "        anom_data.append(data)\n",
    "\n",
    "    if 'normal' in i and 'section_00' in i and 'volt_1.0' in i:\n",
    "        norm_files.append(i)\n",
    "        samplerate, data = wavfile.read(dir_test + '\\\\' + i)\n",
    "        norm_sr.append(samplerate)\n",
    "        norm_data.append(data)\n",
    "\n",
    "# # check length of list\n",
    "print(len(anom_files))\n",
    "print(len(norm_files))"
   ]
  },
  {
   "cell_type": "code",
   "execution_count": 20,
   "metadata": {},
   "outputs": [
    {
     "ename": "IndexError",
     "evalue": "list index out of range",
     "output_type": "error",
     "traceback": [
      "\u001b[0;31m---------------------------------------------------------------------------\u001b[0m",
      "\u001b[0;31mIndexError\u001b[0m                                Traceback (most recent call last)",
      "Cell \u001b[0;32mIn[20], line 4\u001b[0m\n\u001b[1;32m      1\u001b[0m \u001b[39m#Test for 1 file the smoothing\u001b[39;00m\n\u001b[1;32m      2\u001b[0m i\u001b[39m=\u001b[39m\u001b[39m1\u001b[39m\n\u001b[0;32m----> 4\u001b[0m N \u001b[39m=\u001b[39m norm_data[i]\u001b[39m.\u001b[39mshape[\u001b[39m0\u001b[39m]\n\u001b[1;32m      5\u001b[0m t_end \u001b[39m=\u001b[39m N \u001b[39m/\u001b[39m norm_sr[i]\n\u001b[1;32m      7\u001b[0m x \u001b[39m=\u001b[39m np\u001b[39m.\u001b[39mlinspace(\u001b[39m0.\u001b[39m, t_end, N)\n",
      "\u001b[0;31mIndexError\u001b[0m: list index out of range"
     ]
    }
   ],
   "source": [
    "#Test for 1 file the smoothing\n",
    "i=1\n",
    "\n",
    "N = norm_data[i].shape[0]\n",
    "t_end = N / norm_sr[i]\n",
    "\n",
    "x = np.linspace(0., t_end, N)\n",
    "y = norm_data[i]\n",
    "\n",
    "#Get the fft from the data\n",
    "yf_v1 = fft(y)\n",
    "yf = 2.0/N * np.abs(yf_v1[0:N//2])\n",
    "xf = fftfreq(N, t_end/N)[:N//2]\n",
    "\n",
    "plt.subplot(1,2,1)\n",
    "plt.plot(x,y)\n",
    "plt.grid()\n",
    "plt.title('Time domain')\n",
    "\n",
    "plt.subplot(1,2,2)\n",
    "plt.plot(xf,yf)\n",
    "plt.grid()\n",
    "plt.yscale('log')\n",
    "plt.title('Frequency domain')\n",
    "\n",
    "plt.show()\n"
   ]
  },
  {
   "cell_type": "code",
   "execution_count": 21,
   "metadata": {},
   "outputs": [],
   "source": [
    "#Perform smoothing for all data\n",
    "anom_data_denoised = smoothen_fft(anom_data,anom_sr)\n",
    "norm_data_denoised = smoothen_fft(norm_data,norm_sr)"
   ]
  },
  {
   "cell_type": "code",
   "execution_count": 22,
   "metadata": {},
   "outputs": [],
   "source": [
    "# extract basic features\n",
    "anom_means, anom_stds, anom_maxs, anom_mins, anom_medians = extract_basics(anom_data_denoised)\n",
    "norm_means, norm_stds, norm_maxs, norm_mins, norm_medians = extract_basics(norm_data_denoised)"
   ]
  },
  {
   "cell_type": "code",
   "execution_count": 23,
   "metadata": {},
   "outputs": [
    {
     "ename": "IndexError",
     "evalue": "list index out of range",
     "output_type": "error",
     "traceback": [
      "\u001b[0;31m---------------------------------------------------------------------------\u001b[0m",
      "\u001b[0;31mIndexError\u001b[0m                                Traceback (most recent call last)",
      "Cell \u001b[0;32mIn[23], line 17\u001b[0m\n\u001b[1;32m     15\u001b[0m \u001b[39m# plot first spectrogram\u001b[39;00m\n\u001b[1;32m     16\u001b[0m plt\u001b[39m.\u001b[39mfigure(figsize\u001b[39m=\u001b[39m(\u001b[39m15\u001b[39m, \u001b[39m3\u001b[39m))\n\u001b[0;32m---> 17\u001b[0m librosa\u001b[39m.\u001b[39mdisplay\u001b[39m.\u001b[39mspecshow(anom_spec[\u001b[39m0\u001b[39;49m], sr\u001b[39m=\u001b[39manom_sr, x_axis\u001b[39m=\u001b[39m\u001b[39m'\u001b[39m\u001b[39mtime\u001b[39m\u001b[39m'\u001b[39m, y_axis\u001b[39m=\u001b[39m\u001b[39m'\u001b[39m\u001b[39mhz\u001b[39m\u001b[39m'\u001b[39m)\n\u001b[1;32m     18\u001b[0m plt\u001b[39m.\u001b[39mtitle(\u001b[39m'\u001b[39m\u001b[39mSpectrogram\u001b[39m\u001b[39m'\u001b[39m)\n\u001b[1;32m     19\u001b[0m plt\u001b[39m.\u001b[39mcolorbar()\n",
      "\u001b[0;31mIndexError\u001b[0m: list index out of range"
     ]
    },
    {
     "data": {
      "text/plain": [
       "<Figure size 1500x300 with 0 Axes>"
      ]
     },
     "metadata": {},
     "output_type": "display_data"
    }
   ],
   "source": [
    "# generate spectrogram\n",
    "anom_spec = spec(anom_data_denoised)\n",
    "norm_spec = spec(norm_data_denoised)\n",
    "    \n",
    "# plot first spectrogram\n",
    "plt.figure(figsize=(15, 3))\n",
    "librosa.display.specshow(anom_spec[0], sr=anom_sr, x_axis='time', y_axis='hz')\n",
    "plt.title('Spectrogram')\n",
    "plt.colorbar()"
   ]
  },
  {
   "cell_type": "code",
   "execution_count": 24,
   "metadata": {},
   "outputs": [
    {
     "ename": "IndexError",
     "evalue": "list index out of range",
     "output_type": "error",
     "traceback": [
      "\u001b[0;31m---------------------------------------------------------------------------\u001b[0m",
      "\u001b[0;31mIndexError\u001b[0m                                Traceback (most recent call last)",
      "Cell \u001b[0;32mIn[24], line 17\u001b[0m\n\u001b[1;32m     15\u001b[0m \u001b[39m# plot first RMS\u001b[39;00m\n\u001b[1;32m     16\u001b[0m plt\u001b[39m.\u001b[39mfigure(figsize\u001b[39m=\u001b[39m(\u001b[39m15\u001b[39m, \u001b[39m3\u001b[39m))\n\u001b[0;32m---> 17\u001b[0m plt\u001b[39m.\u001b[39mplot(anom_rms[\u001b[39m0\u001b[39;49m][\u001b[39m0\u001b[39m])\n\u001b[1;32m     18\u001b[0m plt\u001b[39m.\u001b[39mtitle(\u001b[39m'\u001b[39m\u001b[39mRoot-Mean-Square Energy\u001b[39m\u001b[39m'\u001b[39m)\n\u001b[1;32m     19\u001b[0m plt\u001b[39m.\u001b[39mxlabel(\u001b[39m'\u001b[39m\u001b[39mTime (s)\u001b[39m\u001b[39m'\u001b[39m)\n",
      "\u001b[0;31mIndexError\u001b[0m: list index out of range"
     ]
    },
    {
     "data": {
      "text/plain": [
       "<Figure size 1500x300 with 0 Axes>"
      ]
     },
     "metadata": {},
     "output_type": "display_data"
    }
   ],
   "source": [
    "# extract RMS\n",
    "anom_rms = rms(anom_data_denoised)\n",
    "norm_rms = rms(norm_data_denoised)\n",
    "\n",
    "# plot first RMS\n",
    "plt.figure(figsize=(15, 3))\n",
    "plt.plot(anom_rms[0][0])\n",
    "plt.title('Root-Mean-Square Energy')\n",
    "plt.xlabel('Time (s)')\n",
    "plt.ylabel('RMS')\n",
    "plt.show()"
   ]
  },
  {
   "cell_type": "code",
   "execution_count": 25,
   "metadata": {},
   "outputs": [
    {
     "ename": "IndexError",
     "evalue": "list index out of range",
     "output_type": "error",
     "traceback": [
      "\u001b[0;31m---------------------------------------------------------------------------\u001b[0m",
      "\u001b[0;31mIndexError\u001b[0m                                Traceback (most recent call last)",
      "Cell \u001b[0;32mIn[25], line 15\u001b[0m\n\u001b[1;32m     12\u001b[0m norm_zcr \u001b[39m=\u001b[39m zcr(norm_data_denoised)\n\u001b[1;32m     14\u001b[0m \u001b[39m# plot first ZCR\u001b[39;00m\n\u001b[0;32m---> 15\u001b[0m \u001b[39mprint\u001b[39m(\u001b[39mf\u001b[39m\u001b[39m\"\u001b[39m\u001b[39mZero crossing rate: \u001b[39m\u001b[39m{\u001b[39;00m\u001b[39msum\u001b[39m(librosa\u001b[39m.\u001b[39mzero_crossings(anom_data_denoised[\u001b[39m0\u001b[39m]))\u001b[39m}\u001b[39;00m\u001b[39m\"\u001b[39m)\n\u001b[1;32m     17\u001b[0m plt\u001b[39m.\u001b[39mfigure(figsize\u001b[39m=\u001b[39m(\u001b[39m15\u001b[39m, \u001b[39m3\u001b[39m))\n\u001b[1;32m     18\u001b[0m plt\u001b[39m.\u001b[39mplot(anom_zcr[\u001b[39m0\u001b[39m][\u001b[39m0\u001b[39m])\n",
      "\u001b[0;31mIndexError\u001b[0m: list index out of range"
     ]
    }
   ],
   "source": [
    "# extract ZCR\n",
    "\n",
    "anom_zcr = zcr(anom_data_denoised)\n",
    "norm_zcr = zcr(norm_data_denoised)\n",
    "    \n",
    "# plot first ZCR\n",
    "print(f\"Zero crossing rate: {sum(librosa.zero_crossings(anom_data_denoised[0]))}\")\n",
    "\n",
    "plt.figure(figsize=(15, 3))\n",
    "plt.plot(anom_zcr[0][0])\n",
    "plt.title('Zero Crossing Rate')\n",
    "plt.xlabel('Time (s)')\n",
    "plt.ylabel('ZCR')\n",
    "plt.show()"
   ]
  },
  {
   "cell_type": "code",
   "execution_count": 26,
   "metadata": {},
   "outputs": [
    {
     "ename": "IndexError",
     "evalue": "list index out of range",
     "output_type": "error",
     "traceback": [
      "\u001b[0;31m---------------------------------------------------------------------------\u001b[0m",
      "\u001b[0;31mIndexError\u001b[0m                                Traceback (most recent call last)",
      "Cell \u001b[0;32mIn[26], line 16\u001b[0m\n\u001b[1;32m     14\u001b[0m \u001b[39m# plot first MFCC\u001b[39;00m\n\u001b[1;32m     15\u001b[0m plt\u001b[39m.\u001b[39mfigure(figsize\u001b[39m=\u001b[39m(\u001b[39m15\u001b[39m, \u001b[39m3\u001b[39m))\n\u001b[0;32m---> 16\u001b[0m librosa\u001b[39m.\u001b[39mdisplay\u001b[39m.\u001b[39mspecshow(anom_mfcc[\u001b[39m0\u001b[39;49m], sr\u001b[39m=\u001b[39manom_sr, x_axis\u001b[39m=\u001b[39m\u001b[39m'\u001b[39m\u001b[39mtime\u001b[39m\u001b[39m'\u001b[39m)\n\u001b[1;32m     17\u001b[0m plt\u001b[39m.\u001b[39mtitle(\u001b[39m'\u001b[39m\u001b[39mMFCC\u001b[39m\u001b[39m'\u001b[39m)\n\u001b[1;32m     18\u001b[0m plt\u001b[39m.\u001b[39mxlabel(\u001b[39m'\u001b[39m\u001b[39mTime (s)\u001b[39m\u001b[39m'\u001b[39m)\n",
      "\u001b[0;31mIndexError\u001b[0m: list index out of range"
     ]
    },
    {
     "data": {
      "text/plain": [
       "<Figure size 1500x300 with 0 Axes>"
      ]
     },
     "metadata": {},
     "output_type": "display_data"
    }
   ],
   "source": [
    "# extract MFCC\n",
    "\n",
    "anom_mfcc = mfcc(anom_data_denoised, anom_sr)\n",
    "norm_mfcc = mfcc(norm_data_denoised, norm_sr)\n",
    "\n",
    "# plot first MFCC\n",
    "plt.figure(figsize=(15, 3))\n",
    "librosa.display.specshow(anom_mfcc[0], sr=anom_sr, x_axis='time')\n",
    "plt.title('MFCC')\n",
    "plt.xlabel('Time (s)')\n",
    "plt.ylabel('MFCC')\n",
    "plt.colorbar()\n",
    "plt.show()"
   ]
  },
  {
   "cell_type": "code",
   "execution_count": null,
   "metadata": {},
   "outputs": [],
   "source": []
  }
 ],
 "metadata": {
  "kernelspec": {
   "display_name": "Course_5ARIP10",
   "language": "python",
   "name": "python3"
  },
  "language_info": {
   "codemirror_mode": {
    "name": "ipython",
    "version": 3
   },
   "file_extension": ".py",
   "mimetype": "text/x-python",
   "name": "python",
   "nbconvert_exporter": "python",
   "pygments_lexer": "ipython3",
   "version": "3.8.13"
  },
  "orig_nbformat": 4
 },
 "nbformat": 4,
 "nbformat_minor": 2
}
