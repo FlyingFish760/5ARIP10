{
 "cells": [
  {
   "attachments": {},
   "cell_type": "markdown",
   "metadata": {},
   "source": [
    "# Import libraries"
   ]
  },
  {
   "cell_type": "code",
   "execution_count": 1,
   "metadata": {},
   "outputs": [],
   "source": [
    "#Import libaries\n",
    "import random\n",
    "import numpy  as np\n",
    "import matplotlib.pyplot as plt\n",
    "import os\n",
    "import scienceplots\n",
    "\n",
    "#Import self-written functions\n",
    "from HD_DataLoader import *\n",
    "import GA_feature_extraction as fe\n"
   ]
  },
  {
   "attachments": {},
   "cell_type": "markdown",
   "metadata": {},
   "source": [
    "# Load in the data"
   ]
  },
  {
   "cell_type": "code",
   "execution_count": 2,
   "metadata": {},
   "outputs": [
    {
     "name": "stdout",
     "output_type": "stream",
     "text": [
      "---------------------------------------------------------\n",
      "Generating database for HD's\n"
     ]
    }
   ],
   "source": [
    "# generate database\n",
    "folder_path = os.path.join(os.getcwd(), 'HD_data') \n",
    "HD_class = HD(data_path = folder_path)\n",
    "HD_database = HD_class.generate_database()"
   ]
  },
  {
   "cell_type": "code",
   "execution_count": 3,
   "metadata": {},
   "outputs": [],
   "source": [
    "##### load microphone data\n",
    "anom_mic = []\n",
    "norm_mic = []\n",
    "\n",
    "keys_mic = ['Data']\n",
    "for test in HD_database:\n",
    "    if HD_database[test]['attributes']['HD_status'] == 1:  # it is faulty HD\n",
    "        mic = {key: HD_database[test]['Microphone'][key] for key in keys_mic}\n",
    "        anom_mic.append([mic[key] for key in keys_mic])\n",
    "    elif HD_database[test]['attributes']['HD_status'] == 0:  # it is working HD\n",
    "        mic = {key: HD_database[test]['Microphone'][key] for key in keys_mic}\n",
    "        norm_mic.append([mic[key] for key in keys_mic])\n",
    "\n",
    "anom_mic = np.array(anom_mic)\n",
    "norm_mic = np.array(norm_mic)\n",
    "mic_data = np.concatenate((norm_mic, anom_mic), axis=0)\n",
    "\n",
    "# only keep the left stereo, since the difference of left and right stereos is very small:\n",
    "# shape:[n_files*1*n_samples (fs * secs)*2]-> shape:[n_files*1*n_samples (fs * secs)]\n",
    "mic_data = mic_data[:, :, :, 0]\n",
    "\n",
    "# eliminate dimensions of only one element\n",
    "# shape:[n_files*1*n_samples (fs * secs)]-> shape:[n_files*n_samples (fs * secs)]\n",
    "mic_data = np.squeeze(mic_data)\n",
    "\n",
    "\n",
    "\n",
    "###### load current data\n",
    "anom_current = []\n",
    "norm_current = []\n",
    "\n",
    "keys_current = ['i_motor_LP']\n",
    "for test in HD_database:\n",
    "    if HD_database[test]['attributes']['HD_status'] == 1:  # it is faulty HD\n",
    "        current = {key: HD_database[test]['dSpace'][key] for key in keys_current}\n",
    "        anom_current.append([current[key] for key in keys_current])\n",
    "    elif HD_database[test]['attributes']['HD_status'] == 0:  # it is working HD\n",
    "        current = {key: HD_database[test]['dSpace'][key] for key in keys_current}\n",
    "        norm_current.append([current[key] for key in keys_current])\n",
    "\n",
    "#since the lengths of current tests were not equal, crop the test data so that concatenation could be achieved\n",
    "def find_min_len(current_data):\n",
    "    \"\"\" \n",
    "    find the minimum length of the elements in one two-dimensional current data list\n",
    "    \"\"\"\n",
    "    min_len = current_data[0][0].shape\n",
    "    for i in range (len(current_data) - 1):\n",
    "        if current_data[i][0].shape > current_data[i+1][0].shape:\n",
    "            min_len = current_data[i+1][0].shape\n",
    "    min_len = int(min_len[0])\n",
    "    return min_len\n",
    "\n",
    "# find min length of both anom and norm current data\n",
    "anom_min_len = find_min_len(anom_current)\n",
    "norm_min_len = find_min_len(norm_current)\n",
    "current_min_len = min(anom_min_len, norm_min_len)\n",
    "\n",
    "# resize all both the anom and norm current data into the min length and concatenate them\n",
    "for i in range (len(anom_current)):\n",
    "    anom_current[i][0] = np.resize(anom_current[i][0], current_min_len)\n",
    "for i in range (len(norm_current)):\n",
    "    norm_current[i][0] = np.resize(norm_current[i][0], current_min_len)\n",
    "anom_current = np.array(anom_current)\n",
    "norm_current = np.array(norm_current)\n",
    "current_data = np.squeeze(np.concatenate((norm_current, anom_current), axis=0))"
   ]
  },
  {
   "attachments": {},
   "cell_type": "markdown",
   "metadata": {},
   "source": [
    "# Extract features"
   ]
  },
  {
   "cell_type": "code",
   "execution_count": 4,
   "metadata": {},
   "outputs": [],
   "source": [
    "# adjust the x's in the below code to change the lengths of time windows during feature extraction\n",
    "\n",
    "mic_time_feats = fe.extract_time_features(data = mic_data, x = 44100)   # used fs as x\n",
    "mic_fft_feats = fe.extract_fft_features(data=mic_data, x = 44100)   # used fs as x\n",
    "# using x = (current_min_len/60) could produce the same n_time_windows as mic data\n",
    "current_time_feats = fe.extract_time_features(data=current_data, x = int(current_min_len/60))  \n",
    "\n",
    "\n",
    "# normalize features (due to the scale difference between different features)\n",
    "def normlize_feats(feature_map):\n",
    "    # normalize feature map (use min-max normalizaton: (x-min)/(max-min))\n",
    "    for i in range(feature_map.shape[1]):\n",
    "        colomn_min = np.min(feature_map[:, i])\n",
    "        colomn_max = np.max(feature_map[:, i])\n",
    "        for j in range(feature_map.shape[0]):\n",
    "            feature_map[j, i] = (feature_map[j, i] - colomn_min)/(colomn_max - colomn_min)\n",
    "    return feature_map\n",
    "\n",
    "mic_time_feats_norm = normlize_feats(mic_time_feats)\n",
    "mic_fft_feats_norm = normlize_feats(mic_fft_feats)\n",
    "current_time_feats_norm = normlize_feats(current_time_feats)\n",
    "feature_map_norm = np.hstack((mic_time_feats_norm, mic_fft_feats_norm, current_time_feats_norm))\n"
   ]
  },
  {
   "attachments": {},
   "cell_type": "markdown",
   "metadata": {},
   "source": [
    "# Perform GA"
   ]
  },
  {
   "cell_type": "code",
   "execution_count": 5,
   "metadata": {},
   "outputs": [],
   "source": [
    "# define the fitness function\n",
    "def  calculate_fitness(individual , X):\n",
    "    # Convert  binary  string  to  boolean  mask\n",
    "    mask = np.array(list(individual), dtype=bool)\n",
    "    # Apply  mask to  dataset\n",
    "    X_masked = X[:, mask]\n",
    "    # Calculate  variance  of each  feature\n",
    "    variances = np.var(X_masked , axis =0)\n",
    "    # Calculate  fitness  as the  sum of  variances\n",
    "    fitness = np.sum(variances)\n",
    "    \n",
    "    return  fitness\n",
    "\n",
    "\n",
    "# define the genetic algorithm\n",
    "def genetic_algorithm(data, n_goal_features, population_size, num_genes, calculate_fitness, mutation_rate, elitism_rate, num_generations):\n",
    "    \"\"\" \n",
    "    Implement genetic algorithm which derives features of low dimentionality from feature of high dimensionality. (dimensionality of features reduction)\n",
    "\n",
    "    Params:\n",
    "    data: input data on which genetic algorithm will be implemented; size: n_samples * n_all_features (high dimension)\n",
    "    n_goal_features: target number of features (low dimension)\n",
    "    population_size: population size initialization: 2 to the n_feature (high) th \n",
    "    num_genes: = n_all_features (high dimension)\n",
    "    calculate_fitness: fitness score function\n",
    "    mutation_rate: mutation rate, between (0, 1) \n",
    "    elitism_rate: elitism rate, between (0, 1)\n",
    "    num_generations: number of generations\n",
    "    \n",
    "\n",
    "    return: a feature map with the number of selected features of n_goal_features\n",
    "    \"\"\"\n",
    "\n",
    "    # initialize the population\n",
    "    population = []\n",
    "    for i in range(population_size):\n",
    "        individual = [0] * num_genes  # initialize all genes to zeros\n",
    "        for j in random.sample(range(num_genes), n_goal_features):  # choose genes locations randomly\n",
    "            individual[j] = 1  # set the chosen genes locations to one\n",
    "        population.append(individual)\n",
    "\n",
    "    # run the evolution loop for num_generations\n",
    "    for generation in range(num_generations):\n",
    "        # evaluate the fitness of each individual in the population\n",
    "        fitness_values = [calculate_fitness(individual, data) for individual in population]\n",
    "\n",
    "        # select the fittest individuals for the next generation\n",
    "        num_elites = int(elitism_rate * population_size)\n",
    "        elites = sorted(range(len(population)), key=lambda i: fitness_values[i], reverse=True)[:num_elites]\n",
    "        next_generation = [population[i] for i in elites]\n",
    "\n",
    "        # breed new individuals to fill the rest of the next generation\n",
    "        while len(next_generation) < population_size:\n",
    "            \"\"\" parent1, parent2 = random.choices(population, weights=fitness_values, k=2)\n",
    "            child = []\n",
    "            # to ensure number of genes chosen will not exceed n_goal_features, we will select a crossover point, then copy the genes before the location from parent1, and copy the rest\n",
    "            #of genes after the location from parent2\n",
    "            crossover_point = random.randint(1, num_genes-1)   # choose a crossover point\n",
    "            # perform crossover\n",
    "            child = parent1[:crossover_point] + parent2[crossover_point:] \"\"\"\n",
    "            parent1, parent2 = random.choices(population, weights=fitness_values, k=2)\n",
    "            child = [parent1[i] if random.random() < 0.5 else parent2[i] for i in range(num_genes)]\n",
    "            # if the number of genes chosen exceeds n_goal_features, then we will randomly set genes to zero until the number is equal to n_goal_features\n",
    "            while sum(child) >= n_goal_features:\n",
    "                random_index = random.randint(0, len(child) - 1)\n",
    "                child[random_index] = 0\n",
    "\n",
    "            # in mutation operation, in order to ensure number of genes chosen will not exceed n_goal_features, we will check if the number of genes chosen already equals to n_goal_features,\n",
    "            # if so, we will not proceed mutation operation. If not, we will continue to choose one genes to make negation\n",
    "            if random.random() < mutation_rate:\n",
    "                gene_to_mutate = random.randint(0, num_genes-1)\n",
    "                if sum(child) < n_goal_features:\n",
    "                    child[gene_to_mutate] = 1 - child[gene_to_mutate]\n",
    "            next_generation.append(child)\n",
    "            \n",
    "\n",
    "        # replace the old population with the new generation\n",
    "        population = next_generation\n",
    "\n",
    "        print(\"Generation {} finished\".format(generation+1))\n",
    "\n",
    "    genes_chosen = np.array(max(population, key=lambda individual: calculate_fitness(individual, data)))\n",
    "    # indicate the locations of chosen genes\n",
    "    genes_chosen_loc = np.where(genes_chosen == 1)[0]\n",
    "    print(\"locations of chosen genes (starts from zero):\", genes_chosen_loc)\n",
    "    # Convert  binary  array  to  boolean  mask\n",
    "    features_mask= genes_chosen.astype(bool)\n",
    "    # Apply  mask to  dataset\n",
    "    features_chosen = data[:, features_mask]\n",
    "\n",
    "    # return the features of low dimensionatlity\n",
    "    return features_chosen"
   ]
  },
  {
   "cell_type": "code",
   "execution_count": 6,
   "metadata": {},
   "outputs": [
    {
     "name": "stdout",
     "output_type": "stream",
     "text": [
      "Generation 1 finished\n",
      "Generation 2 finished\n",
      "Generation 3 finished\n",
      "Generation 4 finished\n",
      "Generation 5 finished\n",
      "locations of chosen genes (starts from zero): [2 4]\n"
     ]
    }
   ],
   "source": [
    "# choose featuers to be put into genetic_algorithm\n",
    "# change the columns of feature_map_norm to choose different features: [:15]->Mic(time); [15:20]->Mic(freq); [20:]->Cur(time)\n",
    "feature_map_chosen = feature_map_norm[:, :15]\n",
    "\n",
    "# n_goal_features, num_genes need to be adjusted; population_size, mutation_rate, elitism_rate, num_generations could be tuned.\n",
    "# After trials, population_size should increase with num_genes increasing, while other parameters are less likely to be tuned\n",
    "n_goal_features = 2\n",
    "data = feature_map_chosen\n",
    "# if want to cover all combinations of features, then set 2 to the n_genes th, note that the running tiem would be very long \n",
    "population_size =  10000  \n",
    "num_genes = 15  \n",
    "mutation_rate=0.01\n",
    "elitism_rate=0.1\n",
    "num_generations= 5\n",
    "\n",
    "features_chosen = genetic_algorithm(data, n_goal_features, population_size, num_genes, calculate_fitness, mutation_rate, \n",
    "                                    elitism_rate, num_generations)"
   ]
  },
  {
   "cell_type": "code",
   "execution_count": 7,
   "metadata": {},
   "outputs": [
    {
     "data": {
      "text/plain": [
       "<Figure size 640x480 with 0 Axes>"
      ]
     },
     "metadata": {},
     "output_type": "display_data"
    },
    {
     "data": {
      "image/png": "[encoded data removed]",
      "text/plain": [
       "<Figure size 1000x600 with 1 Axes>"
      ]
     },
     "metadata": {},
     "output_type": "display_data"
    }
   ],
   "source": [
    "# draw scatter plot with the features found\n",
    "def features_plot(features, n_norm):\n",
    "    plt.figure()\n",
    "\n",
    "    x_norm = features[:n_norm, 0]\n",
    "    y_norm = features[:n_norm, 1]\n",
    "    x_anom = features[n_norm:, 0]\n",
    "    y_anom = features[n_norm:, 1]\n",
    "\n",
    "   # Adjust the plotsettings in this code:\n",
    "    fontsize = 20\n",
    "    ticksize = 15\n",
    "    plt.style.use('science')\n",
    "    # set the visiblity to bright\n",
    "    params = {  \"xtick.color\" : \"black\",\n",
    "                \"ytick.color\" : \"black\",\n",
    "                \"axes.labelsize\": ticksize,\n",
    "                \"axes.labelcolor\": \"black\",\n",
    "                \"font.size\": fontsize,\n",
    "                \"text.usetex\": False} \n",
    "    plt.rcParams.update(params)\n",
    "\n",
    "    plt.figure(figsize = (10, 6))\n",
    "\n",
    "    plt.scatter(x_norm, y_norm, c='g', label='normal')\n",
    "    plt.scatter(x_anom, y_anom, c='r', label='anomalous')\n",
    "\n",
    "    plt.xlabel('Maxs of current (time) data', fontsize = 17)\n",
    "    plt.ylabel('RMS of current (time) data', fontsize = 17)\n",
    "    plt.xlim((0, 1))\n",
    "    plt.ylim((0, 1))\n",
    "    plt.xticks(np.arange(0, 1, 0.2), fontsize = ticksize)\n",
    "    plt.yticks(np.arange(0, 1, 0.2), fontsize = ticksize)\n",
    "    plt.legend(fontsize = ticksize)\n",
    "    plt.grid(True, which='minor')   # add grid\n",
    "\n",
    "    file_path = os.path.join(os.getcwd(), 'Figures','GA_exam.eps') \n",
    "    plt.savefig(file_path, format='eps')\n",
    "    \n",
    "    plt.show()\n",
    "\n",
    "    \n",
    "\n",
    "features = features_chosen\n",
    "# note that number of normal test files and anomalous test files should be the same to run this line. Or, adjust n_norm and run.\n",
    "features_plot(features, n_norm = int(features_chosen.shape[0]/2))"
   ]
  }
 ],
 "metadata": {
  "kernelspec": {
   "display_name": "base",
   "language": "python",
   "name": "python3"
  },
  "language_info": {
   "codemirror_mode": {
    "name": "ipython",
    "version": 3
   },
   "file_extension": ".py",
   "mimetype": "text/x-python",
   "name": "python",
   "nbconvert_exporter": "python",
   "pygments_lexer": "ipython3",
   "version": "3.11.3"
  },
  "orig_nbformat": 4
 },
 "nbformat": 4,
 "nbformat_minor": 2
}
