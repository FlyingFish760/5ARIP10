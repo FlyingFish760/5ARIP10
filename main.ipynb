{
 "cells": [
  {
   "cell_type": "code",
   "execution_count": 17,
   "metadata": {},
   "outputs": [],
   "source": [
    "# Import necessary packages\n",
    "import pywt\n",
    "import matplotlib.pyplot as plt\n",
    "import numpy as np\n",
    "from scipy.fft import fft, ifft\n",
    "from scipy.io import wavfile\n",
    "from pylab import *\n",
    "import os\n",
    "import torchaudio"
   ]
  },
  {
   "cell_type": "code",
   "execution_count": 18,
   "metadata": {},
   "outputs": [],
   "source": [
    "data_dir = os.path.join(os.getcwd(), 'HD_model_NEW\\\\HD_data')\n",
    "microphone_dir = os.path.join(data_dir, 'microphone')\n",
    "dspace_dir = os.path.join(data_dir, 'dspace')\n",
    "vibration_dir = os.path.join(data_dir, 'vibration')"
   ]
  },
  {
   "cell_type": "code",
   "execution_count": 23,
   "metadata": {},
   "outputs": [],
   "source": [
    "# read all wav files in the microphone_dir directory\n",
    "audio_files = [f for f in os.listdir(microphone_dir) if f.endswith('.wav')]\n",
    "anomalous_audio_files = []\n",
    "normal_audio_files = []\n",
    "for i in audio_files:\n",
    "    if i.startswith('F'):\n",
    "        anomalous_audio_files.append(i)\n",
    "\n",
    "for i in audio_files:\n",
    "    if i.startswith('N'):\n",
    "        normal_audio_files.append(i)\n",
    "        \n"
   ]
  },
  {
   "cell_type": "code",
   "execution_count": 24,
   "metadata": {},
   "outputs": [
    {
     "data": {
      "text/plain": [
       "['N1_Mic_test_1_speed_20_fs_44100_secs60.wav',\n",
       " 'N1_Mic_test_2_speed_10_fs_44100_secs60.wav',\n",
       " 'N1_Mic_test_3_speed_30_fs_44100_secs60.wav',\n",
       " 'N1_Mic_test_4_speed_40_fs_44100_secs60.wav',\n",
       " 'N1_Mic_test_5_speed_50_fs_44100_secs60.wav',\n",
       " 'N1_Mic_test_6_speed_60_fs_44100_secs60.wav']"
      ]
     },
     "execution_count": 24,
     "metadata": {},
     "output_type": "execute_result"
    }
   ],
   "source": []
  }
 ],
 "metadata": {
  "kernelspec": {
   "display_name": "myvenv",
   "language": "python",
   "name": "python3"
  },
  "language_info": {
   "codemirror_mode": {
    "name": "ipython",
    "version": 3
   },
   "file_extension": ".py",
   "mimetype": "text/x-python",
   "name": "python",
   "nbconvert_exporter": "python",
   "pygments_lexer": "ipython3",
   "version": "3.11.0"
  },
  "orig_nbformat": 4
 },
 "nbformat": 4,
 "nbformat_minor": 2
}
