{
 "cells": [
  {
   "cell_type": "code",
   "execution_count": 78,
   "metadata": {},
   "outputs": [],
   "source": [
    "import torch\n",
    "from NN_model import *\n",
    "\n",
    "import sounddevice as sd\n",
    "import scipy.io.wavfile as wav\n",
    "from scipy.io.wavfile import write\n",
    "import os.path\n",
    "import numpy as np\n",
    "\n",
    "from os.path import join, abspath, isfile, isdir, splitext\n",
    "from os import makedirs, listdir\n",
    "\n",
    "from scipy.fft import fft\n",
    "\n",
    "split_time = 2 # Time of sample in secs\n",
    "\n",
    "file_name = \"Demonstration_F\""
   ]
  },
  {
   "attachments": {},
   "cell_type": "markdown",
   "metadata": {},
   "source": [
    "### Load the model"
   ]
  },
  {
   "cell_type": "code",
   "execution_count": 79,
   "metadata": {},
   "outputs": [
    {
     "ename": "RuntimeError",
     "evalue": "Error(s) in loading state_dict for Classifier:\n\tsize mismatch for fc1.weight: copying a param with shape torch.Size([20, 11]) from checkpoint, the shape in current model is torch.Size([20, 6]).",
     "output_type": "error",
     "traceback": [
      "\u001b[1;31m---------------------------------------------------------------------------\u001b[0m",
      "\u001b[1;31mRuntimeError\u001b[0m                              Traceback (most recent call last)",
      "Cell \u001b[1;32mIn[79], line 4\u001b[0m\n\u001b[0;32m      2\u001b[0m device \u001b[39m=\u001b[39m torch\u001b[39m.\u001b[39mdevice(\u001b[39m'\u001b[39m\u001b[39mcpu\u001b[39m\u001b[39m'\u001b[39m \u001b[39mif\u001b[39;00m torch\u001b[39m.\u001b[39mcuda\u001b[39m.\u001b[39mis_available() \u001b[39melse\u001b[39;00m \u001b[39m'\u001b[39m\u001b[39mgpu\u001b[39m\u001b[39m'\u001b[39m)\n\u001b[0;32m      3\u001b[0m model \u001b[39m=\u001b[39m Classifier(input_dim)\n\u001b[1;32m----> 4\u001b[0m model\u001b[39m.\u001b[39;49mload_state_dict(torch\u001b[39m.\u001b[39;49mload(\u001b[39m'\u001b[39;49m\u001b[39mdemo_model.pth\u001b[39;49m\u001b[39m'\u001b[39;49m))\n\u001b[0;32m      5\u001b[0m model \u001b[39m=\u001b[39m model\u001b[39m.\u001b[39mto(device)\n",
      "File \u001b[1;32m~\\AppData\\Local\\Packages\\PythonSoftwareFoundation.Python.3.9_qbz5n2kfra8p0\\LocalCache\\local-packages\\Python39\\site-packages\\torch\\nn\\modules\\module.py:1671\u001b[0m, in \u001b[0;36mModule.load_state_dict\u001b[1;34m(self, state_dict, strict)\u001b[0m\n\u001b[0;32m   1666\u001b[0m         error_msgs\u001b[39m.\u001b[39minsert(\n\u001b[0;32m   1667\u001b[0m             \u001b[39m0\u001b[39m, \u001b[39m'\u001b[39m\u001b[39mMissing key(s) in state_dict: \u001b[39m\u001b[39m{}\u001b[39;00m\u001b[39m. \u001b[39m\u001b[39m'\u001b[39m\u001b[39m.\u001b[39mformat(\n\u001b[0;32m   1668\u001b[0m                 \u001b[39m'\u001b[39m\u001b[39m, \u001b[39m\u001b[39m'\u001b[39m\u001b[39m.\u001b[39mjoin(\u001b[39m'\u001b[39m\u001b[39m\"\u001b[39m\u001b[39m{}\u001b[39;00m\u001b[39m\"\u001b[39m\u001b[39m'\u001b[39m\u001b[39m.\u001b[39mformat(k) \u001b[39mfor\u001b[39;00m k \u001b[39min\u001b[39;00m missing_keys)))\n\u001b[0;32m   1670\u001b[0m \u001b[39mif\u001b[39;00m \u001b[39mlen\u001b[39m(error_msgs) \u001b[39m>\u001b[39m \u001b[39m0\u001b[39m:\n\u001b[1;32m-> 1671\u001b[0m     \u001b[39mraise\u001b[39;00m \u001b[39mRuntimeError\u001b[39;00m(\u001b[39m'\u001b[39m\u001b[39mError(s) in loading state_dict for \u001b[39m\u001b[39m{}\u001b[39;00m\u001b[39m:\u001b[39m\u001b[39m\\n\u001b[39;00m\u001b[39m\\t\u001b[39;00m\u001b[39m{}\u001b[39;00m\u001b[39m'\u001b[39m\u001b[39m.\u001b[39mformat(\n\u001b[0;32m   1672\u001b[0m                        \u001b[39mself\u001b[39m\u001b[39m.\u001b[39m\u001b[39m__class__\u001b[39m\u001b[39m.\u001b[39m\u001b[39m__name__\u001b[39m, \u001b[39m\"\u001b[39m\u001b[39m\\n\u001b[39;00m\u001b[39m\\t\u001b[39;00m\u001b[39m\"\u001b[39m\u001b[39m.\u001b[39mjoin(error_msgs)))\n\u001b[0;32m   1673\u001b[0m \u001b[39mreturn\u001b[39;00m _IncompatibleKeys(missing_keys, unexpected_keys)\n",
      "\u001b[1;31mRuntimeError\u001b[0m: Error(s) in loading state_dict for Classifier:\n\tsize mismatch for fc1.weight: copying a param with shape torch.Size([20, 11]) from checkpoint, the shape in current model is torch.Size([20, 6])."
     ]
    }
   ],
   "source": [
    "\n",
    "input_dim = 6\n",
    "device = torch.device('cpu' if torch.cuda.is_available() else 'gpu')\n",
    "model = Classifier(input_dim)\n",
    "model.load_state_dict(torch.load('demo_model.pth'))\n",
    "model = model.to(device)"
   ]
  },
  {
   "attachments": {},
   "cell_type": "markdown",
   "metadata": {},
   "source": [
    "### Record microphone data\n"
   ]
  },
  {
   "cell_type": "code",
   "execution_count": 73,
   "metadata": {},
   "outputs": [],
   "source": [
    "\n",
    "# fs = 44100  # Sample rate\n",
    "# seconds = split_time  # Duration of recording\n",
    "# file_type = '.wav'\n",
    "\n",
    "# file_name = file_name + file_type\n",
    "\n",
    "# print(file_name)\n",
    "\n",
    "\n",
    "# print(\"Begin recording\")\n",
    "# myrecording = sd.rec(int(seconds * fs), samplerate=fs, channels=2)\n",
    "# sd.wait()  # Wait until recording is finished\n",
    "# print(len(myrecording))\n",
    "# write(file_name, fs, myrecording)  # Save as WAV file\n",
    "\n"
   ]
  },
  {
   "attachments": {},
   "cell_type": "markdown",
   "metadata": {},
   "source": [
    "### Load microphone data"
   ]
  },
  {
   "cell_type": "code",
   "execution_count": 74,
   "metadata": {},
   "outputs": [],
   "source": [
    "file = file_name + '.wav'\n",
    "\n",
    "sr, mic_data = wav.read(file)\n",
    "\n",
    "mic_data = mic_data[:(sr*split_time)]\n",
    "mic_fft = fft(mic_data)\n",
    "mic_data = 2.0/(mic_data.shape[0]) * np.abs(mic_fft[0:mic_data.shape[0]//2]) "
   ]
  },
  {
   "attachments": {},
   "cell_type": "markdown",
   "metadata": {},
   "source": [
    "### Get dSpace data"
   ]
  },
  {
   "cell_type": "code",
   "execution_count": 75,
   "metadata": {},
   "outputs": [],
   "source": [
    "\n",
    "\n",
    "file = file_name + '.csv'\n",
    "\n",
    "cur_samplerate = 1000\n",
    "\n",
    "arr = np.loadtxt(file,\n",
    "            delimiter=\",\", dtype=str, usecols=(1,2,3,4,5,6), skiprows=16)\n",
    "data = arr[12:] # data consists of ['time','I_bat[A]', 'I_dyno_LP[A]', 'i_motor_LP[A]','speed_motor[rads]', 'u_bat[V]']\n",
    "data = data.astype(float)\n",
    "\n",
    "cur_data = data[:,3]# Only obtain current running through motor\n",
    "\n",
    "cur_data = cur_data[:(split_time * cur_samplerate)]\n"
   ]
  },
  {
   "attachments": {},
   "cell_type": "markdown",
   "metadata": {},
   "source": [
    "### Get statistical features from measurement"
   ]
  },
  {
   "cell_type": "code",
   "execution_count": 76,
   "metadata": {},
   "outputs": [],
   "source": [
    "\n",
    "speed = 20\n",
    "\n",
    "mean_mic = np.mean(mic_data)\n",
    "stds_mic = np.std(mic_data)\n",
    "maxs_mic = np.max(mic_data)\n",
    "mins_mic = np.min(mic_data)\n",
    "medians_mic = np.median(mic_data)\n",
    "\n",
    "mean_cur = np.float32(np.mean(cur_data))\n",
    "stds_cur = np.float32(np.std(cur_data))\n",
    "maxs_cur = np.float32(np.max(cur_data))\n",
    "mins_cur = np.float32(np.min(cur_data))\n",
    "medians_cur = np.float32(np.median(cur_data))\n",
    "\n",
    "\n",
    "inputs = torch.tensor([speed, mean_mic, stds_mic, maxs_mic, mins_mic, medians_mic])#, mean_cur, stds_cur, maxs_cur, mins_cur, medians_cur])\n",
    "\n"
   ]
  },
  {
   "attachments": {},
   "cell_type": "markdown",
   "metadata": {},
   "source": [
    "### Make prediction"
   ]
  },
  {
   "cell_type": "code",
   "execution_count": 77,
   "metadata": {},
   "outputs": [
    {
     "name": "stdout",
     "output_type": "stream",
     "text": [
      "Drive is anomalous\n"
     ]
    }
   ],
   "source": [
    "\n",
    "with torch.no_grad():\n",
    "  pred = model(inputs)\n",
    "\n",
    "predicted = (pred >= 0.5).squeeze().long()\n",
    "\n",
    "print(\"Drive is anomalous\") if predicted == 1 else print(\"Drive is normal\") \n"
   ]
  }
 ],
 "metadata": {
  "kernelspec": {
   "display_name": "5LSL0",
   "language": "python",
   "name": "5lsl0"
  },
  "language_info": {
   "codemirror_mode": {
    "name": "ipython",
    "version": 3
   },
   "file_extension": ".py",
   "mimetype": "text/x-python",
   "name": "python",
   "nbconvert_exporter": "python",
   "pygments_lexer": "ipython3",
   "version": "3.9.13"
  },
  "orig_nbformat": 4
 },
 "nbformat": 4,
 "nbformat_minor": 2
}
