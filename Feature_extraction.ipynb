{
 "cells": [
  {
   "cell_type": "code",
   "execution_count": 5,
   "metadata": {},
   "outputs": [],
   "source": [
    "import torch\n",
    "import torchaudio\n",
    "import matplotlib.pyplot as plt"
   ]
  },
  {
   "cell_type": "code",
   "execution_count": 12,
   "metadata": {},
   "outputs": [
    {
     "name": "stdout",
     "output_type": "stream",
     "text": [
      "/Users/irisroeloffzen/Documents/TUe/AIES/5ARIP10/dev_gearbox\n",
      "Directory already downloaded: /Users/irisroeloffzen/Documents/TUe/AIES/5ARIP10/dev_gearbox\n",
      "All data downloaded\n"
     ]
    }
   ],
   "source": [
    "###################################################################################\n",
    "# Download a zipfile that contains dev_gearbox of DCASE_2022 dataset \n",
    "###################################################################################\n",
    "\n",
    "\n",
    "import os\n",
    "import sys\n",
    "import shutil\n",
    "import tempfile\n",
    "\n",
    "from urllib.request import urlretrieve\n",
    "\n",
    "# Data directory. Change this to your own directory\n",
    "# You need 946.4 MB to store all data.\n",
    "dir_data = os.path.abspath(\"F:\\Team_project\\DCASE_data\")\n",
    "\n",
    "# URL to retrieve dev_gearbox data. \n",
    "url_dev_gearbox = 'https://zenodo.org/record/6355122/files/dev_gearbox.zip?download=1'\n",
    "dir_dev_gearbox = os.path.join(dir_data, \"dev_gearbox\")\n",
    "\n",
    "# Download and extraction function\n",
    "def download_extract(url: str):\n",
    "    # Create a temp directory to download into\n",
    "    with tempfile.TemporaryDirectory(dir=dir_data, prefix=\"download_\") as dir_temp:\n",
    "        print(f'Downloading: {url}')\n",
    "        zip_path = os.path.join(dir_temp, 'download.zip')\n",
    "        urlretrieve(url, zip_path, lambda n, size, total: sys.stdout.write(f'\\rProgress: {n*size/total*100:.2f} %'))\n",
    "        sys.stdout.write('\\n')\n",
    "        sys.stdout.flush()\n",
    "\n",
    "        print(f'Unpacking archive.')\n",
    "        shutil.unpack_archive(zip_path, dir_data)\n",
    "\n",
    "# Create the data directory (if it does not exist)\n",
    "os.makedirs(dir_data, exist_ok=True)\n",
    "\n",
    "# Check if the dev_gearbox directory have been downloaded and extracted\n",
    "for dir, url in [(dir_dev_gearbox, url_dev_gearbox)]:\n",
    "    print(dir)\n",
    "    if not os.path.isdir(dir):\n",
    "        # Download the required files\n",
    "        print(f'Directory does not exist: {dir}')\n",
    "        download_extract(url)\n",
    "    else:\n",
    "        print(f'Directory already downloaded: {dir}')\n",
    "\n",
    "# Done!\n",
    "print(f'All data downloaded')"
   ]
  },
  {
   "cell_type": "code",
   "execution_count": 14,
   "metadata": {},
   "outputs": [
    {
     "name": "stdout",
     "output_type": "stream",
     "text": [
      "/Users/irisroeloffzen/Documents/TUe/AIES/5ARIP10/dev_gearbox/train/features\n",
      "Feature extracting: /Users/irisroeloffzen/Documents/TUe/AIES/5ARIP10/dev_gearbox/train\n",
      "Feature extracting sub-directory: \n"
     ]
    },
    {
     "name": "stderr",
     "output_type": "stream",
     "text": [
      "/Users/irisroeloffzen/opt/anaconda3/envs/environment/lib/python3.8/site-packages/torchaudio/functional/functional.py:576: UserWarning: At least one mel filterbank has all zero values. The value for `n_mels` (128) may be set too high. Or, the value for `n_freqs` (201) may be set too low.\n",
      "  warnings.warn(\n"
     ]
    },
    {
     "name": "stdout",
     "output_type": "stream",
     "text": [
      "Feature extraction done\n"
     ]
    }
   ],
   "source": [
    "###################################################################################\n",
    "# Extract features of DCASE dataset\n",
    "###################################################################################\n",
    "\n",
    "\n",
    "dir_train = os.path.join(dir_dev_gearbox, \"train\")\n",
    "feature = 'Melspectrogram'\n",
    "\n",
    "# Directories for features of datasets\n",
    "dir_train_feature = os.path.join(dir_train, \"features\")\n",
    "\n",
    "# Run feature extraction of data\n",
    "for dir_file, dir_feature in [(dir_train, dir_train_feature)]:\n",
    "    print(dir_feature)\n",
    "    # Check if the directory already exists\n",
    "    if os.path.isdir(dir_feature):\n",
    "        print(f'Features directory already exists: {dir_feature}')\n",
    "        continue\n",
    "\n",
    "    print(f'Feature extracting: {dir_file}')\n",
    "\n",
    "    # Walk though the directory and extract features of each file \n",
    "    for root,_,files in  os.walk( dir_file ):\n",
    "        if len(files) == 0:\n",
    "            continue\n",
    "\n",
    "        print(f'Feature extracting sub-directory: {root.replace(dir_file, \"\")}')\n",
    "\n",
    "        # Create the directory\n",
    "        root_feature = root.replace(dir_file, dir_feature)\n",
    "        os.makedirs(root_feature, exist_ok=True)\n",
    "\n",
    "        for f in files:\n",
    "            if not f.endswith('.wav'):\n",
    "                continue\n",
    "\n",
    "            # extract and save Melspectrogram features \n",
    "            path_original = os.path.join(root,f)\n",
    "            waveform,sample_rate = torchaudio.load(path_original)\n",
    "            specgram = torchaudio.transforms.MelSpectrogram()(waveform)\n",
    "            tensor_name = f.replace(\".\", \"\")   #delete \"dot\" in the original file name in oder avoid name error\n",
    "            tensor_name = tensor_name.replace(\"wav\", \".pt\")\n",
    "            torch.save(specgram, os.path.join(dir_train_feature, tensor_name))\n",
    "\n",
    "\n",
    "print(f'Feature extraction done')"
   ]
  }
 ],
 "metadata": {
  "kernelspec": {
   "display_name": "base",
   "language": "python",
   "name": "python3"
  },
  "language_info": {
   "codemirror_mode": {
    "name": "ipython",
    "version": 3
   },
   "file_extension": ".py",
   "mimetype": "text/x-python",
   "name": "python",
   "nbconvert_exporter": "python",
   "pygments_lexer": "ipython3",
   "version": "3.8.13"
  },
  "orig_nbformat": 4
 },
 "nbformat": 4,
 "nbformat_minor": 2
}
