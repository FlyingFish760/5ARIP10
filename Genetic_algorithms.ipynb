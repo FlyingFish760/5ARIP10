{
 "cells": [
  {
   "cell_type": "code",
   "execution_count": 19,
   "metadata": {},
   "outputs": [],
   "source": [
    "import random\n",
    "import numpy  as np"
   ]
  },
  {
   "cell_type": "code",
   "execution_count": 20,
   "metadata": {},
   "outputs": [
    {
     "data": {
      "text/plain": [
       "' # generate a random matrix\\n\\n# 设置种子\\nnp.random.seed(10)\\n# 生成矩阵\\nmt1 = np.random.randint(0, 100, size=250)\\n\\ndef extract_basics_split(data):\\n    means = np.empty((1, 50))\\n    stds = np.empty((1, 50))\\n    maxs = np.empty((1, 50))\\n    mins = np.empty((1, 50))\\n    medians = np.empty((1, 50))\\n\\n    splits = np.array_split(data, 50)\\n    \\n    for j in range(len(splits)):\\n        means[0, j] = np.mean(splits[j])\\n        stds[0, j] = np.std(splits[j])\\n        maxs[0, j] = np.max(splits[j])\\n        mins[0, j] = np.min(splits[j])\\n        medians[0, j] = np.median(splits[j])\\n\\n    features = np.array([means, stds, maxs, mins, medians])\\n\\n    features = features.T\\n    return features\\n\\nfeatures = extract_basics_split(mt1)\\nprint(features) '"
      ]
     },
     "execution_count": 20,
     "metadata": {},
     "output_type": "execute_result"
    }
   ],
   "source": [
    "\"\"\" # generate a random matrix\n",
    "\n",
    "# 设置种子\n",
    "np.random.seed(10)\n",
    "# 生成矩阵\n",
    "mt1 = np.random.randint(0, 100, size=250)\n",
    "\n",
    "def extract_basics_split(data):\n",
    "    means = np.empty((1, 50))\n",
    "    stds = np.empty((1, 50))\n",
    "    maxs = np.empty((1, 50))\n",
    "    mins = np.empty((1, 50))\n",
    "    medians = np.empty((1, 50))\n",
    "\n",
    "    splits = np.array_split(data, 50)\n",
    "    \n",
    "    for j in range(len(splits)):\n",
    "        means[0, j] = np.mean(splits[j])\n",
    "        stds[0, j] = np.std(splits[j])\n",
    "        maxs[0, j] = np.max(splits[j])\n",
    "        mins[0, j] = np.min(splits[j])\n",
    "        medians[0, j] = np.median(splits[j])\n",
    "\n",
    "    features = np.array([means, stds, maxs, mins, medians])\n",
    "\n",
    "    features = features.T\n",
    "    return features\n",
    "\n",
    "features = extract_basics_split(mt1)\n",
    "print(features) \"\"\""
   ]
  },
  {
   "attachments": {},
   "cell_type": "markdown",
   "metadata": {},
   "source": [
    "# Load in the data"
   ]
  },
  {
   "cell_type": "code",
   "execution_count": 21,
   "metadata": {},
   "outputs": [],
   "source": [
    "#Import libaries\n",
    "import matplotlib.pyplot as plt\n",
    "import numpy as np\n",
    "from scipy.fft import fft, ifft\n",
    "from scipy.io import wavfile \n",
    "from scipy.signal import filtfilt, butter\n",
    "from pylab import *\n",
    "import os\n",
    "import librosa\n",
    "\n",
    "#Import self-written functions\n",
    "from HD_model import HD_statistical_functions as sf\n",
    "\n",
    "# Import files\n",
    "date_1 = '3_Measurems_16_05'\n",
    "date_2 = '2_Measurems_12_05'\n",
    "dir_data = os.path.join(os.getcwd(), \"HD_model\\data\") \n",
    "\n",
    "_, _, _, _,norm_mic_files, norm_mic_sr, norm_mic_data, norm_mic_data_fft = sf.loading_data(dir_data, date_2, condition = 'working')\n",
    "_, _, _, _,anom_mic_files, anom_mic_sr, anom_mic_data, anom_mic_data_fft = sf.loading_data(dir_data, date_1, condition = 'faulty')\n",
    "\n",
    "# due to the little difference between left and right stereos of mic, we now only use the left one\n",
    "norm_mic_data_left = []\n",
    "anom_mic_data_left = []\n",
    "\n",
    "for i in range(len(norm_mic_data)):\n",
    "    norm_mic_data_left.append(norm_mic_data[i][:,0])\n",
    "for i in range(len(anom_mic_data)):\n",
    "    anom_mic_data_left.append(anom_mic_data[i][:,0])\n",
    "\n",
    "# Extract statistical features\n",
    "norm_means, norm_stds, norm_maxs, norm_mins, norm_medians = sf.split_extract_features(norm_mic_data_left, fft_bool=False)\n",
    "norm_means_fft, norm_stds_fft, norm_maxs_fft, norm_mins_fft, norm_medians_fft = sf.split_extract_features(norm_mic_data_left, fft_bool=True)\n",
    "\n",
    "anom_means, anom_stds, anom_maxs, anom_mins, anom_medians = sf.split_extract_features(anom_mic_data_left, fft_bool=False)\n",
    "anom_means_fft, anom_stds_fft, anom_maxs_fft, anom_mins_fft, anom_medians_fft = sf.split_extract_features(anom_mic_data_left, fft_bool=True)\n",
    "\n",
    "norm_means = np.array(norm_means)\n",
    "norm_stds = np.array(norm_stds)\n",
    "norm_maxs = np.array(norm_maxs)\n",
    "norm_mins = np.array(norm_mins)\n",
    "norm_medians = np.array(norm_medians)\n",
    "norm_means_fft = np.array(norm_means_fft)\n",
    "norm_stds_fft = np.array(norm_stds_fft)\n",
    "norm_maxs_fft = np.array(norm_maxs_fft)\n",
    "norm_mins_fft = np.array(norm_mins_fft)\n",
    "norm_medians_fft = np.array(norm_medians_fft)\n",
    "\n",
    "anom_means = np.array(anom_means)\n",
    "anom_stds = np.array(anom_stds)\n",
    "anom_maxs = np.array(anom_maxs)\n",
    "anom_mins = np.array(anom_mins)\n",
    "anom_medians = np.array(anom_medians)\n",
    "anom_means_fft = np.array(anom_means_fft)\n",
    "anom_stds_fft = np.array(anom_stds_fft)\n",
    "anom_maxs_fft = np.array(anom_maxs_fft)\n",
    "anom_mins_fft = np.array(anom_mins_fft)\n",
    "anom_medians_fft = np.array(anom_medians_fft)\n",
    "\n",
    "norm_feature_map = np.stack([norm_means, norm_stds, norm_maxs, norm_mins,norm_medians, norm_means_fft, norm_stds_fft, norm_maxs_fft, norm_mins_fft, \n",
    "                        norm_medians_fft]).T\n",
    "anom_feature_map = np.stack((anom_means, anom_stds, anom_maxs, anom_mins, anom_medians, anom_means_fft, anom_stds_fft, anom_maxs_fft, anom_mins_fft,\n",
    "                            anom_medians_fft)).T\n",
    "feature_map = np.vstack([norm_feature_map, anom_feature_map])\n"
   ]
  },
  {
   "attachments": {},
   "cell_type": "markdown",
   "metadata": {},
   "source": [
    "# Perform GA"
   ]
  },
  {
   "cell_type": "code",
   "execution_count": 22,
   "metadata": {},
   "outputs": [],
   "source": [
    "import random\n",
    "import numpy  as np\n",
    "\n",
    "# define the fitness function\n",
    "def  calculate_fitness(individual , X):\n",
    "    # Convert  binary  string  to  boolean  mask\n",
    "    mask = np.array(list(individual), dtype=bool)\n",
    "    # Apply  mask to  dataset\n",
    "    X_masked = X[:, mask]\n",
    "    # Calculate  variance  of each  feature\n",
    "    variances = np.var(X_masked , axis =0)\n",
    "    # Calculate  fitness  as the  sum of  variances\n",
    "    fitness = np.sum(variances)\n",
    "    \n",
    "    return  fitness\n",
    "\n",
    "\n",
    "# define the genetic algorithm\n",
    "def genetic_algorithm(data, n_features, population_size, num_genes, calculate_fitness, mutation_rate, elitism_rate, num_generations):\n",
    "    \"\"\" \n",
    "    Implement genetic algorithm which derives features of low dimentionality from feature of high dimensionality. (dimensionality of features reduction)\n",
    "\n",
    "    Params:\n",
    "    data: input data on which genetic algorithm will be implemented; size: n_samples * n_features (high dimension)\n",
    "    n_features: target number of features (low dimension)\n",
    "    population_size: population size initialization \n",
    "    num_genes: = n_features (high dimension)\n",
    "    calculate_fitness: fitness score function\n",
    "    mutation_rate: mutation rate, between (0, 1) \n",
    "    elitism_rate: elitism rate, between (0, 1)\n",
    "    num_generations: number of generations\n",
    "    \n",
    "\n",
    "    return: features of low dimenstionatlity\n",
    "    \"\"\"\n",
    "    # initialize the population\n",
    "    population = []\n",
    "    for i in range(population_size):\n",
    "        individual = [0] * num_genes  # initialize all genes to zeros\n",
    "        for j in random.sample(range(num_genes), n_features):  # choose genes locations randomly\n",
    "            individual[j] = 1  # set the chosen genes locations to one\n",
    "        population.append(individual)\n",
    "\n",
    "    # run the evolution loop for num_generations\n",
    "    for generation in range(num_generations):\n",
    "        # evaluate the fitness of each individual in the population\n",
    "        fitness_values = [calculate_fitness(individual, data) for individual in population]\n",
    "\n",
    "        # select the fittest individuals for the next generation\n",
    "        num_elites = int(elitism_rate * population_size)\n",
    "        elites = sorted(range(len(population)), key=lambda i: fitness_values[i], reverse=True)[:num_elites]\n",
    "        next_generation = [population[i] for i in elites]\n",
    "\n",
    "        # breed new individuals to fill the rest of the next generation\n",
    "        while len(next_generation) < population_size:\n",
    "            \"\"\" parent1, parent2 = random.choices(population, weights=fitness_values, k=2)\n",
    "            child = []\n",
    "            # to ensure number of genes chosen will not exceed n_features, we will select a crossover point, then copy the genes before the location from parent1, and copy the rest\n",
    "            #of genes after the location from parent2\n",
    "            crossover_point = random.randint(1, num_genes-1)   # choose a crossover point\n",
    "            # perform crossover\n",
    "            child = parent1[:crossover_point] + parent2[crossover_point:] \"\"\"\n",
    "            parent1, parent2 = random.choices(population, weights=fitness_values, k=2)\n",
    "            child = [parent1[i] if random.random() < 0.5 else parent2[i] for i in range(num_genes)]\n",
    "            # if the number of genes chosen exceeds n_features, then we will randomly set genes to zero until the number is equal to n_features\n",
    "            while sum(child) >= n_features:\n",
    "                random_index = random.randint(0, len(child) - 1)\n",
    "                child[random_index] = 0\n",
    "\n",
    "            # in mutation operation, in order to ensure number of genes chosen will not exceed n_features, we will check if the number of genes chosen already equals to n_features,\n",
    "            # if so, we will not proceed mutation operation. If not, we will continue to choose one genes to make negation\n",
    "            if random.random() < mutation_rate:\n",
    "                gene_to_mutate = random.randint(0, num_genes-1)\n",
    "                if sum(child) < n_features:\n",
    "                    child[gene_to_mutate] = 1 - child[gene_to_mutate]\n",
    "            next_generation.append(child)\n",
    "            \n",
    "\n",
    "        # replace the old population with the new generation\n",
    "        population = next_generation\n",
    "\n",
    "    genes_chosen = max(population, key=lambda individual: calculate_fitness(individual, data))\n",
    "    # Convert  binary  string  to  boolean  mask\n",
    "    features_mask= np.array(list(genes_chosen), dtype=bool)\n",
    "    # Apply  mask to  dataset\n",
    "    features = data[:, features_mask]\n",
    "\n",
    "    # return the features of low dimensionatlity\n",
    "    return genes_chosen, features\n",
    "\n",
    "\n",
    "\n"
   ]
  },
  {
   "cell_type": "code",
   "execution_count": 23,
   "metadata": {},
   "outputs": [
    {
     "name": "stdout",
     "output_type": "stream",
     "text": [
      "[0, 0, 1, 1, 0, 0, 0, 0, 0, 0]\n"
     ]
    },
    {
     "data": {
      "image/png": "[encoded data removed]",
      "text/plain": [
       "<Figure size 640x480 with 1 Axes>"
      ]
     },
     "metadata": {},
     "output_type": "display_data"
    }
   ],
   "source": [
    "import numpy as np\n",
    "import matplotlib.pyplot as plt\n",
    "\n",
    "n_features =2\n",
    "data = feature_map\n",
    "population_size = 1024   # 2 to the n_feature th\n",
    "num_genes = 10   # number of all features\n",
    "mutation_rate=0.01\n",
    "elitism_rate=0.1\n",
    "num_generations=10\n",
    "\n",
    "genes_chosen, features = genetic_algorithm(data, n_features, population_size, num_genes, calculate_fitness, mutation_rate=0.01, elitism_rate=0.1, num_generations=100)\n",
    "print(genes_chosen)\n",
    "\n",
    "# draw scatter plot with the features found\n",
    "def features_plot(features, n_norm):\n",
    "    plt.figure()\n",
    "\n",
    "    x_norm = features[:n_norm, 0]\n",
    "    y_norm = features[:n_norm, 1]\n",
    "    x_anom = features[n_norm:, 0]\n",
    "    y_norm = features[n_norm:, 1]\n",
    "\n",
    "\n",
    "    plt.scatter(x_norm, y_norm, c='r', label='normal')\n",
    "    plt.scatter(x_anom, y_norm, c='g', label='anomaly')\n",
    "\n",
    "    plt.xlabel('maxs')\n",
    "    plt.ylabel('mins')\n",
    "    plt.legend()\n",
    "    plt.show()\n",
    "\n",
    "features_plot(features, n_norm = 300)"
   ]
  },
  {
   "cell_type": "code",
   "execution_count": null,
   "metadata": {},
   "outputs": [],
   "source": []
  },
  {
   "cell_type": "code",
   "execution_count": 24,
   "metadata": {},
   "outputs": [
    {
     "data": {
      "text/plain": [
       "' while len(next_generation) < population_size:\\n    parent1, parent2 = random.choices(population, weights=fitness_values, k=2)\\n    child = []\\n    while len(child) < 3:\\n        gene = random.choice(parent1) if random.random() < 0.5 else random.choice(parent2)\\n        if gene not in child:\\n            child.append(gene)\\n    child = [1 if gene in child else 0 for gene in parent1]   # assume parent1 and parent2 have same genes\\n    if random.random() < mutation_rate:\\n        gene_to_mutate = random.randint(0, num_genes-1)\\n        child[gene_to_mutate] = 1 - child[gene_to_mutate]\\n    next_generation.append(child)\\n '"
      ]
     },
     "execution_count": 24,
     "metadata": {},
     "output_type": "execute_result"
    }
   ],
   "source": [
    "\"\"\" while len(next_generation) < population_size:\n",
    "    parent1, parent2 = random.choices(population, weights=fitness_values, k=2)\n",
    "    child = []\n",
    "    while len(child) < 3:\n",
    "        gene = random.choice(parent1) if random.random() < 0.5 else random.choice(parent2)\n",
    "        if gene not in child:\n",
    "            child.append(gene)\n",
    "    child = [1 if gene in child else 0 for gene in parent1]   # assume parent1 and parent2 have same genes\n",
    "    if random.random() < mutation_rate:\n",
    "        gene_to_mutate = random.randint(0, num_genes-1)\n",
    "        child[gene_to_mutate] = 1 - child[gene_to_mutate]\n",
    "    next_generation.append(child)\n",
    " \"\"\""
   ]
  },
  {
   "cell_type": "code",
   "execution_count": 25,
   "metadata": {},
   "outputs": [
    {
     "data": {
      "text/plain": [
       "' def genetic_algorithm(data, population_size, num_genes, calculate_fitness, mutation_rate, elitism_rate, num_generations):\\n    # initialize the population\\n    population = []\\n    for i in range(population_size):\\n        individual = [random.randint(0, 1) for j in range(num_genes)]   #######\\n        population.append(individual)\\n        # print(population)\\n\\n    # run the evolution loop for num_generations\\n    for generation in range(num_generations):\\n        # evaluate the fitness of each individual in the population\\n        fitness_values = [calculate_fitness(individual, data) for individual in population]\\n\\n        # select the fittest individuals for the next generation\\n        num_elites = int(elitism_rate * population_size)\\n        elites = sorted(range(len(population)), key=lambda i: fitness_values[i], reverse=True)[:num_elites]\\n        next_generation = [population[i] for i in elites]\\n\\n        # breed new individuals to fill the rest of the next generation\\n        while len(next_generation) < population_size:\\n            parent1, parent2 = random.choices(population, weights=fitness_values, k=2)\\n            child = [parent1[i] if random.random() < 0.5 else parent2[i] for i in range(num_genes)]   #########\\n            if random.random() < mutation_rate:\\n                gene_to_mutate = random.randint(0, num_genes-1)\\n                child[gene_to_mutate] = 1 - child[gene_to_mutate]\\n            next_generation.append(child)\\n\\n        # replace the old population with the new generation\\n        population = next_generation\\n        # print(population)\\n\\n    # return the fittest individual found\\n    return max(population, key=lambda individual: calculate_fitness(individual, data)) '"
      ]
     },
     "execution_count": 25,
     "metadata": {},
     "output_type": "execute_result"
    }
   ],
   "source": [
    "\"\"\" def genetic_algorithm(data, population_size, num_genes, calculate_fitness, mutation_rate, elitism_rate, num_generations):\n",
    "    # initialize the population\n",
    "    population = []\n",
    "    for i in range(population_size):\n",
    "        individual = [random.randint(0, 1) for j in range(num_genes)]   #######\n",
    "        population.append(individual)\n",
    "        # print(population)\n",
    "\n",
    "    # run the evolution loop for num_generations\n",
    "    for generation in range(num_generations):\n",
    "        # evaluate the fitness of each individual in the population\n",
    "        fitness_values = [calculate_fitness(individual, data) for individual in population]\n",
    "\n",
    "        # select the fittest individuals for the next generation\n",
    "        num_elites = int(elitism_rate * population_size)\n",
    "        elites = sorted(range(len(population)), key=lambda i: fitness_values[i], reverse=True)[:num_elites]\n",
    "        next_generation = [population[i] for i in elites]\n",
    "\n",
    "        # breed new individuals to fill the rest of the next generation\n",
    "        while len(next_generation) < population_size:\n",
    "            parent1, parent2 = random.choices(population, weights=fitness_values, k=2)\n",
    "            child = [parent1[i] if random.random() < 0.5 else parent2[i] for i in range(num_genes)]   #########\n",
    "            if random.random() < mutation_rate:\n",
    "                gene_to_mutate = random.randint(0, num_genes-1)\n",
    "                child[gene_to_mutate] = 1 - child[gene_to_mutate]\n",
    "            next_generation.append(child)\n",
    "\n",
    "        # replace the old population with the new generation\n",
    "        population = next_generation\n",
    "        # print(population)\n",
    "\n",
    "    # return the fittest individual found\n",
    "    return max(population, key=lambda individual: calculate_fitness(individual, data)) \"\"\""
   ]
  }
 ],
 "metadata": {
  "kernelspec": {
   "display_name": "base",
   "language": "python",
   "name": "python3"
  },
  "language_info": {
   "codemirror_mode": {
    "name": "ipython",
    "version": 3
   },
   "file_extension": ".py",
   "mimetype": "text/x-python",
   "name": "python",
   "nbconvert_exporter": "python",
   "pygments_lexer": "ipython3",
   "version": "3.8.5"
  },
  "orig_nbformat": 4
 },
 "nbformat": 4,
 "nbformat_minor": 2
}
