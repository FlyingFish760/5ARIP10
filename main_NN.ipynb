{
 "cells": [
  {
   "attachments": {},
   "cell_type": "markdown",
   "metadata": {},
   "source": [
    "This notebook can be used to create, train, validate and test the Neural Network."
   ]
  },
  {
   "attachments": {},
   "cell_type": "markdown",
   "metadata": {},
   "source": [
    "Add the needed packages:"
   ]
  },
  {
   "cell_type": "code",
   "execution_count": 1,
   "metadata": {},
   "outputs": [],
   "source": [
    "import os\n",
    "from torch.utils.data import DataLoader\n",
    "from sklearn.model_selection import train_test_split\n",
    "import torch.nn as nn\n",
    "import torch.optim as optim\n",
    "from torch.utils.data import DataLoader\n",
    "import matplotlib.pyplot as plt\n",
    "from torchinfo import summary\n",
    "\n",
    "from NN_config import Config\n",
    "from HD_DataLoader import *\n",
    "from NN_model import *\n"
   ]
  },
  {
   "attachments": {},
   "cell_type": "markdown",
   "metadata": {},
   "source": [
    "Load in the database and create the training, validation, and test set according to the chosen iteration, and input values:"
   ]
  },
  {
   "cell_type": "code",
   "execution_count": 3,
   "metadata": {},
   "outputs": [
    {
     "name": "stdout",
     "output_type": "stream",
     "text": [
      "---------------------------------------------------------\n",
      "Generating database for HD's\n"
     ]
    }
   ],
   "source": [
    "# Creating the dataset\n",
    "folder_path = os.path.join(os.getcwd(), 'HD_data') \n",
    "HD_class = HD(data_path = folder_path)\n",
    "\n",
    "# Dataset parameters\n",
    "version = 1                                             # With version '1' train on all HDs with '2' keep one faulty and one normal HD seperate for testing\n",
    "Mic = False                                             # Inlcude mic data with True or exclude with False\n",
    "Curr = True                                             # Inlcude mic data with True or exclude with False\n",
    "features_domain = {'Mic': 'freq', 'dSpace': 'time'}     # Select either 'time' or 'freq'\n",
    "\n",
    "if version==1:\n",
    "    db_train_and_test = HD_class.generate_database()\n",
    "\n",
    "    # The use of microphone data is set as well as current data can be set to True or False, and the domain in which they are used can be set to Frequency or Time\n",
    "    dataset = StatisticalFeaturesDataset(db_train_and_test, window_sec=2, selected_domain = features_domain, Mic_bool=Mic, Curr_bool=Curr)\n",
    "    train_dataset, test_dataset = train_test_split(dataset, test_size=0.2, random_state=42, shuffle=True)\n",
    "    train_dataset, val_dataset = train_test_split(dataset, test_size=0.3, random_state=42, shuffle=True)\n",
    "\n",
    "elif version==2:\n",
    "    db_train, db_test = HD_class.generate_database_test_train()\n",
    "\n",
    "    # The use of microphone data is set as well as current data can be set to True or False, and the domain in which they are used can be set to Frequency or Time\n",
    "    dataset_train = StatisticalFeaturesDataset(db_train, window_sec=2, selected_domain = features_domain, Mic_bool=Mic, Curr_bool=Curr)\n",
    "    train_dataset, val_dataset = train_test_split(dataset_train, test_size=0.3, random_state=42, shuffle=True)\n",
    "    test_dataset = StatisticalFeaturesDataset(db_test, window_sec=2, selected_domain = features_domain, Mic_bool=Mic, Curr_bool=Curr)\n",
    "\n",
    "# Creating data loaders\n",
    "batch_size = 32\n",
    "train_dataloader = DataLoader(train_dataset, batch_size=batch_size, shuffle=True)\n",
    "test_dataloader = DataLoader(test_dataset, batch_size=batch_size, shuffle=False)\n",
    "val_dataloader = DataLoader(val_dataset, batch_size=batch_size, shuffle=False)"
   ]
  },
  {
   "attachments": {},
   "cell_type": "markdown",
   "metadata": {},
   "source": [
    "Create the Neural Network:"
   ]
  },
  {
   "cell_type": "code",
   "execution_count": 4,
   "metadata": {},
   "outputs": [
    {
     "name": "stdout",
     "output_type": "stream",
     "text": [
      "The input dimension: 6\n",
      "The amound of batches in the train loaders: 16\n"
     ]
    },
    {
     "data": {
      "text/plain": [
       "==========================================================================================\n",
       "Layer (type:depth-idx)                   Output Shape              Param #\n",
       "==========================================================================================\n",
       "Classifier                               [32, 1]                   --\n",
       "├─Linear: 1-1                            [32, 20]                  140\n",
       "├─Linear: 1-2                            [32, 40]                  840\n",
       "├─Linear: 1-3                            [32, 20]                  820\n",
       "├─Linear: 1-4                            [32, 1]                   21\n",
       "├─Sigmoid: 1-5                           [32, 1]                   --\n",
       "==========================================================================================\n",
       "Total params: 1,821\n",
       "Trainable params: 1,821\n",
       "Non-trainable params: 0\n",
       "Total mult-adds (Units.MEGABYTES): 0.06\n",
       "==========================================================================================\n",
       "Input size (MB): 0.00\n",
       "Forward/backward pass size (MB): 0.02\n",
       "Params size (MB): 0.01\n",
       "Estimated Total Size (MB): 0.03\n",
       "=========================================================================================="
      ]
     },
     "execution_count": 4,
     "metadata": {},
     "output_type": "execute_result"
    }
   ],
   "source": [
    "train_features, train_labels = next(iter(train_dataloader))\n",
    "input_dim = train_features.shape[1]\n",
    "print('The input dimension: ' + str(input_dim))\n",
    "print('The amound of batches in the train loaders: ' + str(len(train_dataloader)))\n",
    "      \n",
    "cfg = Config()\n",
    "\n",
    "# Initialize network\n",
    "model = Classifier(input_dim)\n",
    "model.train()\n",
    "if cfg.enable_cuda:\n",
    "    model = model.cuda()\n",
    "\n",
    "criterion = nn.BCELoss()\n",
    "optimizer = optim.Adam(model.parameters(), lr=0.005)\n",
    "\n",
    "summary(model,input_size=(batch_size,input_dim))"
   ]
  },
  {
   "attachments": {},
   "cell_type": "markdown",
   "metadata": {},
   "source": [
    "Train the NN"
   ]
  },
  {
   "cell_type": "code",
   "execution_count": 8,
   "metadata": {},
   "outputs": [
    {
     "name": "stdout",
     "output_type": "stream",
     "text": [
      "Epoch [1/100], Training Loss: 0.0631, Validation Loss: 0.0732, Validation Accuracy: 94.91%\n",
      "Epoch [2/100], Training Loss: 0.0635, Validation Loss: 0.0634, Validation Accuracy: 94.91%\n",
      "Epoch [3/100], Training Loss: 0.0635, Validation Loss: 0.0562, Validation Accuracy: 96.76%\n",
      "Epoch [4/100], Training Loss: 0.0694, Validation Loss: 0.0710, Validation Accuracy: 94.91%\n",
      "Epoch [5/100], Training Loss: 0.0617, Validation Loss: 0.0631, Validation Accuracy: 94.91%\n",
      "Epoch [6/100], Training Loss: 0.0658, Validation Loss: 0.0804, Validation Accuracy: 94.91%\n",
      "Epoch [7/100], Training Loss: 0.0687, Validation Loss: 0.0609, Validation Accuracy: 96.76%\n",
      "Epoch [8/100], Training Loss: 0.0636, Validation Loss: 0.0622, Validation Accuracy: 94.91%\n",
      "Epoch [9/100], Training Loss: 0.0667, Validation Loss: 0.0582, Validation Accuracy: 96.30%\n",
      "Epoch [10/100], Training Loss: 0.0636, Validation Loss: 0.0606, Validation Accuracy: 94.91%\n",
      "Epoch [11/100], Training Loss: 0.0596, Validation Loss: 0.0731, Validation Accuracy: 94.91%\n",
      "Epoch [12/100], Training Loss: 0.0690, Validation Loss: 0.0649, Validation Accuracy: 94.91%\n",
      "Epoch [13/100], Training Loss: 0.0622, Validation Loss: 0.0567, Validation Accuracy: 96.76%\n",
      "Epoch [14/100], Training Loss: 0.0658, Validation Loss: 0.0685, Validation Accuracy: 94.91%\n",
      "Epoch [15/100], Training Loss: 0.0892, Validation Loss: 0.1098, Validation Accuracy: 94.44%\n",
      "Epoch [16/100], Training Loss: 0.0741, Validation Loss: 0.0759, Validation Accuracy: 96.76%\n",
      "Epoch [17/100], Training Loss: 0.1234, Validation Loss: 0.1464, Validation Accuracy: 90.74%\n",
      "Epoch [18/100], Training Loss: 0.2191, Validation Loss: 0.0975, Validation Accuracy: 96.30%\n",
      "Epoch [19/100], Training Loss: 0.1018, Validation Loss: 0.6272, Validation Accuracy: 85.65%\n",
      "Epoch [20/100], Training Loss: 0.2129, Validation Loss: 0.2279, Validation Accuracy: 91.67%\n",
      "Epoch [21/100], Training Loss: 0.3001, Validation Loss: 0.1046, Validation Accuracy: 93.52%\n",
      "Epoch [22/100], Training Loss: 0.2189, Validation Loss: 0.0733, Validation Accuracy: 94.91%\n",
      "Epoch [23/100], Training Loss: 0.0919, Validation Loss: 0.0690, Validation Accuracy: 95.83%\n",
      "Epoch [24/100], Training Loss: 0.0745, Validation Loss: 0.0798, Validation Accuracy: 94.91%\n",
      "Epoch [25/100], Training Loss: 0.0692, Validation Loss: 0.0733, Validation Accuracy: 94.91%\n",
      "Epoch [26/100], Training Loss: 0.0690, Validation Loss: 0.0675, Validation Accuracy: 94.91%\n",
      "Epoch [27/100], Training Loss: 0.0649, Validation Loss: 0.0629, Validation Accuracy: 96.76%\n",
      "Epoch [28/100], Training Loss: 0.0669, Validation Loss: 0.0637, Validation Accuracy: 94.91%\n",
      "Epoch [29/100], Training Loss: 0.0631, Validation Loss: 0.0648, Validation Accuracy: 94.91%\n",
      "Epoch [30/100], Training Loss: 0.0639, Validation Loss: 0.0626, Validation Accuracy: 94.91%\n",
      "Epoch [31/100], Training Loss: 0.0623, Validation Loss: 0.0620, Validation Accuracy: 95.37%\n",
      "Epoch [32/100], Training Loss: 0.0637, Validation Loss: 0.0621, Validation Accuracy: 94.91%\n",
      "Epoch [33/100], Training Loss: 0.0621, Validation Loss: 0.0642, Validation Accuracy: 94.91%\n",
      "Epoch [34/100], Training Loss: 0.0625, Validation Loss: 0.0601, Validation Accuracy: 95.83%\n",
      "Epoch [35/100], Training Loss: 0.0612, Validation Loss: 0.0630, Validation Accuracy: 94.91%\n",
      "Epoch [36/100], Training Loss: 0.0609, Validation Loss: 0.0640, Validation Accuracy: 94.91%\n",
      "Epoch [37/100], Training Loss: 0.0618, Validation Loss: 0.0585, Validation Accuracy: 96.76%\n",
      "Epoch [38/100], Training Loss: 0.0637, Validation Loss: 0.0608, Validation Accuracy: 94.91%\n",
      "Epoch [39/100], Training Loss: 0.0624, Validation Loss: 0.0628, Validation Accuracy: 94.91%\n",
      "Epoch [40/100], Training Loss: 0.0599, Validation Loss: 0.0581, Validation Accuracy: 96.76%\n",
      "Epoch [41/100], Training Loss: 0.0632, Validation Loss: 0.0593, Validation Accuracy: 95.83%\n",
      "Epoch [42/100], Training Loss: 0.0629, Validation Loss: 0.0661, Validation Accuracy: 94.91%\n",
      "Epoch [43/100], Training Loss: 0.0616, Validation Loss: 0.0604, Validation Accuracy: 94.91%\n",
      "Epoch [44/100], Training Loss: 0.0608, Validation Loss: 0.0638, Validation Accuracy: 94.91%\n",
      "Epoch [45/100], Training Loss: 0.0634, Validation Loss: 0.0612, Validation Accuracy: 94.91%\n",
      "Epoch [46/100], Training Loss: 0.0614, Validation Loss: 0.0655, Validation Accuracy: 94.91%\n",
      "Epoch [47/100], Training Loss: 0.0606, Validation Loss: 0.0590, Validation Accuracy: 95.83%\n",
      "Epoch [48/100], Training Loss: 0.0622, Validation Loss: 0.0665, Validation Accuracy: 94.91%\n",
      "Epoch [49/100], Training Loss: 0.0603, Validation Loss: 0.0589, Validation Accuracy: 95.83%\n",
      "Epoch [50/100], Training Loss: 0.0633, Validation Loss: 0.0571, Validation Accuracy: 96.76%\n",
      "Epoch [51/100], Training Loss: 0.0600, Validation Loss: 0.0603, Validation Accuracy: 94.91%\n",
      "Epoch [52/100], Training Loss: 0.0634, Validation Loss: 0.0679, Validation Accuracy: 94.91%\n",
      "Epoch [53/100], Training Loss: 0.0633, Validation Loss: 0.0607, Validation Accuracy: 94.91%\n",
      "Epoch [54/100], Training Loss: 0.0613, Validation Loss: 0.0591, Validation Accuracy: 95.37%\n",
      "Epoch [55/100], Training Loss: 0.0614, Validation Loss: 0.0588, Validation Accuracy: 95.83%\n",
      "Epoch [56/100], Training Loss: 0.0597, Validation Loss: 0.0596, Validation Accuracy: 94.91%\n",
      "Epoch [57/100], Training Loss: 0.0599, Validation Loss: 0.0571, Validation Accuracy: 96.76%\n",
      "Epoch [58/100], Training Loss: 0.0611, Validation Loss: 0.0640, Validation Accuracy: 94.91%\n",
      "Epoch [59/100], Training Loss: 0.0624, Validation Loss: 0.0637, Validation Accuracy: 94.91%\n",
      "Epoch [60/100], Training Loss: 0.0606, Validation Loss: 0.0606, Validation Accuracy: 94.91%\n",
      "Epoch [61/100], Training Loss: 0.0604, Validation Loss: 0.0635, Validation Accuracy: 94.91%\n",
      "Epoch [62/100], Training Loss: 0.0613, Validation Loss: 0.0637, Validation Accuracy: 94.91%\n",
      "Epoch [63/100], Training Loss: 0.0672, Validation Loss: 0.0609, Validation Accuracy: 94.91%\n",
      "Epoch [64/100], Training Loss: 0.0661, Validation Loss: 0.0610, Validation Accuracy: 94.91%\n",
      "Epoch [65/100], Training Loss: 0.0637, Validation Loss: 0.0616, Validation Accuracy: 94.91%\n",
      "Epoch [66/100], Training Loss: 0.0622, Validation Loss: 0.0613, Validation Accuracy: 94.91%\n",
      "Epoch [67/100], Training Loss: 0.0668, Validation Loss: 0.0578, Validation Accuracy: 96.30%\n",
      "Epoch [68/100], Training Loss: 0.0599, Validation Loss: 0.0601, Validation Accuracy: 94.91%\n",
      "Epoch [69/100], Training Loss: 0.0605, Validation Loss: 0.0601, Validation Accuracy: 94.91%\n",
      "Epoch [70/100], Training Loss: 0.0600, Validation Loss: 0.0582, Validation Accuracy: 95.37%\n",
      "Epoch [71/100], Training Loss: 0.0602, Validation Loss: 0.0733, Validation Accuracy: 94.91%\n",
      "Epoch [72/100], Training Loss: 0.0646, Validation Loss: 0.0615, Validation Accuracy: 94.91%\n",
      "Epoch [73/100], Training Loss: 0.0612, Validation Loss: 0.0649, Validation Accuracy: 94.91%\n",
      "Epoch [74/100], Training Loss: 0.0598, Validation Loss: 0.0571, Validation Accuracy: 97.22%\n",
      "Epoch [75/100], Training Loss: 0.0587, Validation Loss: 0.0600, Validation Accuracy: 94.91%\n",
      "Epoch [76/100], Training Loss: 0.0596, Validation Loss: 0.0640, Validation Accuracy: 94.91%\n",
      "Epoch [77/100], Training Loss: 0.0657, Validation Loss: 0.0559, Validation Accuracy: 96.76%\n",
      "Epoch [78/100], Training Loss: 0.0582, Validation Loss: 0.0647, Validation Accuracy: 94.91%\n",
      "Epoch [79/100], Training Loss: 0.0620, Validation Loss: 0.0604, Validation Accuracy: 94.91%\n",
      "Epoch [80/100], Training Loss: 0.0664, Validation Loss: 0.0560, Validation Accuracy: 96.76%\n",
      "Epoch [81/100], Training Loss: 0.0581, Validation Loss: 0.0671, Validation Accuracy: 94.91%\n",
      "Epoch [82/100], Training Loss: 0.0636, Validation Loss: 0.0611, Validation Accuracy: 94.91%\n",
      "Epoch [83/100], Training Loss: 0.0590, Validation Loss: 0.0572, Validation Accuracy: 97.22%\n",
      "Epoch [84/100], Training Loss: 0.0616, Validation Loss: 0.0654, Validation Accuracy: 94.91%\n",
      "Epoch [85/100], Training Loss: 0.0612, Validation Loss: 0.0585, Validation Accuracy: 94.91%\n",
      "Epoch [86/100], Training Loss: 0.0597, Validation Loss: 0.0572, Validation Accuracy: 96.30%\n",
      "Epoch [87/100], Training Loss: 0.0594, Validation Loss: 0.0573, Validation Accuracy: 96.30%\n",
      "Epoch [88/100], Training Loss: 0.0600, Validation Loss: 0.0584, Validation Accuracy: 94.91%\n",
      "Epoch [89/100], Training Loss: 0.0605, Validation Loss: 0.0599, Validation Accuracy: 94.91%\n",
      "Epoch [90/100], Training Loss: 0.0597, Validation Loss: 0.0561, Validation Accuracy: 96.76%\n",
      "Epoch [91/100], Training Loss: 0.0702, Validation Loss: 0.0678, Validation Accuracy: 94.91%\n",
      "Epoch [92/100], Training Loss: 0.0622, Validation Loss: 0.0560, Validation Accuracy: 96.76%\n",
      "Epoch [93/100], Training Loss: 0.0665, Validation Loss: 0.0579, Validation Accuracy: 95.37%\n",
      "Epoch [94/100], Training Loss: 0.0627, Validation Loss: 0.0663, Validation Accuracy: 94.91%\n",
      "Epoch [95/100], Training Loss: 0.0622, Validation Loss: 0.0603, Validation Accuracy: 94.91%\n",
      "Epoch [96/100], Training Loss: 0.0615, Validation Loss: 0.0572, Validation Accuracy: 96.76%\n",
      "Epoch [97/100], Training Loss: 0.0641, Validation Loss: 0.0566, Validation Accuracy: 96.76%\n",
      "Epoch [98/100], Training Loss: 0.0607, Validation Loss: 0.0600, Validation Accuracy: 94.91%\n",
      "Epoch [99/100], Training Loss: 0.0587, Validation Loss: 0.0592, Validation Accuracy: 94.91%\n",
      "Epoch [100/100], Training Loss: 0.0614, Validation Loss: 0.0592, Validation Accuracy: 94.91%\n",
      "Finished training.\n",
      "Saved trained model as model.pt.\n"
     ]
    }
   ],
   "source": [
    "# Track losses\n",
    "train_losses = []\n",
    "val_losses = []\n",
    "i = 0\n",
    "\n",
    "for epoch in range(cfg.num_epochs):\n",
    "    \n",
    "    #Training phase\n",
    "    model.train()  # Set the model in training mode\n",
    "    epoch_train_loss = 0.0\n",
    "\n",
    "    for i, data in enumerate(train_dataloader, 0):\n",
    "        # get the inputs; data is a list of [inputs, labels]\n",
    "        inputs, labels = data\n",
    "        labels = labels.float().reshape(-1,1)\n",
    "\n",
    "        # zero the parameter gradients\n",
    "        optimizer.zero_grad()\n",
    "\n",
    "        # forward + backward + optimize\n",
    "        outputs = model(inputs)\n",
    "        \n",
    "        loss = criterion(outputs, labels)\n",
    "        loss.backward()\n",
    "        optimizer.step()\n",
    "        \n",
    "        epoch_train_loss += loss.item()\n",
    "\n",
    "    # Validation phase\n",
    "    model.eval()  # Set the model in evaluation mode\n",
    "    val_loss = 0.0\n",
    "    correct = 0\n",
    "    total = 0\n",
    "\n",
    "    with torch.no_grad():\n",
    "            for i, data in enumerate(val_dataloader,0):\n",
    "                # get the inputs; data is a list of [inputs, labels]\n",
    "                inputs, labels = data\n",
    "                labels = labels.float().reshape(-1,1)\n",
    "\n",
    "                outputs = model(inputs)\n",
    "                loss = criterion(outputs, labels)\n",
    "                val_loss += loss.item()\n",
    "\n",
    "                predicted = (outputs >= 0.5).squeeze().long()\n",
    "                total += labels.size(0)\n",
    "                correct += predicted.eq(labels.squeeze()).sum().item()\n",
    "\n",
    "    # Print training validation metrics\n",
    "    val_loss /= len(val_dataloader)\n",
    "    val_acc = correct / total * 100\n",
    "    train_loss = epoch_train_loss / len(train_dataloader)\n",
    "\n",
    "    print(f\"Epoch [{epoch + 1}/{cfg.num_epochs}], Training Loss: {train_loss:.4f}, Validation Loss: {val_loss:.4f}, Validation Accuracy: {val_acc:.2f}%\")\n",
    "    \n",
    "    # Store losses\n",
    "    train_losses.append(train_loss)\n",
    "    val_losses.append(val_loss)\n",
    "\n",
    "print(\"Finished training.\")\n",
    "save_path = 'model.pt'\n",
    "torch.save(model.state_dict(), save_path)\n",
    "print(\"Saved trained model as {}.\".format(save_path))"
   ]
  },
  {
   "attachments": {},
   "cell_type": "markdown",
   "metadata": {},
   "source": [
    "Plot the losses:"
   ]
  },
  {
   "cell_type": "code",
   "execution_count": 6,
   "metadata": {},
   "outputs": [
    {
     "data": {
      "image/png": "[encoded data removed]",
      "text/plain": [
       "<Figure size 640x480 with 1 Axes>"
      ]
     },
     "metadata": {},
     "output_type": "display_data"
    }
   ],
   "source": [
    "plt.plot(range(1, cfg.num_epochs + 1), train_losses, label='Training Loss')\n",
    "plt.plot(range(1, cfg.num_epochs + 1), val_losses, label='Validation Loss')\n",
    "plt.xlabel('Epochs')\n",
    "plt.ylabel('Loss')\n",
    "plt.title('Training and Validation Loss')\n",
    "plt.legend()\n",
    "plt.grid()\n",
    "plt.show()"
   ]
  },
  {
   "attachments": {},
   "cell_type": "markdown",
   "metadata": {},
   "source": [
    "Test the model"
   ]
  },
  {
   "cell_type": "code",
   "execution_count": 7,
   "metadata": {},
   "outputs": [
    {
     "name": "stdout",
     "output_type": "stream",
     "text": [
      "Starting evaluation with the test set...\n",
      "Accuracy of the network on the 144 test images: 94.4 %\n",
      "Correct predictions: 136\n",
      "Total predictions: 144\n",
      "False positive rate: 0.0\n",
      "False negative rate: 0.0975609756097561\n",
      "Percentage of positively predicted samples: 0.5138888888888888\n"
     ]
    }
   ],
   "source": [
    "correct = 0\n",
    "total = 0\n",
    "\n",
    "# track false positive rate and false negative rate\n",
    "false_positive = 0\n",
    "true_positive = 0\n",
    "false_negative = 0\n",
    "true_negative = 0\n",
    "\n",
    "print(\"Starting evaluation with the test set...\")\n",
    "\n",
    "with torch.no_grad():\n",
    "    for i, data in enumerate(test_dataloader,0):\n",
    "        # get the inputs; data is a list of [inputs, labels]\n",
    "        inputs, labels = data\n",
    "        labels = labels.float().reshape(-1,1)\n",
    "\n",
    "        outputs = model(inputs)\n",
    "        loss = criterion(outputs, labels)\n",
    "        val_loss += loss.item()\n",
    "\n",
    "        predicted = (outputs >= 0.5).squeeze().long()\n",
    "        total += labels.size(0)\n",
    "        correct += predicted.eq(labels.squeeze()).sum().item()\n",
    "        \n",
    "        for i in range(len(predicted)):\n",
    "                    if predicted[i] == 1 and labels[i] == 0:\n",
    "                        false_positive += 1\n",
    "                    elif predicted[i] == 0 and labels[i] == 1:\n",
    "                        false_negative += 1\n",
    "                    elif predicted[i] == 1 and labels[i] == 1:\n",
    "                        true_positive += 1\n",
    "                    elif predicted[i] == 0 and labels[i] == 0:\n",
    "                        true_negative += 1\n",
    "\n",
    "print(\"Accuracy of the network on the {} test images: {} %\".format(total, round((correct/total*100), 1)) )\n",
    "print(\"Correct predictions: {}\".format(correct))\n",
    "print(\"Total predictions: {}\".format(total))\n",
    "\n",
    "false_positive_rate = false_positive / (false_positive + true_negative)\n",
    "false_negative_rate = false_negative / (false_negative + true_positive)\n",
    "\n",
    "print(\"False positive rate: \" + str(false_positive_rate))\n",
    "print(\"False negative rate: \" + str(false_negative_rate))\n",
    "print(\"Percentage of positively predicted samples: \" + str((false_positive + true_positive) / total))"
   ]
  }
 ],
 "metadata": {
  "kernelspec": {
   "display_name": "Course_5ARIP10",
   "language": "python",
   "name": "python3"
  },
  "language_info": {
   "codemirror_mode": {
    "name": "ipython",
    "version": 3
   },
   "file_extension": ".py",
   "mimetype": "text/x-python",
   "name": "python",
   "nbconvert_exporter": "python",
   "pygments_lexer": "ipython3",
   "version": "3.8.13"
  },
  "orig_nbformat": 4
 },
 "nbformat": 4,
 "nbformat_minor": 2
}
